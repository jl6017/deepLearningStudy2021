{
 "cells": [
  {
   "cell_type": "code",
   "execution_count": 180,
   "metadata": {},
   "outputs": [],
   "source": [
    "import torch\n",
    "import torchvision\n",
    "from torchvision.datasets import MNIST\n",
    "import torchvision.transforms as transforms\n",
    "from torch.utils.data import random_split, DataLoader\n",
    "import torch.nn as nn\n",
    "import torch.nn.functional as F\n",
    "import matplotlib.pyplot as plt\n",
    "%matplotlib inline"
   ]
  },
  {
   "cell_type": "code",
   "execution_count": 149,
   "metadata": {},
   "outputs": [
    {
     "data": {
      "text/plain": [
       "60000"
      ]
     },
     "execution_count": 149,
     "metadata": {},
     "output_type": "execute_result"
    }
   ],
   "source": [
    "dataset = MNIST(root='data/', download = True)\n",
    "len(dataset)"
   ]
  },
  {
   "cell_type": "code",
   "execution_count": 150,
   "metadata": {},
   "outputs": [
    {
     "data": {
      "text/plain": [
       "10000"
      ]
     },
     "execution_count": 150,
     "metadata": {},
     "output_type": "execute_result"
    }
   ],
   "source": [
    "test_dataset = MNIST(root='data/', train=False)\n",
    "len(test_dataset)"
   ]
  },
  {
   "cell_type": "code",
   "execution_count": 151,
   "metadata": {},
   "outputs": [
    {
     "name": "stdout",
     "output_type": "stream",
     "text": [
      "label:  0\n"
     ]
    },
    {
     "data": {
      "image/png": "[encoded data removed]",
      "text/plain": [
       "<Figure size 432x288 with 1 Axes>"
      ]
     },
     "metadata": {},
     "output_type": "display_data"
    }
   ],
   "source": [
    "image, label = dataset[1]\n",
    "plt.imshow(image, cmap='gray')\n",
    "print(\"label: \", label)"
   ]
  },
  {
   "cell_type": "code",
   "execution_count": 152,
   "metadata": {},
   "outputs": [],
   "source": [
    "# MNIST dataset (images and labels)\n",
    "dataset = MNIST(root='data/', \n",
    "                train=True,\n",
    "                transform=transforms.ToTensor())"
   ]
  },
  {
   "cell_type": "code",
   "execution_count": 153,
   "metadata": {},
   "outputs": [
    {
     "name": "stdout",
     "output_type": "stream",
     "text": [
      "torch.Size([1, 28, 28]) 5\n"
     ]
    }
   ],
   "source": [
    "img_tensor, label = dataset[0]\n",
    "print(img_tensor.shape, label)"
   ]
  },
  {
   "cell_type": "code",
   "execution_count": 154,
   "metadata": {},
   "outputs": [
    {
     "data": {
      "text/plain": [
       "(50000, 10000)"
      ]
     },
     "execution_count": 154,
     "metadata": {},
     "output_type": "execute_result"
    }
   ],
   "source": [
    "train_ds, val_ds = random_split(dataset, [50000, 10000])\n",
    "len(train_ds), len(val_ds)"
   ]
  },
  {
   "cell_type": "code",
   "execution_count": 155,
   "metadata": {},
   "outputs": [],
   "source": [
    "batch_size = 128\n",
    "\n",
    "train_loader = DataLoader(train_ds, batch_size, shuffle=True)\n",
    "val_loader = DataLoader(val_ds, batch_size)"
   ]
  },
  {
   "cell_type": "code",
   "execution_count": 156,
   "metadata": {},
   "outputs": [],
   "source": [
    "input_size  = 28 * 28\n",
    "num_classes = 10\n",
    "model = nn.Linear(input_size, num_classes)"
   ]
  },
  {
   "cell_type": "code",
   "execution_count": 157,
   "metadata": {},
   "outputs": [
    {
     "data": {
      "text/plain": [
       "[Parameter containing:\n",
       " tensor([[ 0.0310,  0.0010, -0.0299,  ..., -0.0201, -0.0193, -0.0063],\n",
       "         [ 0.0318,  0.0153,  0.0307,  ...,  0.0123,  0.0241, -0.0259],\n",
       "         [ 0.0080, -0.0345, -0.0182,  ..., -0.0030,  0.0126,  0.0048],\n",
       "         ...,\n",
       "         [ 0.0025, -0.0168, -0.0255,  ...,  0.0259, -0.0134, -0.0271],\n",
       "         [-0.0349, -0.0089,  0.0152,  ..., -0.0051, -0.0337, -0.0161],\n",
       "         [ 0.0079,  0.0030,  0.0007,  ...,  0.0201,  0.0213, -0.0210]],\n",
       "        requires_grad=True),\n",
       " Parameter containing:\n",
       " tensor([ 0.0060, -0.0271, -0.0118,  0.0143,  0.0116, -0.0099,  0.0332,  0.0236,\n",
       "         -0.0282,  0.0107], requires_grad=True)]"
      ]
     },
     "execution_count": 157,
     "metadata": {},
     "output_type": "execute_result"
    }
   ],
   "source": [
    "list(model.parameters())"
   ]
  },
  {
   "cell_type": "code",
   "execution_count": 158,
   "metadata": {},
   "outputs": [
    {
     "name": "stdout",
     "output_type": "stream",
     "text": [
      "torch.Size([128])\n",
      "torch.Size([128, 784])\n",
      "tensor([ 0.0139,  0.1872,  0.3135, -0.3272,  0.2612, -0.1745, -0.0126, -0.0965,\n",
      "         0.0020,  0.1576], grad_fn=<SelectBackward0>)\n"
     ]
    }
   ],
   "source": [
    "for images, labels in train_loader:\n",
    "    images = images.reshape(-1,784)\n",
    "    print(labels.shape)\n",
    "    print(images.shape)\n",
    "    outputs = model(images)\n",
    "    print(outputs[0])\n",
    "    break"
   ]
  },
  {
   "cell_type": "code",
   "execution_count": 159,
   "metadata": {},
   "outputs": [],
   "source": [
    "class MnistModel(nn.Module):\n",
    "    def __init__(self):\n",
    "        super().__init__()\n",
    "        self.linear = nn.Linear(input_size, num_classes)\n",
    "        \n",
    "    def forward(self, xb):\n",
    "        xb = xb.reshape(-1, 784)\n",
    "        out = self.linear(xb)\n",
    "        return out\n",
    "    \n",
    "model = MnistModel()"
   ]
  },
  {
   "cell_type": "code",
   "execution_count": 160,
   "metadata": {},
   "outputs": [
    {
     "data": {
      "text/plain": [
       "Linear(in_features=784, out_features=10, bias=True)"
      ]
     },
     "execution_count": 160,
     "metadata": {},
     "output_type": "execute_result"
    }
   ],
   "source": [
    "model.linear"
   ]
  },
  {
   "cell_type": "code",
   "execution_count": 161,
   "metadata": {},
   "outputs": [
    {
     "data": {
      "text/plain": [
       "[Parameter containing:\n",
       " tensor([[-0.0250, -0.0241, -0.0217,  ..., -0.0184,  0.0122,  0.0343],\n",
       "         [ 0.0337, -0.0310,  0.0334,  ...,  0.0042, -0.0334,  0.0298],\n",
       "         [-0.0164,  0.0124, -0.0018,  ..., -0.0136,  0.0144, -0.0105],\n",
       "         ...,\n",
       "         [-0.0098, -0.0116, -0.0068,  ..., -0.0281,  0.0142,  0.0011],\n",
       "         [-0.0311, -0.0175, -0.0203,  ...,  0.0064,  0.0258, -0.0006],\n",
       "         [-0.0032, -0.0034,  0.0129,  ..., -0.0334,  0.0292,  0.0086]],\n",
       "        requires_grad=True),\n",
       " Parameter containing:\n",
       " tensor([ 0.0105,  0.0054,  0.0246, -0.0303,  0.0327,  0.0067, -0.0060,  0.0122,\n",
       "         -0.0210,  0.0146], requires_grad=True)]"
      ]
     },
     "execution_count": 161,
     "metadata": {},
     "output_type": "execute_result"
    }
   ],
   "source": [
    "list(model.parameters())"
   ]
  },
  {
   "cell_type": "code",
   "execution_count": 162,
   "metadata": {},
   "outputs": [
    {
     "name": "stdout",
     "output_type": "stream",
     "text": [
      "torch.Size([128, 1, 28, 28])\n",
      "tensor([[ 0.0066,  0.2558, -0.1170, -0.0712, -0.3823, -0.0849, -0.2989,  0.1188,\n",
      "          0.1442,  0.0589],\n",
      "        [ 0.1628,  0.2116, -0.6214, -0.1728, -0.3714, -0.2145, -0.4203, -0.0871,\n",
      "          0.2125,  0.1486]], grad_fn=<SliceBackward0>)\n"
     ]
    }
   ],
   "source": [
    "for images, labels in train_loader:\n",
    "    print(images.shape)\n",
    "    outputs = model(images)\n",
    "    print(outputs[:2])\n",
    "    break"
   ]
  },
  {
   "cell_type": "code",
   "execution_count": 163,
   "metadata": {},
   "outputs": [
    {
     "name": "stdout",
     "output_type": "stream",
     "text": [
      "tensor([[0.1027, 0.1317, 0.0907, 0.0950, 0.0696, 0.0937, 0.0756, 0.1149, 0.1178,\n",
      "         0.1082],\n",
      "        [0.1271, 0.1335, 0.0580, 0.0909, 0.0745, 0.0872, 0.0709, 0.0990, 0.1336,\n",
      "         0.1253]], grad_fn=<SliceBackward0>)\n",
      "1.0000001192092896\n"
     ]
    }
   ],
   "source": [
    "probs = F.softmax(outputs, dim = 1)\n",
    "print(probs[:2])\n",
    "print(torch.sum(probs[0]).item())"
   ]
  },
  {
   "cell_type": "code",
   "execution_count": 164,
   "metadata": {},
   "outputs": [
    {
     "name": "stdout",
     "output_type": "stream",
     "text": [
      "tensor([1, 8, 8, 8, 1, 8, 1, 8, 8, 9, 1, 8, 8, 8, 8, 8, 1, 8, 8, 1, 7, 8, 8, 1,\n",
      "        8, 8, 8, 8, 8, 8, 8, 1, 1, 7, 8, 1, 8, 8, 8, 8, 1, 8, 8, 7, 8, 7, 8, 7,\n",
      "        8, 8, 1, 8, 8, 1, 8, 8, 8, 8, 8, 8, 8, 8, 7, 1, 8, 1, 8, 8, 8, 1, 7, 7,\n",
      "        8, 7, 8, 8, 1, 8, 7, 5, 8, 8, 9, 8, 1, 8, 8, 3, 8, 8, 9, 1, 8, 1, 8, 8,\n",
      "        8, 1, 8, 1, 8, 8, 0, 1, 1, 1, 8, 8, 8, 1, 8, 8, 8, 7, 8, 8, 8, 8, 8, 8,\n",
      "        1, 1, 8, 8, 8, 8, 8, 8])\n",
      "tensor([7, 5, 3, 7, 9, 1, 9, 4, 2, 5, 9, 8, 4, 3, 0, 8, 4, 5, 4, 9, 3, 1, 2, 8,\n",
      "        0, 2, 0, 2, 2, 2, 3, 7, 7, 4, 4, 9, 7, 1, 7, 1, 6, 4, 9, 5, 0, 0, 1, 0,\n",
      "        7, 2, 7, 5, 3, 7, 7, 3, 3, 7, 1, 2, 8, 3, 1, 4, 6, 7, 5, 9, 2, 9, 0, 0,\n",
      "        6, 2, 6, 7, 7, 3, 7, 7, 3, 3, 8, 3, 4, 0, 6, 7, 0, 0, 1, 6, 3, 7, 0, 8,\n",
      "        5, 4, 8, 4, 6, 6, 5, 9, 5, 9, 0, 6, 6, 7, 6, 0, 0, 3, 8, 2, 2, 9, 9, 5,\n",
      "        4, 2, 4, 4, 8, 2, 5, 3])\n"
     ]
    }
   ],
   "source": [
    "max_probs, preds = torch.max(probs, dim=1)\n",
    "print(preds)\n",
    "print(labels)"
   ]
  },
  {
   "cell_type": "code",
   "execution_count": 165,
   "metadata": {},
   "outputs": [
    {
     "data": {
      "text/plain": [
       "tensor(0.0625)"
      ]
     },
     "execution_count": 165,
     "metadata": {},
     "output_type": "execute_result"
    }
   ],
   "source": [
    "def accuracy(outputs, labels):\n",
    "    _, preds = torch.max(outputs, dim=1)\n",
    "    return torch.tensor(torch.sum(preds == labels).item() / len(preds))\n",
    "accuracy(outputs, labels)"
   ]
  },
  {
   "cell_type": "code",
   "execution_count": 166,
   "metadata": {},
   "outputs": [
    {
     "data": {
      "text/plain": [
       "tensor([[ 0.0066,  0.2558, -0.1170,  ...,  0.1188,  0.1442,  0.0589],\n",
       "        [ 0.1628,  0.2116, -0.6214,  ..., -0.0871,  0.2125,  0.1486],\n",
       "        [-0.0487,  0.2205, -0.4560,  ...,  0.0999,  0.4954, -0.0896],\n",
       "        ...,\n",
       "        [-0.1581,  0.1754, -0.3866,  ..., -0.0094,  0.4533, -0.0024],\n",
       "        [-0.1852, -0.0150, -0.0374,  ...,  0.0204,  0.2952,  0.1101],\n",
       "        [-0.0162,  0.1057, -0.0882,  ..., -0.0192,  0.3886,  0.1802]],\n",
       "       grad_fn=<AddmmBackward0>)"
      ]
     },
     "execution_count": 166,
     "metadata": {},
     "output_type": "execute_result"
    }
   ],
   "source": [
    "outputs"
   ]
  },
  {
   "cell_type": "code",
   "execution_count": 167,
   "metadata": {},
   "outputs": [
    {
     "data": {
      "text/plain": [
       "tensor(2.3343, grad_fn=<NllLossBackward0>)"
      ]
     },
     "execution_count": 167,
     "metadata": {},
     "output_type": "execute_result"
    }
   ],
   "source": [
    "loss_fn = F.cross_entropy\n",
    "loss_fn(outputs, labels)"
   ]
  },
  {
   "cell_type": "code",
   "execution_count": 168,
   "metadata": {},
   "outputs": [],
   "source": [
    "def evaluate(model, val_loader):\n",
    "    outputs = [model.validation_step(batch) for batch in val_loader]\n",
    "    return model.validation_epoch_end(outputs)\n",
    "    \n",
    "def fit(epochs, lr, model, train_loader, val_loader, opt_func=torch.optim.SGD):\n",
    "    optimizer = opt_func(model.parameters(), lr)\n",
    "    history = [] # for recording epoch-wise results\n",
    "    \n",
    "    for epoch in range(epochs):\n",
    "        \n",
    "        # Training Phase \n",
    "        for batch in train_loader:\n",
    "            loss = model.training_step(batch)\n",
    "            loss.backward()\n",
    "            optimizer.step()\n",
    "            optimizer.zero_grad()\n",
    "        \n",
    "        # Validation phase\n",
    "        result = evaluate(model, val_loader)\n",
    "        model.epoch_end(epoch, result)\n",
    "        history.append(result)\n",
    "\n",
    "    return history"
   ]
  },
  {
   "cell_type": "code",
   "execution_count": 169,
   "metadata": {},
   "outputs": [],
   "source": [
    "class MnistModel(nn.Module):\n",
    "    def __init__(self):\n",
    "        super().__init__()\n",
    "        self.linear = nn.Linear(input_size, num_classes)\n",
    "        \n",
    "    def forward(self, xb):\n",
    "        xb = xb.reshape(-1, 784)\n",
    "        out = self.linear(xb)\n",
    "        return out\n",
    "    \n",
    "    def training_step(self, batch):\n",
    "        images, labels = batch \n",
    "        out = self(images)                  # Generate predictions\n",
    "        loss = F.cross_entropy(out, labels) # Calculate loss\n",
    "        return loss\n",
    "    \n",
    "    def validation_step(self, batch):\n",
    "        images, labels = batch \n",
    "        out = self(images)                    # Generate predictions\n",
    "        loss = F.cross_entropy(out, labels)   # Calculate loss\n",
    "        acc = accuracy(out, labels)           # Calculate accuracy\n",
    "        return {'val_loss': loss, 'val_acc': acc}\n",
    "        \n",
    "    def validation_epoch_end(self, outputs):\n",
    "        batch_losses = [x['val_loss'] for x in outputs]\n",
    "        epoch_loss = torch.stack(batch_losses).mean()   # Combine losses\n",
    "        batch_accs = [x['val_acc'] for x in outputs]\n",
    "        epoch_acc = torch.stack(batch_accs).mean()      # Combine accuracies\n",
    "        return {'val_loss': epoch_loss.item(), 'val_acc': epoch_acc.item()}\n",
    "    \n",
    "    def epoch_end(self, epoch, result):\n",
    "        print(\"Epoch [{}], val_loss: {:.4f}, val_acc: {:.4f}\".format(epoch, result['val_loss'], result['val_acc']))\n",
    "    \n",
    "model = MnistModel()"
   ]
  },
  {
   "cell_type": "code",
   "execution_count": 170,
   "metadata": {},
   "outputs": [
    {
     "data": {
      "text/plain": [
       "{'val_loss': 2.3498806953430176, 'val_acc': 0.04994066432118416}"
      ]
     },
     "execution_count": 170,
     "metadata": {},
     "output_type": "execute_result"
    }
   ],
   "source": [
    "result0 = evaluate(model, val_loader)\n",
    "result0"
   ]
  },
  {
   "cell_type": "code",
   "execution_count": 171,
   "metadata": {},
   "outputs": [
    {
     "name": "stdout",
     "output_type": "stream",
     "text": [
      "Epoch [0], val_loss: 1.9632, val_acc: 0.5925\n",
      "Epoch [1], val_loss: 1.6868, val_acc: 0.7197\n",
      "Epoch [2], val_loss: 1.4815, val_acc: 0.7582\n",
      "Epoch [3], val_loss: 1.3273, val_acc: 0.7826\n",
      "Epoch [4], val_loss: 1.2091, val_acc: 0.7966\n",
      "Epoch [5], val_loss: 1.1166, val_acc: 0.8055\n",
      "Epoch [6], val_loss: 1.0426, val_acc: 0.8133\n",
      "Epoch [7], val_loss: 0.9822, val_acc: 0.8199\n",
      "Epoch [8], val_loss: 0.9319, val_acc: 0.8242\n",
      "Epoch [9], val_loss: 0.8895, val_acc: 0.8282\n",
      "Epoch [10], val_loss: 0.8531, val_acc: 0.8312\n",
      "Epoch [11], val_loss: 0.8216, val_acc: 0.8334\n",
      "Epoch [12], val_loss: 0.7940, val_acc: 0.8359\n",
      "Epoch [13], val_loss: 0.7697, val_acc: 0.8386\n",
      "Epoch [14], val_loss: 0.7480, val_acc: 0.8404\n",
      "Epoch [15], val_loss: 0.7286, val_acc: 0.8434\n",
      "Epoch [16], val_loss: 0.7110, val_acc: 0.8444\n",
      "Epoch [17], val_loss: 0.6950, val_acc: 0.8461\n",
      "Epoch [18], val_loss: 0.6805, val_acc: 0.8480\n",
      "Epoch [19], val_loss: 0.6672, val_acc: 0.8495\n"
     ]
    }
   ],
   "source": [
    "history1 = fit(20, 0.001, model, train_loader, val_loader)"
   ]
  },
  {
   "cell_type": "code",
   "execution_count": 172,
   "metadata": {},
   "outputs": [
    {
     "name": "stdout",
     "output_type": "stream",
     "text": [
      "Epoch [0], val_loss: 0.6549, val_acc: 0.8509\n",
      "Epoch [1], val_loss: 0.6435, val_acc: 0.8518\n",
      "Epoch [2], val_loss: 0.6330, val_acc: 0.8538\n",
      "Epoch [3], val_loss: 0.6232, val_acc: 0.8558\n",
      "Epoch [4], val_loss: 0.6140, val_acc: 0.8576\n",
      "Epoch [5], val_loss: 0.6055, val_acc: 0.8585\n",
      "Epoch [6], val_loss: 0.5975, val_acc: 0.8593\n",
      "Epoch [7], val_loss: 0.5899, val_acc: 0.8606\n",
      "Epoch [8], val_loss: 0.5828, val_acc: 0.8616\n",
      "Epoch [9], val_loss: 0.5761, val_acc: 0.8621\n",
      "Epoch [10], val_loss: 0.5697, val_acc: 0.8630\n",
      "Epoch [11], val_loss: 0.5637, val_acc: 0.8636\n",
      "Epoch [12], val_loss: 0.5580, val_acc: 0.8645\n",
      "Epoch [13], val_loss: 0.5525, val_acc: 0.8656\n",
      "Epoch [14], val_loss: 0.5473, val_acc: 0.8661\n",
      "Epoch [15], val_loss: 0.5424, val_acc: 0.8667\n",
      "Epoch [16], val_loss: 0.5376, val_acc: 0.8676\n",
      "Epoch [17], val_loss: 0.5331, val_acc: 0.8683\n",
      "Epoch [18], val_loss: 0.5288, val_acc: 0.8685\n",
      "Epoch [19], val_loss: 0.5246, val_acc: 0.8686\n"
     ]
    }
   ],
   "source": [
    "history2 = fit(20, 0.001, model, train_loader, val_loader)"
   ]
  },
  {
   "cell_type": "code",
   "execution_count": 173,
   "metadata": {},
   "outputs": [
    {
     "name": "stdout",
     "output_type": "stream",
     "text": [
      "Epoch [0], val_loss: 0.5207, val_acc: 0.8695\n",
      "Epoch [1], val_loss: 0.5168, val_acc: 0.8703\n",
      "Epoch [2], val_loss: 0.5131, val_acc: 0.8709\n",
      "Epoch [3], val_loss: 0.5096, val_acc: 0.8713\n",
      "Epoch [4], val_loss: 0.5062, val_acc: 0.8711\n",
      "Epoch [5], val_loss: 0.5029, val_acc: 0.8719\n",
      "Epoch [6], val_loss: 0.4997, val_acc: 0.8721\n",
      "Epoch [7], val_loss: 0.4966, val_acc: 0.8733\n",
      "Epoch [8], val_loss: 0.4937, val_acc: 0.8737\n",
      "Epoch [9], val_loss: 0.4908, val_acc: 0.8740\n",
      "Epoch [10], val_loss: 0.4880, val_acc: 0.8743\n",
      "Epoch [11], val_loss: 0.4854, val_acc: 0.8747\n",
      "Epoch [12], val_loss: 0.4827, val_acc: 0.8755\n",
      "Epoch [13], val_loss: 0.4802, val_acc: 0.8757\n",
      "Epoch [14], val_loss: 0.4778, val_acc: 0.8765\n",
      "Epoch [15], val_loss: 0.4754, val_acc: 0.8770\n",
      "Epoch [16], val_loss: 0.4731, val_acc: 0.8777\n",
      "Epoch [17], val_loss: 0.4708, val_acc: 0.8779\n",
      "Epoch [18], val_loss: 0.4687, val_acc: 0.8788\n",
      "Epoch [19], val_loss: 0.4665, val_acc: 0.8786\n"
     ]
    }
   ],
   "source": [
    "history3 = fit(20, 0.001, model, train_loader, val_loader)"
   ]
  },
  {
   "cell_type": "code",
   "execution_count": 174,
   "metadata": {},
   "outputs": [
    {
     "data": {
      "text/plain": [
       "Text(0.5, 1.0, 'Accuracy vs. No. of epochs')"
      ]
     },
     "execution_count": 174,
     "metadata": {},
     "output_type": "execute_result"
    },
    {
     "data": {
      "image/png": "[encoded data removed]",
      "text/plain": [
       "<Figure size 432x288 with 1 Axes>"
      ]
     },
     "metadata": {},
     "output_type": "display_data"
    }
   ],
   "source": [
    "history = [result0] + history1 + history2 + history3\n",
    "accuracies = [result['val_acc'] for result in history]\n",
    "plt.plot(accuracies, '-x')\n",
    "plt.xlabel('epoch')\n",
    "plt.ylabel('accuracy')\n",
    "plt.title('Accuracy vs. No. of epochs')"
   ]
  },
  {
   "cell_type": "code",
   "execution_count": 175,
   "metadata": {},
   "outputs": [
    {
     "name": "stdout",
     "output_type": "stream",
     "text": [
      "7\n"
     ]
    },
    {
     "data": {
      "text/plain": [
       "torch.Size([1, 28, 28])"
      ]
     },
     "execution_count": 175,
     "metadata": {},
     "output_type": "execute_result"
    }
   ],
   "source": [
    "# Define test dataset\n",
    "test_dataset = MNIST(root='data/', \n",
    "                     train=False,\n",
    "                     transform=transforms.ToTensor())\n",
    "\n",
    "img, label = test_dataset[0]\n",
    "# plt.imshow(img, cmap=\"gray\")\n",
    "print(label)\n",
    "img.shape"
   ]
  },
  {
   "cell_type": "code",
   "execution_count": 176,
   "metadata": {},
   "outputs": [
    {
     "data": {
      "text/plain": [
       "7"
      ]
     },
     "execution_count": 176,
     "metadata": {},
     "output_type": "execute_result"
    }
   ],
   "source": [
    "def predict_img(img, model):\n",
    "    xb = img.unsqueeze(0)\n",
    "    yb = model(xb)\n",
    "    _, pred = torch.max(yb, dim=1)\n",
    "    return pred.item()\n",
    "predict_img(img, model)"
   ]
  },
  {
   "cell_type": "code",
   "execution_count": 177,
   "metadata": {},
   "outputs": [
    {
     "name": "stdout",
     "output_type": "stream",
     "text": [
      "Label: 7 , Predicted: 7\n"
     ]
    },
    {
     "data": {
      "image/png": "[encoded data removed]",
      "text/plain": [
       "<Figure size 432x288 with 1 Axes>"
      ]
     },
     "metadata": {},
     "output_type": "display_data"
    }
   ],
   "source": [
    "img, label = test_dataset[0]\n",
    "plt.imshow(img[0], cmap='gray')\n",
    "print('Label:', label, ', Predicted:', predict_img(img, model))"
   ]
  },
  {
   "cell_type": "code",
   "execution_count": 178,
   "metadata": {},
   "outputs": [
    {
     "name": "stdout",
     "output_type": "stream",
     "text": [
      "Label: 7 , Predicted: 7 Yes\n",
      "Label: 2 , Predicted: 2 Yes\n",
      "Label: 1 , Predicted: 1 Yes\n",
      "Label: 0 , Predicted: 0 Yes\n",
      "Label: 4 , Predicted: 4 Yes\n",
      "Label: 1 , Predicted: 1 Yes\n",
      "Label: 4 , Predicted: 4 Yes\n",
      "Label: 9 , Predicted: 9 Yes\n",
      "Label: 5 , Predicted: 6 No\n",
      "Label: 9 , Predicted: 9 Yes\n",
      "Label: 0 , Predicted: 0 Yes\n",
      "Label: 6 , Predicted: 6 Yes\n",
      "Label: 9 , Predicted: 9 Yes\n",
      "Label: 0 , Predicted: 0 Yes\n",
      "Label: 1 , Predicted: 1 Yes\n",
      "Label: 5 , Predicted: 5 Yes\n",
      "Label: 9 , Predicted: 9 Yes\n",
      "Label: 7 , Predicted: 7 Yes\n",
      "Label: 3 , Predicted: 3 Yes\n",
      "Label: 4 , Predicted: 4 Yes\n"
     ]
    }
   ],
   "source": [
    "for i in range(20):\n",
    "    img, label = test_dataset[i]\n",
    "    if label == predict_img(img, model):\n",
    "        print('Label:', label, ', Predicted:', predict_img(img, model), \"Yes\")\n",
    "    else:\n",
    "        print('Label:', label, ', Predicted:', predict_img(img, model), \"No\")"
   ]
  },
  {
   "cell_type": "code",
   "execution_count": 179,
   "metadata": {},
   "outputs": [
    {
     "data": {
      "text/plain": [
       "{'val_loss': 0.4442563056945801, 'val_acc': 0.888378918170929}"
      ]
     },
     "execution_count": 179,
     "metadata": {},
     "output_type": "execute_result"
    }
   ],
   "source": [
    "test_loader = DataLoader(test_dataset, batch_size=256)\n",
    "result = evaluate(model, test_loader)\n",
    "result"
   ]
  }
 ],
 "metadata": {
  "interpreter": {
   "hash": "e7cb1b9ae4d417fedf7f40a8eec98f7cfbd359e096bd857395a915f4609834ce"
  },
  "kernelspec": {
   "display_name": "Python 3.9.5 64-bit ('base': conda)",
   "language": "python",
   "name": "python3"
  },
  "language_info": {
   "codemirror_mode": {
    "name": "ipython",
    "version": 3
   },
   "file_extension": ".py",
   "mimetype": "text/x-python",
   "name": "python",
   "nbconvert_exporter": "python",
   "pygments_lexer": "ipython3",
   "version": "3.9.5"
  },
  "orig_nbformat": 4
 },
 "nbformat": 4,
 "nbformat_minor": 2
}
