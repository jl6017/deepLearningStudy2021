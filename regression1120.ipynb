{
 "cells": [
  {
   "cell_type": "code",
   "execution_count": 54,
   "metadata": {},
   "outputs": [],
   "source": [
    "import torch\n",
    "import torchvision\n",
    "from torchvision.datasets import MNIST\n",
    "import torchvision.transforms as transforms\n",
    "from torch.utils.data import random_split, DataLoader\n",
    "import torch.nn as nn\n",
    "import torch.nn.functional as F\n",
    "\n",
    "import matplotlib.pyplot as plt\n",
    "%matplotlib inline"
   ]
  },
  {
   "cell_type": "code",
   "execution_count": 12,
   "metadata": {},
   "outputs": [
    {
     "data": {
      "text/plain": [
       "60000"
      ]
     },
     "execution_count": 12,
     "metadata": {},
     "output_type": "execute_result"
    }
   ],
   "source": [
    "dataset = MNIST(root='data/', download = True)\n",
    "len(dataset)"
   ]
  },
  {
   "cell_type": "code",
   "execution_count": 13,
   "metadata": {},
   "outputs": [
    {
     "data": {
      "text/plain": [
       "10000"
      ]
     },
     "execution_count": 13,
     "metadata": {},
     "output_type": "execute_result"
    }
   ],
   "source": [
    "test_dataset = MNIST(root='data/', train=False)\n",
    "len(test_dataset)"
   ]
  },
  {
   "cell_type": "code",
   "execution_count": 14,
   "metadata": {},
   "outputs": [
    {
     "name": "stdout",
     "output_type": "stream",
     "text": [
      "label:  0\n"
     ]
    },
    {
     "data": {
      "image/png": "[encoded data removed]",
      "text/plain": [
       "<Figure size 432x288 with 1 Axes>"
      ]
     },
     "metadata": {
      "needs_background": "light"
     },
     "output_type": "display_data"
    }
   ],
   "source": [
    "image, label = dataset[1]\n",
    "plt.imshow(image, cmap='gray')\n",
    "print(\"label: \", label)"
   ]
  },
  {
   "cell_type": "code",
   "execution_count": 15,
   "metadata": {},
   "outputs": [],
   "source": [
    "# MNIST dataset (images and labels)\n",
    "dataset = MNIST(root='data/', \n",
    "                train=True,\n",
    "                transform=transforms.ToTensor())"
   ]
  },
  {
   "cell_type": "code",
   "execution_count": 16,
   "metadata": {},
   "outputs": [
    {
     "name": "stdout",
     "output_type": "stream",
     "text": [
      "torch.Size([1, 28, 28]) 5\n"
     ]
    }
   ],
   "source": [
    "img_tensor, label = dataset[0]\n",
    "print(img_tensor.shape, label)"
   ]
  },
  {
   "cell_type": "code",
   "execution_count": 17,
   "metadata": {},
   "outputs": [
    {
     "data": {
      "text/plain": [
       "(50000, 10000)"
      ]
     },
     "execution_count": 17,
     "metadata": {},
     "output_type": "execute_result"
    }
   ],
   "source": [
    "train_ds, val_ds = random_split(dataset, [50000, 10000])\n",
    "len(train_ds), len(val_ds)"
   ]
  },
  {
   "cell_type": "code",
   "execution_count": 80,
   "metadata": {},
   "outputs": [
    {
     "data": {
      "text/plain": [
       "<torch.utils.data.dataloader.DataLoader at 0x7f78589464c0>"
      ]
     },
     "execution_count": 80,
     "metadata": {},
     "output_type": "execute_result"
    }
   ],
   "source": [
    "batch_size = 128\n",
    "\n",
    "train_loader = DataLoader(train_ds, batch_size, shuffle=True)\n",
    "val_loader = DataLoader(val_ds, batch_size)"
   ]
  },
  {
   "cell_type": "code",
   "execution_count": 19,
   "metadata": {},
   "outputs": [],
   "source": [
    "input_size  = 28 * 28\n",
    "num_classes = 10\n",
    "model = nn.Linear(input_size, num_classes)"
   ]
  },
  {
   "cell_type": "code",
   "execution_count": 20,
   "metadata": {},
   "outputs": [
    {
     "data": {
      "text/plain": [
       "[Parameter containing:\n",
       " tensor([[-0.0144,  0.0015, -0.0214,  ...,  0.0011, -0.0141,  0.0327],\n",
       "         [-0.0257,  0.0050,  0.0184,  ...,  0.0030, -0.0146,  0.0063],\n",
       "         [ 0.0237, -0.0329,  0.0331,  ..., -0.0237, -0.0338,  0.0079],\n",
       "         ...,\n",
       "         [ 0.0304,  0.0290, -0.0051,  ..., -0.0220, -0.0133,  0.0235],\n",
       "         [-0.0319,  0.0063,  0.0127,  ...,  0.0229, -0.0207, -0.0346],\n",
       "         [-0.0226,  0.0173, -0.0257,  ...,  0.0016, -0.0177,  0.0098]],\n",
       "        requires_grad=True),\n",
       " Parameter containing:\n",
       " tensor([-0.0116, -0.0127,  0.0113, -0.0238, -0.0127,  0.0314,  0.0173,  0.0321,\n",
       "         -0.0286, -0.0216], requires_grad=True)]"
      ]
     },
     "execution_count": 20,
     "metadata": {},
     "output_type": "execute_result"
    }
   ],
   "source": [
    "list(model.parameters())"
   ]
  },
  {
   "cell_type": "code",
   "execution_count": 47,
   "metadata": {},
   "outputs": [
    {
     "name": "stdout",
     "output_type": "stream",
     "text": [
      "torch.Size([128])\n",
      "torch.Size([128, 784])\n",
      "tensor([ 0.1742,  0.2841, -0.1660, -0.0829,  0.0900, -0.0186, -0.2147, -0.1554,\n",
      "         0.0520, -0.5084], grad_fn=<SelectBackward0>)\n"
     ]
    }
   ],
   "source": [
    "for images, labels in train_loader:\n",
    "    images = images.reshape(-1,784)\n",
    "    print(labels.shape)\n",
    "    print(images.shape)\n",
    "    outputs = model(images)\n",
    "    print(outputs[0])\n",
    "    break"
   ]
  },
  {
   "cell_type": "code",
   "execution_count": 44,
   "metadata": {},
   "outputs": [],
   "source": [
    "class MnistModel(nn.Module):\n",
    "    def __init__(self):\n",
    "        super().__init__()\n",
    "        self.linear = nn.Linear(input_size, num_classes)\n",
    "        \n",
    "    def forward(self, xb):\n",
    "        xb = xb.reshape(-1, 784)\n",
    "        out = self.linear(xb)\n",
    "        return out\n",
    "    \n",
    "model = MnistModel()"
   ]
  },
  {
   "cell_type": "code",
   "execution_count": 38,
   "metadata": {},
   "outputs": [
    {
     "data": {
      "text/plain": [
       "Linear(in_features=784, out_features=10, bias=True)"
      ]
     },
     "execution_count": 38,
     "metadata": {},
     "output_type": "execute_result"
    }
   ],
   "source": [
    "model.linear"
   ]
  },
  {
   "cell_type": "code",
   "execution_count": 40,
   "metadata": {},
   "outputs": [
    {
     "data": {
      "text/plain": [
       "[Parameter containing:\n",
       " tensor([[-0.0350, -0.0252, -0.0124,  ...,  0.0193, -0.0153, -0.0128],\n",
       "         [-0.0299, -0.0049, -0.0169,  ...,  0.0260,  0.0320,  0.0256],\n",
       "         [-0.0333,  0.0259,  0.0040,  ..., -0.0081, -0.0271,  0.0254],\n",
       "         ...,\n",
       "         [-0.0088, -0.0117, -0.0183,  ...,  0.0033, -0.0150,  0.0156],\n",
       "         [-0.0091, -0.0354, -0.0336,  ...,  0.0151,  0.0237, -0.0291],\n",
       "         [-0.0043,  0.0153,  0.0297,  ...,  0.0044, -0.0297, -0.0168]],\n",
       "        requires_grad=True),\n",
       " Parameter containing:\n",
       " tensor([ 0.0051, -0.0079, -0.0349, -0.0297,  0.0132, -0.0313, -0.0346, -0.0078,\n",
       "         -0.0095,  0.0105], requires_grad=True)]"
      ]
     },
     "execution_count": 40,
     "metadata": {},
     "output_type": "execute_result"
    }
   ],
   "source": [
    "list(model.parameters())"
   ]
  },
  {
   "cell_type": "code",
   "execution_count": 52,
   "metadata": {},
   "outputs": [
    {
     "name": "stdout",
     "output_type": "stream",
     "text": [
      "torch.Size([128, 1, 28, 28])\n",
      "tensor([[-0.0459, -0.0733, -0.1691,  0.2078,  0.5565,  0.0285,  0.0772,  0.0632,\n",
      "          0.1819, -0.3179],\n",
      "        [ 0.0136,  0.0989,  0.0681,  0.0771,  0.1500,  0.2390,  0.1540, -0.1746,\n",
      "         -0.0080,  0.0476]], grad_fn=<SliceBackward0>)\n"
     ]
    }
   ],
   "source": [
    "for images, labels in train_loader:\n",
    "    print(images.shape)\n",
    "    outputs = model(images)\n",
    "    print(outputs[:2])\n",
    "    break"
   ]
  },
  {
   "cell_type": "code",
   "execution_count": 61,
   "metadata": {},
   "outputs": [
    {
     "name": "stdout",
     "output_type": "stream",
     "text": [
      "tensor([[0.0884, 0.0860, 0.0781, 0.1139, 0.1614, 0.0952, 0.1000, 0.0986, 0.1110,\n",
      "         0.0673],\n",
      "        [0.0943, 0.1027, 0.0996, 0.1005, 0.1081, 0.1182, 0.1085, 0.0781, 0.0923,\n",
      "         0.0976]], grad_fn=<SliceBackward0>)\n",
      "1.0\n"
     ]
    }
   ],
   "source": [
    "probs = F.softmax(outputs, dim = 1)\n",
    "print(probs[:2])\n",
    "print(torch.sum(probs[0]).item())"
   ]
  },
  {
   "cell_type": "code",
   "execution_count": 68,
   "metadata": {},
   "outputs": [
    {
     "name": "stdout",
     "output_type": "stream",
     "text": [
      "tensor([4, 5, 8, 8, 3, 6, 4, 4, 1, 6, 8, 3, 8, 3, 6, 6, 8, 4, 0, 0, 5, 1, 0, 4,\n",
      "        5, 4, 4, 0, 4, 4, 6, 0, 5, 0, 3, 6, 6, 8, 5, 7, 8, 5, 6, 4, 0, 0, 8, 0,\n",
      "        0, 6, 8, 6, 6, 6, 5, 8, 5, 4, 3, 0, 1, 0, 3, 8, 0, 0, 0, 0, 0, 0, 1, 8,\n",
      "        3, 4, 0, 4, 8, 3, 1, 4, 0, 3, 0, 0, 0, 0, 0, 8, 8, 6, 0, 8, 8, 5, 0, 6,\n",
      "        4, 4, 0, 0, 1, 8, 2, 0, 1, 8, 0, 6, 0, 8, 0, 8, 1, 4, 8, 0, 5, 1, 0, 0,\n",
      "        6, 8, 6, 4, 4, 3, 8, 4])\n",
      "tensor([7, 7, 3, 4, 0, 5, 9, 7, 0, 5, 8, 2, 3, 5, 8, 4, 1, 2, 0, 0, 7, 0, 5, 3,\n",
      "        6, 3, 7, 0, 1, 7, 7, 5, 9, 0, 4, 6, 8, 6, 7, 2, 1, 6, 4, 7, 7, 6, 8, 0,\n",
      "        9, 0, 2, 4, 6, 3, 6, 3, 7, 7, 4, 0, 2, 8, 0, 8, 6, 3, 3, 8, 0, 2, 9, 7,\n",
      "        8, 7, 0, 2, 9, 6, 7, 8, 0, 5, 3, 0, 0, 9, 0, 2, 1, 6, 5, 4, 2, 7, 0, 5,\n",
      "        6, 2, 2, 5, 2, 5, 1, 3, 7, 1, 0, 6, 1, 4, 8, 2, 7, 7, 1, 8, 9, 2, 6, 5,\n",
      "        9, 4, 9, 7, 7, 9, 2, 2])\n"
     ]
    }
   ],
   "source": [
    "max_probs, preds = torch.max(probs, dim=1)\n",
    "print(preds)\n",
    "print(labels)"
   ]
  },
  {
   "cell_type": "code",
   "execution_count": 69,
   "metadata": {},
   "outputs": [
    {
     "data": {
      "text/plain": [
       "tensor(0.1641)"
      ]
     },
     "execution_count": 69,
     "metadata": {},
     "output_type": "execute_result"
    }
   ],
   "source": [
    "def accuracy(outputs, labels):\n",
    "    _, preds = torch.max(outputs, dim=1)\n",
    "    return torch.tensor(torch.sum(preds == labels).item() / len(preds))\n",
    "accuracy(outputs, labels)"
   ]
  },
  {
   "cell_type": "code",
   "execution_count": 70,
   "metadata": {},
   "outputs": [
    {
     "data": {
      "text/plain": [
       "tensor([[-0.0459, -0.0733, -0.1691,  ...,  0.0632,  0.1819, -0.3179],\n",
       "        [ 0.0136,  0.0989,  0.0681,  ..., -0.1746, -0.0080,  0.0476],\n",
       "        [ 0.0681,  0.0860, -0.0579,  ..., -0.4391,  0.2385, -0.1566],\n",
       "        ...,\n",
       "        [-0.0720, -0.0598, -0.1481,  ..., -0.1804,  0.1182, -0.1338],\n",
       "        [ 0.0193, -0.1105,  0.1031,  ...,  0.0264,  0.3643, -0.5793],\n",
       "        [-0.0455,  0.0467, -0.0377,  ..., -0.2097, -0.0224, -0.2978]],\n",
       "       grad_fn=<AddmmBackward0>)"
      ]
     },
     "execution_count": 70,
     "metadata": {},
     "output_type": "execute_result"
    }
   ],
   "source": [
    "outputs"
   ]
  },
  {
   "cell_type": "code",
   "execution_count": 73,
   "metadata": {},
   "outputs": [
    {
     "data": {
      "text/plain": [
       "tensor(2.3086, grad_fn=<NllLossBackward0>)"
      ]
     },
     "execution_count": 73,
     "metadata": {},
     "output_type": "execute_result"
    }
   ],
   "source": [
    "loss_fn = F.cross_entropy\n",
    "loss_fn(outputs, labels)"
   ]
  },
  {
   "cell_type": "code",
   "execution_count": 82,
   "metadata": {},
   "outputs": [],
   "source": [
    "def evaluate(model, val_loader):\n",
    "    outputs = [model.validation_step(batch) for batch in val_loader]\n",
    "    return model.validation_epoch_end(outputs)\n",
    "    \n",
    "def fit(epochs, lr, model, train_loader, val_loader, opt_func=torch.optim.SGD):\n",
    "    optimizer = opt_func(model.parameters(), lr)\n",
    "    history = [] # for recording epoch-wise results\n",
    "    \n",
    "    for epoch in range(epochs):\n",
    "        \n",
    "        # Training Phase \n",
    "        for batch in train_loader:\n",
    "            loss = model.training_step(batch)\n",
    "            loss.backward()\n",
    "            optimizer.step()\n",
    "            optimizer.zero_grad()\n",
    "        \n",
    "        # Validation phase\n",
    "        result = evaluate(model, val_loader)\n",
    "        model.epoch_end(epoch, result)\n",
    "        history.append(result)\n",
    "\n",
    "    return history"
   ]
  },
  {
   "cell_type": "code",
   "execution_count": 83,
   "metadata": {},
   "outputs": [],
   "source": [
    "class MnistModel(nn.Module):\n",
    "    def __init__(self):\n",
    "        super().__init__()\n",
    "        self.linear = nn.Linear(input_size, num_classes)\n",
    "        \n",
    "    def forward(self, xb):\n",
    "        xb = xb.reshape(-1, 784)\n",
    "        out = self.linear(xb)\n",
    "        return out\n",
    "    \n",
    "    def training_step(self, batch):\n",
    "        images, labels = batch \n",
    "        out = self(images)                  # Generate predictions\n",
    "        loss = F.cross_entropy(out, labels) # Calculate loss\n",
    "        return loss\n",
    "    \n",
    "    def validation_step(self, batch):\n",
    "        images, labels = batch \n",
    "        out = self(images)                    # Generate predictions\n",
    "        loss = F.cross_entropy(out, labels)   # Calculate loss\n",
    "        acc = accuracy(out, labels)           # Calculate accuracy\n",
    "        return {'val_loss': loss, 'val_acc': acc}\n",
    "        \n",
    "    def validation_epoch_end(self, outputs):\n",
    "        batch_losses = [x['val_loss'] for x in outputs]\n",
    "        epoch_loss = torch.stack(batch_losses).mean()   # Combine losses\n",
    "        batch_accs = [x['val_acc'] for x in outputs]\n",
    "        epoch_acc = torch.stack(batch_accs).mean()      # Combine accuracies\n",
    "        return {'val_loss': epoch_loss.item(), 'val_acc': epoch_acc.item()}\n",
    "    \n",
    "    def epoch_end(self, epoch, result):\n",
    "        print(\"Epoch [{}], val_loss: {:.4f}, val_acc: {:.4f}\".format(epoch, result['val_loss'], result['val_acc']))\n",
    "    \n",
    "model = MnistModel()"
   ]
  },
  {
   "cell_type": "code",
   "execution_count": 85,
   "metadata": {},
   "outputs": [
    {
     "data": {
      "text/plain": [
       "{'val_loss': 2.3098912239074707, 'val_acc': 0.09236550331115723}"
      ]
     },
     "execution_count": 85,
     "metadata": {},
     "output_type": "execute_result"
    }
   ],
   "source": [
    "result0 = evaluate(model, val_loader)\n",
    "result0"
   ]
  },
  {
   "cell_type": "code",
   "execution_count": 86,
   "metadata": {},
   "outputs": [
    {
     "name": "stdout",
     "output_type": "stream",
     "text": [
      "Epoch [0], val_loss: 1.9485, val_acc: 0.6205\n",
      "Epoch [1], val_loss: 1.6805, val_acc: 0.7439\n",
      "Epoch [2], val_loss: 1.4796, val_acc: 0.7790\n",
      "Epoch [3], val_loss: 1.3273, val_acc: 0.7948\n",
      "Epoch [4], val_loss: 1.2097, val_acc: 0.8081\n"
     ]
    }
   ],
   "source": [
    "history1 = fit(5, 0.001, model, train_loader, val_loader)"
   ]
  },
  {
   "cell_type": "code",
   "execution_count": 87,
   "metadata": {},
   "outputs": [
    {
     "name": "stdout",
     "output_type": "stream",
     "text": [
      "Epoch [0], val_loss: 1.1172, val_acc: 0.8177\n",
      "Epoch [1], val_loss: 1.0429, val_acc: 0.8234\n",
      "Epoch [2], val_loss: 0.9820, val_acc: 0.8279\n",
      "Epoch [3], val_loss: 0.9313, val_acc: 0.8322\n",
      "Epoch [4], val_loss: 0.8884, val_acc: 0.8354\n"
     ]
    }
   ],
   "source": [
    "history2 = fit(5, 0.001, model, train_loader, val_loader)"
   ]
  },
  {
   "cell_type": "code",
   "execution_count": 88,
   "metadata": {},
   "outputs": [
    {
     "name": "stdout",
     "output_type": "stream",
     "text": [
      "Epoch [0], val_loss: 0.8516, val_acc: 0.8373\n",
      "Epoch [1], val_loss: 0.8197, val_acc: 0.8406\n",
      "Epoch [2], val_loss: 0.7918, val_acc: 0.8428\n",
      "Epoch [3], val_loss: 0.7671, val_acc: 0.8445\n",
      "Epoch [4], val_loss: 0.7451, val_acc: 0.8471\n"
     ]
    }
   ],
   "source": [
    "history3 = fit(5, 0.001, model, train_loader, val_loader)"
   ]
  },
  {
   "cell_type": "code",
   "execution_count": 90,
   "metadata": {},
   "outputs": [
    {
     "data": {
      "text/plain": [
       "Text(0.5, 1.0, 'Accuracy vs. No. of epochs')"
      ]
     },
     "execution_count": 90,
     "metadata": {},
     "output_type": "execute_result"
    },
    {
     "data": {
      "image/png": "[encoded data removed]",
      "text/plain": [
       "<Figure size 432x288 with 1 Axes>"
      ]
     },
     "metadata": {
      "needs_background": "light"
     },
     "output_type": "display_data"
    }
   ],
   "source": [
    "history = [result0] + history1 + history2 + history3\n",
    "accuracies = [result['val_acc'] for result in history]\n",
    "plt.plot(accuracies, '-x')\n",
    "plt.xlabel('epoch')\n",
    "plt.ylabel('accuracy')\n",
    "plt.title('Accuracy vs. No. of epochs')"
   ]
  },
  {
   "cell_type": "code",
   "execution_count": 103,
   "metadata": {},
   "outputs": [
    {
     "name": "stdout",
     "output_type": "stream",
     "text": [
      "7\n"
     ]
    },
    {
     "data": {
      "text/plain": [
       "torch.Size([1, 28, 28])"
      ]
     },
     "execution_count": 103,
     "metadata": {},
     "output_type": "execute_result"
    }
   ],
   "source": [
    "# Define test dataset\n",
    "test_dataset = MNIST(root='data/', \n",
    "                     train=False,\n",
    "                     transform=transforms.ToTensor())\n",
    "\n",
    "img, label = test_dataset[0]\n",
    "# plt.imshow(img, cmap=\"gray\")\n",
    "print(label)\n",
    "img.shape"
   ]
  },
  {
   "cell_type": "code",
   "execution_count": 107,
   "metadata": {},
   "outputs": [
    {
     "data": {
      "text/plain": [
       "7"
      ]
     },
     "execution_count": 107,
     "metadata": {},
     "output_type": "execute_result"
    }
   ],
   "source": [
    "def predict_img(img, model):\n",
    "    xb = img.unsqueeze(0)\n",
    "    yb = model(xb)\n",
    "    _, pred = torch.max(yb, dim=1)\n",
    "    return pred.item()\n",
    "predict_img(img, model)"
   ]
  },
  {
   "cell_type": "code",
   "execution_count": 108,
   "metadata": {},
   "outputs": [
    {
     "name": "stdout",
     "output_type": "stream",
     "text": [
      "Label: 7 , Predicted: 7\n"
     ]
    },
    {
     "data": {
      "image/png": "[encoded data removed]",
      "text/plain": [
       "<Figure size 432x288 with 1 Axes>"
      ]
     },
     "metadata": {
      "needs_background": "light"
     },
     "output_type": "display_data"
    }
   ],
   "source": [
    "img, label = test_dataset[0]\n",
    "plt.imshow(img[0], cmap='gray')\n",
    "print('Label:', label, ', Predicted:', predict_img(img, model))"
   ]
  },
  {
   "cell_type": "code",
   "execution_count": 114,
   "metadata": {},
   "outputs": [
    {
     "name": "stdout",
     "output_type": "stream",
     "text": [
      "Label: 7 , Predicted: 7 Yes\n",
      "Label: 2 , Predicted: 2 Yes\n",
      "Label: 1 , Predicted: 1 Yes\n",
      "Label: 0 , Predicted: 0 Yes\n",
      "Label: 4 , Predicted: 4 Yes\n",
      "Label: 1 , Predicted: 1 Yes\n",
      "Label: 4 , Predicted: 4 Yes\n",
      "Label: 9 , Predicted: 9 Yes\n",
      "Label: 5 , Predicted: 2 No\n",
      "Label: 9 , Predicted: 9 Yes\n",
      "Label: 0 , Predicted: 0 Yes\n",
      "Label: 6 , Predicted: 6 Yes\n",
      "Label: 9 , Predicted: 9 Yes\n",
      "Label: 0 , Predicted: 0 Yes\n",
      "Label: 1 , Predicted: 1 Yes\n",
      "Label: 5 , Predicted: 3 No\n",
      "Label: 9 , Predicted: 9 Yes\n",
      "Label: 7 , Predicted: 7 Yes\n",
      "Label: 3 , Predicted: 3 Yes\n",
      "Label: 4 , Predicted: 4 Yes\n"
     ]
    }
   ],
   "source": [
    "for i in range(20):\n",
    "    img, label = test_dataset[i]\n",
    "    if label == predict_img(img, model):\n",
    "        print('Label:', label, ', Predicted:', predict_img(img, model), \"Yes\")\n",
    "    else:\n",
    "        print('Label:', label, ', Predicted:', predict_img(img, model), \"No\")"
   ]
  }
 ],
 "metadata": {
  "interpreter": {
   "hash": "e7cb1b9ae4d417fedf7f40a8eec98f7cfbd359e096bd857395a915f4609834ce"
  },
  "kernelspec": {
   "display_name": "Python 3.9.5 64-bit ('base': conda)",
   "language": "python",
   "name": "python3"
  },
  "language_info": {
   "codemirror_mode": {
    "name": "ipython",
    "version": 3
   },
   "file_extension": ".py",
   "mimetype": "text/x-python",
   "name": "python",
   "nbconvert_exporter": "python",
   "pygments_lexer": "ipython3",
   "version": "3.9.5"
  },
  "orig_nbformat": 4
 },
 "nbformat": 4,
 "nbformat_minor": 2
}
