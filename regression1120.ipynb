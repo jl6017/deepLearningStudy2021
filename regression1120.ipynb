{
 "cells": [
  {
   "cell_type": "code",
   "execution_count": 54,
   "metadata": {},
   "outputs": [],
   "source": [
    "import torch\n",
    "import torchvision\n",
    "from torchvision.datasets import MNIST\n",
    "import torchvision.transforms as transforms\n",
    "from torch.utils.data import random_split, DataLoader\n",
    "import torch.nn as nn\n",
    "import torch.nn.functional as F\n",
    "\n",
    "import matplotlib.pyplot as plt\n",
    "%matplotlib inline"
   ]
  },
  {
   "cell_type": "code",
   "execution_count": 12,
   "metadata": {},
   "outputs": [
    {
     "data": {
      "text/plain": [
       "60000"
      ]
     },
     "execution_count": 12,
     "metadata": {},
     "output_type": "execute_result"
    }
   ],
   "source": [
    "dataset = MNIST(root='data/', download = True)\n",
    "len(dataset)"
   ]
  },
  {
   "cell_type": "code",
   "execution_count": 13,
   "metadata": {},
   "outputs": [
    {
     "data": {
      "text/plain": [
       "10000"
      ]
     },
     "execution_count": 13,
     "metadata": {},
     "output_type": "execute_result"
    }
   ],
   "source": [
    "test_dataset = MNIST(root='data/', train=False)\n",
    "len(test_dataset)"
   ]
  },
  {
   "cell_type": "code",
   "execution_count": 14,
   "metadata": {},
   "outputs": [
    {
     "name": "stdout",
     "output_type": "stream",
     "text": [
      "label:  0\n"
     ]
    },
    {
     "data": {
      "image/png": "[encoded data removed]",
      "text/plain": [
       "<Figure size 432x288 with 1 Axes>"
      ]
     },
     "metadata": {
      "needs_background": "light"
     },
     "output_type": "display_data"
    }
   ],
   "source": [
    "image, label = dataset[1]\n",
    "plt.imshow(image, cmap='gray')\n",
    "print(\"label: \", label)"
   ]
  },
  {
   "cell_type": "code",
   "execution_count": 15,
   "metadata": {},
   "outputs": [],
   "source": [
    "# MNIST dataset (images and labels)\n",
    "dataset = MNIST(root='data/', \n",
    "                train=True,\n",
    "                transform=transforms.ToTensor())"
   ]
  },
  {
   "cell_type": "code",
   "execution_count": 16,
   "metadata": {},
   "outputs": [
    {
     "name": "stdout",
     "output_type": "stream",
     "text": [
      "torch.Size([1, 28, 28]) 5\n"
     ]
    }
   ],
   "source": [
    "img_tensor, label = dataset[0]\n",
    "print(img_tensor.shape, label)"
   ]
  },
  {
   "cell_type": "code",
   "execution_count": 17,
   "metadata": {},
   "outputs": [
    {
     "data": {
      "text/plain": [
       "(50000, 10000)"
      ]
     },
     "execution_count": 17,
     "metadata": {},
     "output_type": "execute_result"
    }
   ],
   "source": [
    "train_ds, val_ds = random_split(dataset, [50000, 10000])\n",
    "len(train_ds), len(val_ds)"
   ]
  },
  {
   "cell_type": "code",
   "execution_count": 18,
   "metadata": {},
   "outputs": [],
   "source": [
    "batch_size = 128\n",
    "\n",
    "train_loader = DataLoader(train_ds, batch_size, shuffle=True)\n",
    "val_loader = DataLoader(val_ds, batch_size)"
   ]
  },
  {
   "cell_type": "code",
   "execution_count": 19,
   "metadata": {},
   "outputs": [],
   "source": [
    "input_size  = 28 * 28\n",
    "num_classes = 10\n",
    "model = nn.Linear(input_size, num_classes)"
   ]
  },
  {
   "cell_type": "code",
   "execution_count": 20,
   "metadata": {},
   "outputs": [
    {
     "data": {
      "text/plain": [
       "[Parameter containing:\n",
       " tensor([[-0.0144,  0.0015, -0.0214,  ...,  0.0011, -0.0141,  0.0327],\n",
       "         [-0.0257,  0.0050,  0.0184,  ...,  0.0030, -0.0146,  0.0063],\n",
       "         [ 0.0237, -0.0329,  0.0331,  ..., -0.0237, -0.0338,  0.0079],\n",
       "         ...,\n",
       "         [ 0.0304,  0.0290, -0.0051,  ..., -0.0220, -0.0133,  0.0235],\n",
       "         [-0.0319,  0.0063,  0.0127,  ...,  0.0229, -0.0207, -0.0346],\n",
       "         [-0.0226,  0.0173, -0.0257,  ...,  0.0016, -0.0177,  0.0098]],\n",
       "        requires_grad=True),\n",
       " Parameter containing:\n",
       " tensor([-0.0116, -0.0127,  0.0113, -0.0238, -0.0127,  0.0314,  0.0173,  0.0321,\n",
       "         -0.0286, -0.0216], requires_grad=True)]"
      ]
     },
     "execution_count": 20,
     "metadata": {},
     "output_type": "execute_result"
    }
   ],
   "source": [
    "list(model.parameters())"
   ]
  },
  {
   "cell_type": "code",
   "execution_count": 47,
   "metadata": {},
   "outputs": [
    {
     "name": "stdout",
     "output_type": "stream",
     "text": [
      "torch.Size([128])\n",
      "torch.Size([128, 784])\n",
      "tensor([ 0.1742,  0.2841, -0.1660, -0.0829,  0.0900, -0.0186, -0.2147, -0.1554,\n",
      "         0.0520, -0.5084], grad_fn=<SelectBackward0>)\n"
     ]
    }
   ],
   "source": [
    "for images, labels in train_loader:\n",
    "    images = images.reshape(-1,784)\n",
    "    print(labels.shape)\n",
    "    print(images.shape)\n",
    "    outputs = model(images)\n",
    "    print(outputs[0])\n",
    "    break"
   ]
  },
  {
   "cell_type": "code",
   "execution_count": 44,
   "metadata": {},
   "outputs": [],
   "source": [
    "class MnistModel(nn.Module):\n",
    "    def __init__(self):\n",
    "        super().__init__()\n",
    "        self.linear = nn.Linear(input_size, num_classes)\n",
    "        \n",
    "    def forward(self, xb):\n",
    "        xb = xb.reshape(-1, 784)\n",
    "        out = self.linear(xb)\n",
    "        return out\n",
    "    \n",
    "model = MnistModel()"
   ]
  },
  {
   "cell_type": "code",
   "execution_count": 38,
   "metadata": {},
   "outputs": [
    {
     "data": {
      "text/plain": [
       "Linear(in_features=784, out_features=10, bias=True)"
      ]
     },
     "execution_count": 38,
     "metadata": {},
     "output_type": "execute_result"
    }
   ],
   "source": [
    "model.linear"
   ]
  },
  {
   "cell_type": "code",
   "execution_count": 40,
   "metadata": {},
   "outputs": [
    {
     "data": {
      "text/plain": [
       "[Parameter containing:\n",
       " tensor([[-0.0350, -0.0252, -0.0124,  ...,  0.0193, -0.0153, -0.0128],\n",
       "         [-0.0299, -0.0049, -0.0169,  ...,  0.0260,  0.0320,  0.0256],\n",
       "         [-0.0333,  0.0259,  0.0040,  ..., -0.0081, -0.0271,  0.0254],\n",
       "         ...,\n",
       "         [-0.0088, -0.0117, -0.0183,  ...,  0.0033, -0.0150,  0.0156],\n",
       "         [-0.0091, -0.0354, -0.0336,  ...,  0.0151,  0.0237, -0.0291],\n",
       "         [-0.0043,  0.0153,  0.0297,  ...,  0.0044, -0.0297, -0.0168]],\n",
       "        requires_grad=True),\n",
       " Parameter containing:\n",
       " tensor([ 0.0051, -0.0079, -0.0349, -0.0297,  0.0132, -0.0313, -0.0346, -0.0078,\n",
       "         -0.0095,  0.0105], requires_grad=True)]"
      ]
     },
     "execution_count": 40,
     "metadata": {},
     "output_type": "execute_result"
    }
   ],
   "source": [
    "list(model.parameters())"
   ]
  },
  {
   "cell_type": "code",
   "execution_count": 52,
   "metadata": {},
   "outputs": [
    {
     "name": "stdout",
     "output_type": "stream",
     "text": [
      "torch.Size([128, 1, 28, 28])\n",
      "tensor([[-0.0459, -0.0733, -0.1691,  0.2078,  0.5565,  0.0285,  0.0772,  0.0632,\n",
      "          0.1819, -0.3179],\n",
      "        [ 0.0136,  0.0989,  0.0681,  0.0771,  0.1500,  0.2390,  0.1540, -0.1746,\n",
      "         -0.0080,  0.0476]], grad_fn=<SliceBackward0>)\n"
     ]
    }
   ],
   "source": [
    "for images, labels in train_loader:\n",
    "    print(images.shape)\n",
    "    outputs = model(images)\n",
    "    print(outputs[:2])\n",
    "    break"
   ]
  },
  {
   "cell_type": "code",
   "execution_count": 61,
   "metadata": {},
   "outputs": [
    {
     "name": "stdout",
     "output_type": "stream",
     "text": [
      "tensor([[0.0884, 0.0860, 0.0781, 0.1139, 0.1614, 0.0952, 0.1000, 0.0986, 0.1110,\n",
      "         0.0673],\n",
      "        [0.0943, 0.1027, 0.0996, 0.1005, 0.1081, 0.1182, 0.1085, 0.0781, 0.0923,\n",
      "         0.0976]], grad_fn=<SliceBackward0>)\n",
      "1.0\n"
     ]
    }
   ],
   "source": [
    "probs = F.softmax(outputs, dim = 1)\n",
    "print(probs[:2])\n",
    "print(torch.sum(probs[0]).item())"
   ]
  },
  {
   "cell_type": "code",
   "execution_count": 68,
   "metadata": {},
   "outputs": [
    {
     "name": "stdout",
     "output_type": "stream",
     "text": [
      "tensor([4, 5, 8, 8, 3, 6, 4, 4, 1, 6, 8, 3, 8, 3, 6, 6, 8, 4, 0, 0, 5, 1, 0, 4,\n",
      "        5, 4, 4, 0, 4, 4, 6, 0, 5, 0, 3, 6, 6, 8, 5, 7, 8, 5, 6, 4, 0, 0, 8, 0,\n",
      "        0, 6, 8, 6, 6, 6, 5, 8, 5, 4, 3, 0, 1, 0, 3, 8, 0, 0, 0, 0, 0, 0, 1, 8,\n",
      "        3, 4, 0, 4, 8, 3, 1, 4, 0, 3, 0, 0, 0, 0, 0, 8, 8, 6, 0, 8, 8, 5, 0, 6,\n",
      "        4, 4, 0, 0, 1, 8, 2, 0, 1, 8, 0, 6, 0, 8, 0, 8, 1, 4, 8, 0, 5, 1, 0, 0,\n",
      "        6, 8, 6, 4, 4, 3, 8, 4])\n",
      "tensor([7, 7, 3, 4, 0, 5, 9, 7, 0, 5, 8, 2, 3, 5, 8, 4, 1, 2, 0, 0, 7, 0, 5, 3,\n",
      "        6, 3, 7, 0, 1, 7, 7, 5, 9, 0, 4, 6, 8, 6, 7, 2, 1, 6, 4, 7, 7, 6, 8, 0,\n",
      "        9, 0, 2, 4, 6, 3, 6, 3, 7, 7, 4, 0, 2, 8, 0, 8, 6, 3, 3, 8, 0, 2, 9, 7,\n",
      "        8, 7, 0, 2, 9, 6, 7, 8, 0, 5, 3, 0, 0, 9, 0, 2, 1, 6, 5, 4, 2, 7, 0, 5,\n",
      "        6, 2, 2, 5, 2, 5, 1, 3, 7, 1, 0, 6, 1, 4, 8, 2, 7, 7, 1, 8, 9, 2, 6, 5,\n",
      "        9, 4, 9, 7, 7, 9, 2, 2])\n"
     ]
    }
   ],
   "source": [
    "max_probs, preds = torch.max(probs, dim=1)\n",
    "print(preds)\n",
    "print(labels)"
   ]
  },
  {
   "cell_type": "code",
   "execution_count": null,
   "metadata": {},
   "outputs": [],
   "source": []
  }
 ],
 "metadata": {
  "interpreter": {
   "hash": "e7cb1b9ae4d417fedf7f40a8eec98f7cfbd359e096bd857395a915f4609834ce"
  },
  "kernelspec": {
   "display_name": "Python 3.9.5 64-bit ('base': conda)",
   "language": "python",
   "name": "python3"
  },
  "language_info": {
   "codemirror_mode": {
    "name": "ipython",
    "version": 3
   },
   "file_extension": ".py",
   "mimetype": "text/x-python",
   "name": "python",
   "nbconvert_exporter": "python",
   "pygments_lexer": "ipython3",
   "version": "3.9.5"
  },
  "orig_nbformat": 4
 },
 "nbformat": 4,
 "nbformat_minor": 2
}
