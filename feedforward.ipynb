{
 "cells": [
  {
   "cell_type": "code",
   "execution_count": 110,
   "metadata": {},
   "outputs": [],
   "source": [
    "import torch\n",
    "import torchvision\n",
    "import numpy as np\n",
    "import matplotlib.pyplot as plt\n",
    "import torch.nn as nn\n",
    "import torch.nn.functional as F\n",
    "from torchvision.datasets import MNIST\n",
    "from torchvision.transforms import ToTensor\n",
    "from torchvision.utils import make_grid\n",
    "from torch.utils.data.dataloader import DataLoader\n",
    "from torch.utils.data import random_split\n",
    "%matplotlib inline"
   ]
  },
  {
   "cell_type": "code",
   "execution_count": 111,
   "metadata": {},
   "outputs": [
    {
     "name": "stdout",
     "output_type": "stream",
     "text": [
      "image.shape: torch.Size([1, 28, 28])\n",
      "Label: 5\n"
     ]
    },
    {
     "data": {
      "image/png": "[encoded data removed]",
      "text/plain": [
       "<Figure size 432x288 with 1 Axes>"
      ]
     },
     "metadata": {
      "needs_background": "light"
     },
     "output_type": "display_data"
    }
   ],
   "source": [
    "dataset = MNIST(root='data/', download=True, transform=ToTensor())\n",
    "image, label = dataset[0]\n",
    "print('image.shape:', image.shape)\n",
    "plt.imshow(image.permute(1, 2, 0), cmap='gray')\n",
    "print('Label:', label)"
   ]
  },
  {
   "cell_type": "code",
   "execution_count": 112,
   "metadata": {},
   "outputs": [
    {
     "data": {
      "text/plain": [
       "(50000, 10000)"
      ]
     },
     "execution_count": 112,
     "metadata": {},
     "output_type": "execute_result"
    }
   ],
   "source": [
    "train_ds, val_ds = random_split(dataset, [50000, 10000])\n",
    "len(train_ds), len(val_ds)"
   ]
  },
  {
   "cell_type": "code",
   "execution_count": 113,
   "metadata": {},
   "outputs": [],
   "source": [
    "batch_size = 128\n",
    "train_loader = DataLoader(train_ds, batch_size, shuffle=True, num_workers=4, pin_memory=True)\n",
    "val_loader = DataLoader(val_ds, batch_size*2, num_workers=4, pin_memory=True)"
   ]
  },
  {
   "cell_type": "code",
   "execution_count": 114,
   "metadata": {},
   "outputs": [],
   "source": [
    "class MnistModel(nn.Module):\n",
    "    \"\"\"Feedfoward neural network with 1 hidden layer\"\"\"\n",
    "    def __init__(self, in_size, hidden_size1, hidden_size2, out_size):\n",
    "        super().__init__()\n",
    "        # hidden layer1\n",
    "        self.linear1 = nn.Linear(in_size, hidden_size1)\n",
    "        # hidden layer2\n",
    "        self.linear2 = nn.Linear(hidden_size1, hidden_size2)\n",
    "        # output layer\n",
    "        self.linear3 = nn.Linear(hidden_size2, out_size)\n",
    "        \n",
    "    def forward(self, xb):\n",
    "        # Flatten the image tensors\n",
    "        xb = xb.view(xb.size(0), -1)\n",
    "        # Get intermediate outputs using hidden layer\n",
    "        out = self.linear1(xb)\n",
    "        # Apply activation function\n",
    "        out = F.relu(out)\n",
    "        # Get intermediate outputs using hidden layer\n",
    "        out = self.linear2(out)\n",
    "        # Apply activation function\n",
    "        out = F.relu(out)\n",
    "        # Get predictions using output layer\n",
    "        out = self.linear3(out)\n",
    "        return out\n",
    "    \n",
    "    def training_step(self, batch):\n",
    "        images, labels = batch \n",
    "        out = self(images)                  # Generate predictions\n",
    "        loss = F.cross_entropy(out, labels) # Calculate loss\n",
    "        return loss\n",
    "    \n",
    "    def validation_step(self, batch):\n",
    "        images, labels = batch \n",
    "        out = self(images)                    # Generate predictions\n",
    "        loss = F.cross_entropy(out, labels)   # Calculate loss\n",
    "        acc = accuracy(out, labels)           # Calculate accuracy\n",
    "        return {'val_loss': loss, 'val_acc': acc}\n",
    "        \n",
    "    def validation_epoch_end(self, outputs):\n",
    "        batch_losses = [x['val_loss'] for x in outputs]\n",
    "        epoch_loss = torch.stack(batch_losses).mean()   # Combine losses\n",
    "        batch_accs = [x['val_acc'] for x in outputs]\n",
    "        epoch_acc = torch.stack(batch_accs).mean()      # Combine accuracies\n",
    "        return {'val_loss': epoch_loss.item(), 'val_acc': epoch_acc.item()}\n",
    "    \n",
    "    def epoch_end(self, epoch, result):\n",
    "        print(\"Epoch [{}], val_loss: {:.4f}, val_acc: {:.4f}\".format(epoch, result['val_loss'], result['val_acc']))"
   ]
  },
  {
   "cell_type": "code",
   "execution_count": 115,
   "metadata": {},
   "outputs": [],
   "source": [
    "def accuracy(outputs, labels):\n",
    "    _, preds = torch.max(outputs, dim=1)\n",
    "    return torch.tensor(torch.sum(preds == labels).item() / len(preds))"
   ]
  },
  {
   "cell_type": "code",
   "execution_count": 116,
   "metadata": {},
   "outputs": [
    {
     "name": "stdout",
     "output_type": "stream",
     "text": [
      "torch.Size([64, 784])\n",
      "torch.Size([64])\n",
      "torch.Size([32, 64])\n",
      "torch.Size([32])\n",
      "torch.Size([10, 32])\n",
      "torch.Size([10])\n"
     ]
    }
   ],
   "source": [
    "input_size = 784\n",
    "hidden_size1 = 64 # you can change this\n",
    "hidden_size2 = 32\n",
    "num_classes = 10\n",
    "model = MnistModel(input_size, hidden_size1, hidden_size2, out_size=num_classes)\n",
    "for t in model.parameters():\n",
    "    print(t.shape)"
   ]
  },
  {
   "cell_type": "code",
   "execution_count": 117,
   "metadata": {},
   "outputs": [
    {
     "name": "stdout",
     "output_type": "stream",
     "text": [
      "Loss: 2.314816474914551\n",
      "outputs.shape :  torch.Size([128, 10])\n",
      "Sample outputs :\n",
      " tensor([[ 0.1515, -0.0164,  0.0637, -0.0940,  0.0375,  0.1448, -0.1739, -0.1321,\n",
      "         -0.1302, -0.1905],\n",
      "        [ 0.1756,  0.0275,  0.0472, -0.0767,  0.1009,  0.1143, -0.1527, -0.0960,\n",
      "         -0.1171, -0.1829]])\n"
     ]
    }
   ],
   "source": [
    "for images, labels in train_loader:\n",
    "    outputs = model(images)\n",
    "    loss = F.cross_entropy(outputs, labels)\n",
    "    print('Loss:', loss.item())\n",
    "    break\n",
    "\n",
    "print('outputs.shape : ', outputs.shape)\n",
    "print('Sample outputs :\\n', outputs[:2].data)"
   ]
  },
  {
   "cell_type": "code",
   "execution_count": 118,
   "metadata": {},
   "outputs": [],
   "source": [
    "def evaluate(model, val_loader):\n",
    "    \"\"\"Evaluate the model's performance on the validation set\"\"\"\n",
    "    outputs = [model.validation_step(batch) for batch in val_loader]\n",
    "    return model.validation_epoch_end(outputs)\n",
    "\n",
    "def fit(epochs, lr, model, train_loader, val_loader, opt_func=torch.optim.SGD):\n",
    "    \"\"\"Train the model using gradient descent\"\"\"\n",
    "    history = []\n",
    "    optimizer = opt_func(model.parameters(), lr)\n",
    "    for epoch in range(epochs):\n",
    "        # Training Phase \n",
    "        for batch in train_loader:\n",
    "            loss = model.training_step(batch)\n",
    "            loss.backward()\n",
    "            optimizer.step()\n",
    "            optimizer.zero_grad()\n",
    "        # Validation phase\n",
    "        result = evaluate(model, val_loader)\n",
    "        model.epoch_end(epoch, result)\n",
    "        history.append(result)\n",
    "    return history"
   ]
  },
  {
   "cell_type": "code",
   "execution_count": 119,
   "metadata": {},
   "outputs": [
    {
     "data": {
      "text/plain": [
       "[{'val_loss': 2.3089051246643066, 'val_acc': 0.09638671576976776}]"
      ]
     },
     "execution_count": 119,
     "metadata": {},
     "output_type": "execute_result"
    }
   ],
   "source": [
    "history = [evaluate(model, val_loader)]\n",
    "history"
   ]
  },
  {
   "cell_type": "code",
   "execution_count": 120,
   "metadata": {},
   "outputs": [
    {
     "name": "stdout",
     "output_type": "stream",
     "text": [
      "Epoch [0], val_loss: 0.2051, val_acc: 0.9362\n",
      "Epoch [1], val_loss: 0.2135, val_acc: 0.9308\n",
      "Epoch [2], val_loss: 0.1215, val_acc: 0.9615\n",
      "Epoch [3], val_loss: 0.1143, val_acc: 0.9655\n",
      "Epoch [4], val_loss: 0.1665, val_acc: 0.9500\n"
     ]
    }
   ],
   "source": [
    "history += fit(5, 0.5, model, train_loader, val_loader)"
   ]
  },
  {
   "cell_type": "code",
   "execution_count": 121,
   "metadata": {},
   "outputs": [
    {
     "name": "stdout",
     "output_type": "stream",
     "text": [
      "Epoch [0], val_loss: 0.0854, val_acc: 0.9737\n",
      "Epoch [1], val_loss: 0.0851, val_acc: 0.9739\n",
      "Epoch [2], val_loss: 0.0863, val_acc: 0.9739\n",
      "Epoch [3], val_loss: 0.0847, val_acc: 0.9738\n",
      "Epoch [4], val_loss: 0.0863, val_acc: 0.9742\n"
     ]
    }
   ],
   "source": [
    "history += fit(5, 0.1, model, train_loader, val_loader) # small learning rate"
   ]
  },
  {
   "cell_type": "code",
   "execution_count": 122,
   "metadata": {},
   "outputs": [
    {
     "name": "stdout",
     "output_type": "stream",
     "text": [
      "Epoch [0], val_loss: 0.0834, val_acc: 0.9749\n",
      "Epoch [1], val_loss: 0.0833, val_acc: 0.9754\n",
      "Epoch [2], val_loss: 0.0837, val_acc: 0.9748\n",
      "Epoch [3], val_loss: 0.0836, val_acc: 0.9755\n",
      "Epoch [4], val_loss: 0.0838, val_acc: 0.9751\n"
     ]
    }
   ],
   "source": [
    "history += fit(5, 0.01, model, train_loader, val_loader) # small learning rate"
   ]
  },
  {
   "cell_type": "code",
   "execution_count": 123,
   "metadata": {},
   "outputs": [
    {
     "data": {
      "image/png": "[encoded data removed]",
      "text/plain": [
       "<Figure size 432x288 with 1 Axes>"
      ]
     },
     "metadata": {
      "needs_background": "light"
     },
     "output_type": "display_data"
    }
   ],
   "source": [
    "accuracies = [x['val_acc'] for x in history]\n",
    "plt.plot(accuracies, '-x')\n",
    "plt.xlabel('epoch')\n",
    "plt.ylabel('accuracy')\n",
    "plt.title('Accuracy vs. No. of epochs');"
   ]
  },
  {
   "cell_type": "code",
   "execution_count": 124,
   "metadata": {},
   "outputs": [],
   "source": [
    "test_dataset = MNIST(root='data/', train=False, transform=ToTensor())"
   ]
  },
  {
   "cell_type": "code",
   "execution_count": 125,
   "metadata": {},
   "outputs": [
    {
     "data": {
      "text/plain": [
       "7"
      ]
     },
     "execution_count": 125,
     "metadata": {},
     "output_type": "execute_result"
    }
   ],
   "source": [
    "img, label = test_dataset[0]\n",
    "def predict_image(img, model):\n",
    "    xb = img.unsqueeze(0)\n",
    "    yb = model(xb)\n",
    "    _, preds  = torch.max(yb, dim=1)\n",
    "    return preds[0].item()\n",
    "predict_image(img, model)"
   ]
  },
  {
   "cell_type": "code",
   "execution_count": 126,
   "metadata": {},
   "outputs": [
    {
     "name": "stdout",
     "output_type": "stream",
     "text": [
      "Label:  7 Predict:  7 Yes\n",
      "Label:  2 Predict:  2 Yes\n",
      "Label:  1 Predict:  1 Yes\n",
      "Label:  0 Predict:  0 Yes\n",
      "Label:  4 Predict:  4 Yes\n",
      "Label:  1 Predict:  1 Yes\n",
      "Label:  4 Predict:  4 Yes\n",
      "Label:  9 Predict:  9 Yes\n",
      "Label:  5 Predict:  5 Yes\n",
      "Label:  9 Predict:  9 Yes\n",
      "Label:  0 Predict:  0 Yes\n",
      "Label:  6 Predict:  6 Yes\n",
      "Label:  9 Predict:  9 Yes\n",
      "Label:  0 Predict:  0 Yes\n",
      "Label:  1 Predict:  1 Yes\n",
      "Label:  5 Predict:  5 Yes\n",
      "Label:  9 Predict:  9 Yes\n",
      "Label:  7 Predict:  7 Yes\n",
      "Label:  3 Predict:  3 Yes\n",
      "Label:  4 Predict:  4 Yes\n"
     ]
    }
   ],
   "source": [
    "for i in range(20):\n",
    "    img, label = test_dataset[i]\n",
    "    pred = predict_image(img, model)\n",
    "    if pred == label:\n",
    "        print(\"Label: \", label, \"Predict: \", pred, \"Yes\")\n",
    "    else:\n",
    "        print(\"Label: \", label, \"Predict: \", pred, \"No\")\n"
   ]
  },
  {
   "cell_type": "code",
   "execution_count": 127,
   "metadata": {},
   "outputs": [
    {
     "data": {
      "text/plain": [
       "{'val_loss': 0.07747671753168106, 'val_acc': 0.975878894329071}"
      ]
     },
     "execution_count": 127,
     "metadata": {},
     "output_type": "execute_result"
    }
   ],
   "source": [
    "test_loader = DataLoader(test_dataset, batch_size=256)\n",
    "result = evaluate(model, test_loader)\n",
    "result"
   ]
  },
  {
   "cell_type": "code",
   "execution_count": 128,
   "metadata": {},
   "outputs": [],
   "source": [
    "# save and reload trained model\n",
    "torch.save(model.state_dict(), 'mnist-logistic.pth')"
   ]
  },
  {
   "cell_type": "code",
   "execution_count": 129,
   "metadata": {},
   "outputs": [
    {
     "data": {
      "text/plain": [
       "OrderedDict([('linear1.weight',\n",
       "              tensor([[ 0.0215, -0.0322, -0.0041,  ..., -0.0314, -0.0230,  0.0191],\n",
       "                      [-0.0227, -0.0134,  0.0100,  ..., -0.0038,  0.0185, -0.0087],\n",
       "                      [-0.0335,  0.0075,  0.0121,  ...,  0.0191,  0.0255, -0.0066],\n",
       "                      ...,\n",
       "                      [-0.0256,  0.0026,  0.0127,  ...,  0.0038, -0.0354, -0.0253],\n",
       "                      [-0.0311, -0.0211,  0.0154,  ..., -0.0134, -0.0356,  0.0279],\n",
       "                      [-0.0184,  0.0171,  0.0148,  ...,  0.0027, -0.0344, -0.0023]])),\n",
       "             ('linear1.bias',\n",
       "              tensor([ 0.0552, -0.0624,  0.1588,  0.0630, -0.0135, -0.1381,  0.0226, -0.1442,\n",
       "                      -0.2062,  0.0027, -0.2543, -0.0334, -0.2168, -0.0311,  0.1815,  0.0329,\n",
       "                       0.2390, -0.0144,  0.0449,  0.0307,  0.0366, -0.0079,  0.0092,  0.2058,\n",
       "                       0.4038,  0.2215, -0.0295,  0.0552,  0.0331, -0.1183,  0.0534,  0.3658,\n",
       "                       0.2011, -0.0910,  0.0712,  0.0455, -0.0250,  0.1031, -0.1740,  0.1493,\n",
       "                       0.0935,  0.0966, -0.1088,  0.2247, -0.0338, -0.1289, -0.0644,  0.0138,\n",
       "                       0.0754,  0.0977, -0.0278, -0.1314,  0.0352, -0.0176,  0.0992,  0.2113,\n",
       "                      -0.0341,  0.0188,  0.0379,  0.0081,  0.1239,  0.0302, -0.2616,  0.1376])),\n",
       "             ('linear2.weight',\n",
       "              tensor([[-0.0528, -0.0634,  0.3638,  ...,  0.0034, -0.0076, -0.2194],\n",
       "                      [ 0.1486,  0.2547,  0.0609,  ..., -0.0441,  0.1329, -0.2704],\n",
       "                      [-0.0441,  0.1611,  0.1248,  ..., -0.1080, -0.1740,  0.3149],\n",
       "                      ...,\n",
       "                      [-0.1474,  0.0779, -0.1642,  ..., -0.2646,  0.3062, -0.1187],\n",
       "                      [-0.0990,  0.1339, -0.2543,  ...,  0.0975, -0.1446,  0.4917],\n",
       "                      [ 0.1149,  0.4178, -0.0270,  ..., -0.0127,  0.1828,  0.1469]])),\n",
       "             ('linear2.bias',\n",
       "              tensor([ 0.1106,  0.3412,  0.1067,  0.0170, -0.2073,  0.3138,  0.4662,  0.1039,\n",
       "                      -0.0033,  0.1618, -0.0272,  0.0924,  0.1431, -0.0420,  0.3566,  0.2955,\n",
       "                       0.0208,  0.0047,  0.3023, -0.0065, -0.1876,  0.1219,  0.0042, -0.0888,\n",
       "                       0.0013,  0.0207,  0.3718,  0.4335,  0.5018, -0.0171,  0.0999,  0.0946])),\n",
       "             ('linear3.weight',\n",
       "              tensor([[-2.4730e-02, -1.4069e-03, -2.8610e-01, -2.3334e-01,  6.0726e-01,\n",
       "                       -2.6640e-01, -4.6691e-01, -1.0710e-01,  1.7409e-01,  3.7945e-01,\n",
       "                       -2.7959e-02,  5.8758e-01, -7.0214e-02,  4.3493e-01, -2.3506e-01,\n",
       "                       -1.3879e-01, -1.6155e-01, -1.2029e-01, -5.5231e-03, -3.2916e-01,\n",
       "                       -2.1153e-01, -5.9449e-01, -2.2493e-01, -1.8262e-01, -1.0015e-01,\n",
       "                        7.7557e-01,  3.1729e-01,  6.5524e-01, -3.6266e-01,  8.0345e-01,\n",
       "                       -5.7111e-01,  2.1464e-01],\n",
       "                      [ 4.4757e-01, -4.6230e-01,  9.4065e-01,  6.5076e-01, -1.5782e-01,\n",
       "                       -7.9371e-01,  5.5194e-01,  5.8497e-02,  3.4419e-01, -2.7840e-01,\n",
       "                       -2.2879e-01, -2.4463e-01, -1.6960e-01, -4.2892e-02, -4.0216e-01,\n",
       "                       -1.7328e-01, -5.5561e-01, -2.0288e-01, -3.0726e-01, -9.7105e-02,\n",
       "                        2.0619e-01, -8.1600e-02,  2.4441e-01,  7.4683e-02, -7.6434e-02,\n",
       "                       -2.0397e-01, -1.9820e-01, -4.4047e-01, -3.3971e-01, -1.9491e-01,\n",
       "                        1.0308e+00,  2.3718e-02],\n",
       "                      [-5.6395e-01,  4.7819e-01,  1.3317e-01,  1.0962e-01, -1.9403e-01,\n",
       "                        2.1730e-01, -6.0485e-01, -5.4750e-01, -1.1997e-02, -3.1684e-01,\n",
       "                       -3.3824e-01,  2.6023e-01, -1.7996e-01, -2.1761e-01, -2.5905e-01,\n",
       "                       -7.7296e-01, -1.0232e-01,  3.3836e-02, -1.8773e-02,  1.0977e+00,\n",
       "                       -2.0503e-01,  4.8648e-01,  1.1245e-01,  2.2590e-01, -6.8513e-03,\n",
       "                        4.0887e-02, -6.5187e-01,  3.3743e-01, -9.5530e-04,  2.4990e-01,\n",
       "                        3.1492e-01,  7.4598e-01],\n",
       "                      [-3.5693e-01,  6.4344e-02, -6.8689e-01, -4.8250e-01, -1.2987e-01,\n",
       "                        7.7758e-01, -2.0132e-01, -1.9921e-01, -4.1685e-01,  6.3820e-01,\n",
       "                        9.3686e-01, -2.1231e-01,  2.8535e-02, -3.5633e-01, -3.8392e-01,\n",
       "                        5.5661e-01, -1.6907e-01, -8.4729e-02, -1.3681e-01, -2.1759e-01,\n",
       "                        2.0154e-01,  1.2122e-01, -8.7059e-02, -8.7888e-02, -5.1321e-02,\n",
       "                       -3.5846e-02, -3.9443e-01,  4.3168e-02, -1.5517e-01, -2.3038e-01,\n",
       "                        9.1265e-01,  8.8671e-02],\n",
       "                      [ 1.3762e-01, -5.3375e-01, -2.0487e-01,  9.3565e-03,  1.7808e-01,\n",
       "                       -6.3132e-01, -3.6942e-02, -3.4271e-01,  7.3377e-01, -6.5492e-01,\n",
       "                        5.7939e-02, -4.1476e-01, -5.1586e-02, -1.9976e-01,  1.1572e+00,\n",
       "                       -6.3650e-01, -3.6602e-01,  7.1837e-02,  1.1945e+00,  3.8027e-01,\n",
       "                       -1.3005e-01, -6.6571e-01, -8.1258e-02, -1.0866e-01,  8.3995e-03,\n",
       "                       -7.5392e-02,  6.7759e-01, -3.1253e-01,  5.6090e-01, -1.8166e-01,\n",
       "                        5.4416e-02, -1.4425e-01],\n",
       "                      [ 2.1889e-01, -1.7127e-01,  3.7783e-01, -3.1096e-01, -3.3793e-01,\n",
       "                        4.7536e-01, -6.0932e-01,  3.6200e-01,  5.4867e-02,  6.5617e-01,\n",
       "                       -6.1099e-01,  1.7719e-01,  6.5458e-01, -5.6821e-02,  2.1407e-01,\n",
       "                        1.2524e+00,  3.5395e-01, -1.9772e-01, -2.5560e-01, -1.8137e-01,\n",
       "                        1.0764e-01,  4.2500e-01, -1.7164e-01,  5.1229e-01,  1.7021e-01,\n",
       "                        1.8411e-01, -5.7319e-01, -4.1629e-02,  2.8868e-01, -3.0426e-01,\n",
       "                       -7.3636e-01, -5.6940e-01],\n",
       "                      [ 1.0200e+00, -1.9267e-01, -2.1514e-01,  1.6088e-01, -1.2767e-01,\n",
       "                       -8.1336e-01, -6.7958e-01,  3.5544e-01, -5.3291e-01,  6.4612e-02,\n",
       "                       -6.4441e-02,  7.5586e-01, -3.7885e-01, -6.4454e-01,  5.4192e-02,\n",
       "                       -6.3571e-02,  1.0180e-01,  2.0656e-01, -4.6293e-01, -1.7072e-01,\n",
       "                        2.6718e-01,  3.7433e-01,  5.9971e-01, -3.3525e-01,  1.7951e-01,\n",
       "                        7.9924e-01,  6.7910e-01, -1.6961e-01, -1.9821e-01, -2.8677e-01,\n",
       "                       -7.2861e-01, -2.2894e-01],\n",
       "                      [-5.0879e-01, -2.5103e-01,  1.0548e-01, -1.1724e-01, -7.4879e-02,\n",
       "                        1.7193e-01,  8.0435e-01,  9.2727e-02,  3.8040e-01,  1.4110e-01,\n",
       "                        3.6044e-01, -4.2307e-01, -1.7689e-01,  1.0025e+00,  2.2775e-01,\n",
       "                       -7.1264e-01,  8.8540e-01, -3.5741e-01, -1.6840e-01,  9.4733e-01,\n",
       "                       -3.3754e-01, -2.3521e-01,  1.4903e-03, -2.8620e-01, -3.7834e-01,\n",
       "                       -1.4166e-01, -6.9152e-01, -2.2125e-01, -5.2296e-01, -1.4198e-01,\n",
       "                        2.9609e-01,  1.2666e-01],\n",
       "                      [-1.8415e-02,  5.7008e-01, -9.1054e-02, -7.1408e-02, -2.3022e-01,\n",
       "                        6.4653e-02,  4.7743e-01,  4.1741e-01, -3.3259e-01,  2.0744e-01,\n",
       "                        8.6999e-02, -2.8283e-01, -4.2604e-01, -1.4375e-01, -6.7795e-01,\n",
       "                        9.4974e-02, -2.9515e-01, -7.3246e-02, -3.9770e-01, -8.0885e-01,\n",
       "                        4.1419e-01,  4.4091e-01, -2.7289e-01, -4.7484e-01,  7.2076e-02,\n",
       "                       -4.7504e-01,  4.8315e-01,  8.8190e-01,  8.9754e-01, -1.0021e-01,\n",
       "                       -8.9459e-02,  4.3468e-01],\n",
       "                      [-5.4647e-01,  5.4425e-01, -1.0531e-01, -1.4831e-01,  7.1729e-02,\n",
       "                        8.7894e-01,  8.7111e-01,  1.1448e-02, -1.6250e-01, -2.0054e-01,\n",
       "                       -1.3085e-01, -3.8405e-01,  5.0159e-01,  1.9686e-01,  7.2638e-01,\n",
       "                        2.5245e-01, -1.4549e-01,  3.6600e-01,  8.2527e-01, -5.9191e-01,\n",
       "                       -1.0290e-02, -2.5549e-01,  3.0589e-01, -5.2991e-04,  2.9559e-01,\n",
       "                       -2.1056e-01,  5.5136e-01, -3.3881e-01, -3.7958e-01,  1.4021e-01,\n",
       "                       -2.5665e-01, -7.2991e-01]])),\n",
       "             ('linear3.bias',\n",
       "              tensor([-0.0375, -0.2273,  0.0047,  0.1394,  0.1106,  0.2630, -0.3920, -0.4460,\n",
       "                       0.2646,  0.0872]))])"
      ]
     },
     "execution_count": 129,
     "metadata": {},
     "output_type": "execute_result"
    }
   ],
   "source": [
    "model.state_dict()"
   ]
  },
  {
   "cell_type": "code",
   "execution_count": 130,
   "metadata": {},
   "outputs": [
    {
     "data": {
      "text/plain": [
       "OrderedDict([('linear1.weight',\n",
       "              tensor([[ 0.0044,  0.0217,  0.0317,  ...,  0.0072,  0.0097, -0.0073],\n",
       "                      [-0.0052, -0.0343,  0.0246,  ..., -0.0137,  0.0184, -0.0073],\n",
       "                      [-0.0188, -0.0109,  0.0276,  ...,  0.0200,  0.0030, -0.0246],\n",
       "                      ...,\n",
       "                      [-0.0067, -0.0109, -0.0335,  ..., -0.0145, -0.0279, -0.0021],\n",
       "                      [ 0.0277,  0.0109,  0.0265,  ..., -0.0095, -0.0229,  0.0178],\n",
       "                      [-0.0115,  0.0310, -0.0208,  ..., -0.0125,  0.0154, -0.0272]])),\n",
       "             ('linear1.bias',\n",
       "              tensor([-0.0173, -0.0074, -0.0069, -0.0184, -0.0227, -0.0263,  0.0020, -0.0291,\n",
       "                       0.0151, -0.0125, -0.0288,  0.0165,  0.0323,  0.0263,  0.0126,  0.0230,\n",
       "                       0.0099,  0.0007, -0.0045,  0.0347, -0.0136,  0.0208, -0.0099, -0.0227,\n",
       "                      -0.0186, -0.0130,  0.0064,  0.0105, -0.0159, -0.0104,  0.0232, -0.0146,\n",
       "                       0.0167, -0.0334, -0.0228, -0.0178, -0.0342,  0.0020, -0.0111, -0.0136,\n",
       "                      -0.0147, -0.0257,  0.0103,  0.0187,  0.0148,  0.0337, -0.0329,  0.0010,\n",
       "                      -0.0061, -0.0110, -0.0191, -0.0254,  0.0130, -0.0003, -0.0007,  0.0126,\n",
       "                       0.0325, -0.0267, -0.0322,  0.0331, -0.0150,  0.0326,  0.0217,  0.0008])),\n",
       "             ('linear2.weight',\n",
       "              tensor([[ 0.0357, -0.0606,  0.0767,  ...,  0.0007, -0.0933,  0.1194],\n",
       "                      [-0.0249, -0.1227,  0.0712,  ..., -0.1034, -0.0774,  0.0203],\n",
       "                      [-0.0281, -0.1031,  0.0069,  ...,  0.1001, -0.0173, -0.1027],\n",
       "                      ...,\n",
       "                      [ 0.1220, -0.0749, -0.0513,  ...,  0.1089,  0.0807,  0.0786],\n",
       "                      [ 0.1131,  0.1214,  0.0535,  ...,  0.0645, -0.0966, -0.0050],\n",
       "                      [ 0.0114,  0.1230,  0.0339,  ..., -0.1044,  0.0120,  0.1207]])),\n",
       "             ('linear2.bias',\n",
       "              tensor([ 0.0900, -0.0225,  0.0031,  0.0842,  0.0315, -0.0503,  0.0210, -0.0509,\n",
       "                      -0.0567, -0.0808, -0.1060,  0.0151, -0.0762, -0.1150, -0.1233, -0.1227,\n",
       "                       0.0919,  0.0988, -0.0194,  0.0593, -0.0107, -0.0029,  0.0592, -0.0539,\n",
       "                       0.0724, -0.0983,  0.0646, -0.0712, -0.0226,  0.0238,  0.0767, -0.0508])),\n",
       "             ('linear3.weight',\n",
       "              tensor([[ 0.0402, -0.0268,  0.0062, -0.0485,  0.0813, -0.1434,  0.1526, -0.0850,\n",
       "                        0.0496, -0.0033, -0.1042, -0.0999,  0.0907, -0.1376,  0.0650,  0.1266,\n",
       "                        0.1173, -0.1617,  0.0528,  0.0285,  0.0047,  0.0302, -0.0782, -0.0881,\n",
       "                        0.1305,  0.1604,  0.0385,  0.0525, -0.1290,  0.1490, -0.0436, -0.1511],\n",
       "                      [ 0.0479, -0.1516,  0.0886,  0.0496, -0.0496, -0.0455,  0.1678, -0.0642,\n",
       "                        0.0684,  0.0442, -0.0215,  0.0316,  0.1097, -0.0183,  0.1008,  0.1612,\n",
       "                       -0.1489, -0.0130, -0.1039,  0.1519,  0.1608,  0.0249, -0.1646, -0.0958,\n",
       "                       -0.1472,  0.0765, -0.0784,  0.1022,  0.0261, -0.1371,  0.1185,  0.0155],\n",
       "                      [-0.0993, -0.1372,  0.1355,  0.0009,  0.0307, -0.1648, -0.1050,  0.0622,\n",
       "                        0.1005,  0.0289,  0.1402, -0.1507, -0.0331,  0.0461, -0.0901,  0.1686,\n",
       "                        0.0998, -0.0594, -0.0642, -0.1212,  0.0266, -0.1521,  0.0659, -0.1587,\n",
       "                       -0.1367,  0.0539,  0.0871,  0.0995,  0.0295,  0.1697, -0.1466, -0.1393],\n",
       "                      [ 0.1159, -0.0460,  0.1407, -0.0267,  0.0430, -0.1019,  0.0149,  0.0264,\n",
       "                       -0.0536,  0.0607,  0.1487,  0.0761, -0.0714,  0.1651, -0.0679, -0.1447,\n",
       "                       -0.0321, -0.1331,  0.0215, -0.1103, -0.0890,  0.1559, -0.1062, -0.0864,\n",
       "                        0.1332,  0.0798, -0.1021, -0.1569,  0.0786, -0.1228,  0.0845, -0.1156],\n",
       "                      [ 0.0036,  0.1544, -0.0552,  0.0929,  0.0843,  0.0098,  0.0780,  0.0190,\n",
       "                       -0.1557, -0.0187,  0.1566,  0.1345, -0.0104, -0.0903,  0.0912, -0.0961,\n",
       "                        0.0195,  0.0356, -0.1271, -0.1089,  0.0662, -0.1189, -0.0034,  0.1645,\n",
       "                        0.0155,  0.1624,  0.1641, -0.0210,  0.0045,  0.0023,  0.0421,  0.1027],\n",
       "                      [-0.0067, -0.0353,  0.0855, -0.0615, -0.1383,  0.0316,  0.0398, -0.0066,\n",
       "                        0.1374,  0.0855,  0.0262,  0.0803, -0.0219,  0.0143, -0.0918, -0.0593,\n",
       "                       -0.1447,  0.0546,  0.1618, -0.0611, -0.0043,  0.0713, -0.1435, -0.0199,\n",
       "                       -0.1024,  0.1016, -0.1648,  0.1015, -0.1245, -0.0167,  0.0415, -0.0944],\n",
       "                      [-0.1381,  0.1674, -0.0566,  0.1072, -0.1723, -0.0894, -0.0631,  0.0839,\n",
       "                       -0.0620, -0.1233, -0.1092, -0.1384,  0.0122, -0.0071,  0.0397, -0.0917,\n",
       "                        0.0237, -0.0444,  0.1623,  0.0667,  0.0669,  0.0117, -0.1020, -0.0388,\n",
       "                        0.1626,  0.1296, -0.0612,  0.0888,  0.1417,  0.0776,  0.1698,  0.0486],\n",
       "                      [ 0.1672, -0.0944,  0.1112,  0.1746, -0.1495,  0.0923, -0.0282,  0.0855,\n",
       "                        0.1408,  0.0952,  0.0467, -0.0300,  0.0094, -0.0185,  0.0635,  0.1757,\n",
       "                        0.1296,  0.1338,  0.0878,  0.0681,  0.0975,  0.1164, -0.1241, -0.0681,\n",
       "                        0.0660,  0.1680, -0.0948,  0.1434,  0.1514,  0.1767,  0.1411,  0.0833],\n",
       "                      [-0.0553, -0.0478, -0.0201, -0.1355, -0.1015,  0.0626, -0.0431, -0.0702,\n",
       "                       -0.0282, -0.0681,  0.1392,  0.0018,  0.1419,  0.1440,  0.0103, -0.1382,\n",
       "                       -0.0426,  0.1210, -0.1516,  0.0429, -0.0269, -0.0348, -0.1286, -0.1083,\n",
       "                       -0.0142,  0.0496,  0.0198, -0.1430, -0.0563,  0.0841, -0.0469, -0.0170],\n",
       "                      [-0.0292,  0.1303, -0.0157,  0.0332, -0.0538, -0.1527, -0.0637,  0.1068,\n",
       "                        0.0621, -0.1322, -0.1242, -0.1718,  0.0101, -0.0365, -0.0673, -0.0910,\n",
       "                       -0.0306, -0.1443,  0.1275, -0.0890,  0.1287, -0.0282, -0.1585, -0.0409,\n",
       "                       -0.1487,  0.0546,  0.0952,  0.0005,  0.0869,  0.1145,  0.0502,  0.0585]])),\n",
       "             ('linear3.bias',\n",
       "              tensor([ 0.0827,  0.1148, -0.0783,  0.0854, -0.1241,  0.1191, -0.1405, -0.1509,\n",
       "                       0.0820, -0.0081]))])"
      ]
     },
     "execution_count": 130,
     "metadata": {},
     "output_type": "execute_result"
    }
   ],
   "source": [
    "input_size = 784\n",
    "hidden_size1 = 64\n",
    "hidden_size2 = 32\n",
    "num_classes = 10\n",
    "model2 = model = MnistModel(input_size, hidden_size1, hidden_size2, out_size=num_classes)\n",
    "model2.state_dict()"
   ]
  },
  {
   "cell_type": "code",
   "execution_count": 131,
   "metadata": {},
   "outputs": [
    {
     "data": {
      "text/plain": [
       "{'val_loss': 2.310168743133545, 'val_acc': 0.06074218824505806}"
      ]
     },
     "execution_count": 131,
     "metadata": {},
     "output_type": "execute_result"
    }
   ],
   "source": [
    "result = evaluate(model2, test_loader)\n",
    "result"
   ]
  },
  {
   "cell_type": "code",
   "execution_count": 132,
   "metadata": {},
   "outputs": [
    {
     "data": {
      "text/plain": [
       "OrderedDict([('linear1.weight',\n",
       "              tensor([[ 0.0215, -0.0322, -0.0041,  ..., -0.0314, -0.0230,  0.0191],\n",
       "                      [-0.0227, -0.0134,  0.0100,  ..., -0.0038,  0.0185, -0.0087],\n",
       "                      [-0.0335,  0.0075,  0.0121,  ...,  0.0191,  0.0255, -0.0066],\n",
       "                      ...,\n",
       "                      [-0.0256,  0.0026,  0.0127,  ...,  0.0038, -0.0354, -0.0253],\n",
       "                      [-0.0311, -0.0211,  0.0154,  ..., -0.0134, -0.0356,  0.0279],\n",
       "                      [-0.0184,  0.0171,  0.0148,  ...,  0.0027, -0.0344, -0.0023]])),\n",
       "             ('linear1.bias',\n",
       "              tensor([ 0.0552, -0.0624,  0.1588,  0.0630, -0.0135, -0.1381,  0.0226, -0.1442,\n",
       "                      -0.2062,  0.0027, -0.2543, -0.0334, -0.2168, -0.0311,  0.1815,  0.0329,\n",
       "                       0.2390, -0.0144,  0.0449,  0.0307,  0.0366, -0.0079,  0.0092,  0.2058,\n",
       "                       0.4038,  0.2215, -0.0295,  0.0552,  0.0331, -0.1183,  0.0534,  0.3658,\n",
       "                       0.2011, -0.0910,  0.0712,  0.0455, -0.0250,  0.1031, -0.1740,  0.1493,\n",
       "                       0.0935,  0.0966, -0.1088,  0.2247, -0.0338, -0.1289, -0.0644,  0.0138,\n",
       "                       0.0754,  0.0977, -0.0278, -0.1314,  0.0352, -0.0176,  0.0992,  0.2113,\n",
       "                      -0.0341,  0.0188,  0.0379,  0.0081,  0.1239,  0.0302, -0.2616,  0.1376])),\n",
       "             ('linear2.weight',\n",
       "              tensor([[-0.0528, -0.0634,  0.3638,  ...,  0.0034, -0.0076, -0.2194],\n",
       "                      [ 0.1486,  0.2547,  0.0609,  ..., -0.0441,  0.1329, -0.2704],\n",
       "                      [-0.0441,  0.1611,  0.1248,  ..., -0.1080, -0.1740,  0.3149],\n",
       "                      ...,\n",
       "                      [-0.1474,  0.0779, -0.1642,  ..., -0.2646,  0.3062, -0.1187],\n",
       "                      [-0.0990,  0.1339, -0.2543,  ...,  0.0975, -0.1446,  0.4917],\n",
       "                      [ 0.1149,  0.4178, -0.0270,  ..., -0.0127,  0.1828,  0.1469]])),\n",
       "             ('linear2.bias',\n",
       "              tensor([ 0.1106,  0.3412,  0.1067,  0.0170, -0.2073,  0.3138,  0.4662,  0.1039,\n",
       "                      -0.0033,  0.1618, -0.0272,  0.0924,  0.1431, -0.0420,  0.3566,  0.2955,\n",
       "                       0.0208,  0.0047,  0.3023, -0.0065, -0.1876,  0.1219,  0.0042, -0.0888,\n",
       "                       0.0013,  0.0207,  0.3718,  0.4335,  0.5018, -0.0171,  0.0999,  0.0946])),\n",
       "             ('linear3.weight',\n",
       "              tensor([[-2.4730e-02, -1.4069e-03, -2.8610e-01, -2.3334e-01,  6.0726e-01,\n",
       "                       -2.6640e-01, -4.6691e-01, -1.0710e-01,  1.7409e-01,  3.7945e-01,\n",
       "                       -2.7959e-02,  5.8758e-01, -7.0214e-02,  4.3493e-01, -2.3506e-01,\n",
       "                       -1.3879e-01, -1.6155e-01, -1.2029e-01, -5.5231e-03, -3.2916e-01,\n",
       "                       -2.1153e-01, -5.9449e-01, -2.2493e-01, -1.8262e-01, -1.0015e-01,\n",
       "                        7.7557e-01,  3.1729e-01,  6.5524e-01, -3.6266e-01,  8.0345e-01,\n",
       "                       -5.7111e-01,  2.1464e-01],\n",
       "                      [ 4.4757e-01, -4.6230e-01,  9.4065e-01,  6.5076e-01, -1.5782e-01,\n",
       "                       -7.9371e-01,  5.5194e-01,  5.8497e-02,  3.4419e-01, -2.7840e-01,\n",
       "                       -2.2879e-01, -2.4463e-01, -1.6960e-01, -4.2892e-02, -4.0216e-01,\n",
       "                       -1.7328e-01, -5.5561e-01, -2.0288e-01, -3.0726e-01, -9.7105e-02,\n",
       "                        2.0619e-01, -8.1600e-02,  2.4441e-01,  7.4683e-02, -7.6434e-02,\n",
       "                       -2.0397e-01, -1.9820e-01, -4.4047e-01, -3.3971e-01, -1.9491e-01,\n",
       "                        1.0308e+00,  2.3718e-02],\n",
       "                      [-5.6395e-01,  4.7819e-01,  1.3317e-01,  1.0962e-01, -1.9403e-01,\n",
       "                        2.1730e-01, -6.0485e-01, -5.4750e-01, -1.1997e-02, -3.1684e-01,\n",
       "                       -3.3824e-01,  2.6023e-01, -1.7996e-01, -2.1761e-01, -2.5905e-01,\n",
       "                       -7.7296e-01, -1.0232e-01,  3.3836e-02, -1.8773e-02,  1.0977e+00,\n",
       "                       -2.0503e-01,  4.8648e-01,  1.1245e-01,  2.2590e-01, -6.8513e-03,\n",
       "                        4.0887e-02, -6.5187e-01,  3.3743e-01, -9.5530e-04,  2.4990e-01,\n",
       "                        3.1492e-01,  7.4598e-01],\n",
       "                      [-3.5693e-01,  6.4344e-02, -6.8689e-01, -4.8250e-01, -1.2987e-01,\n",
       "                        7.7758e-01, -2.0132e-01, -1.9921e-01, -4.1685e-01,  6.3820e-01,\n",
       "                        9.3686e-01, -2.1231e-01,  2.8535e-02, -3.5633e-01, -3.8392e-01,\n",
       "                        5.5661e-01, -1.6907e-01, -8.4729e-02, -1.3681e-01, -2.1759e-01,\n",
       "                        2.0154e-01,  1.2122e-01, -8.7059e-02, -8.7888e-02, -5.1321e-02,\n",
       "                       -3.5846e-02, -3.9443e-01,  4.3168e-02, -1.5517e-01, -2.3038e-01,\n",
       "                        9.1265e-01,  8.8671e-02],\n",
       "                      [ 1.3762e-01, -5.3375e-01, -2.0487e-01,  9.3565e-03,  1.7808e-01,\n",
       "                       -6.3132e-01, -3.6942e-02, -3.4271e-01,  7.3377e-01, -6.5492e-01,\n",
       "                        5.7939e-02, -4.1476e-01, -5.1586e-02, -1.9976e-01,  1.1572e+00,\n",
       "                       -6.3650e-01, -3.6602e-01,  7.1837e-02,  1.1945e+00,  3.8027e-01,\n",
       "                       -1.3005e-01, -6.6571e-01, -8.1258e-02, -1.0866e-01,  8.3995e-03,\n",
       "                       -7.5392e-02,  6.7759e-01, -3.1253e-01,  5.6090e-01, -1.8166e-01,\n",
       "                        5.4416e-02, -1.4425e-01],\n",
       "                      [ 2.1889e-01, -1.7127e-01,  3.7783e-01, -3.1096e-01, -3.3793e-01,\n",
       "                        4.7536e-01, -6.0932e-01,  3.6200e-01,  5.4867e-02,  6.5617e-01,\n",
       "                       -6.1099e-01,  1.7719e-01,  6.5458e-01, -5.6821e-02,  2.1407e-01,\n",
       "                        1.2524e+00,  3.5395e-01, -1.9772e-01, -2.5560e-01, -1.8137e-01,\n",
       "                        1.0764e-01,  4.2500e-01, -1.7164e-01,  5.1229e-01,  1.7021e-01,\n",
       "                        1.8411e-01, -5.7319e-01, -4.1629e-02,  2.8868e-01, -3.0426e-01,\n",
       "                       -7.3636e-01, -5.6940e-01],\n",
       "                      [ 1.0200e+00, -1.9267e-01, -2.1514e-01,  1.6088e-01, -1.2767e-01,\n",
       "                       -8.1336e-01, -6.7958e-01,  3.5544e-01, -5.3291e-01,  6.4612e-02,\n",
       "                       -6.4441e-02,  7.5586e-01, -3.7885e-01, -6.4454e-01,  5.4192e-02,\n",
       "                       -6.3571e-02,  1.0180e-01,  2.0656e-01, -4.6293e-01, -1.7072e-01,\n",
       "                        2.6718e-01,  3.7433e-01,  5.9971e-01, -3.3525e-01,  1.7951e-01,\n",
       "                        7.9924e-01,  6.7910e-01, -1.6961e-01, -1.9821e-01, -2.8677e-01,\n",
       "                       -7.2861e-01, -2.2894e-01],\n",
       "                      [-5.0879e-01, -2.5103e-01,  1.0548e-01, -1.1724e-01, -7.4879e-02,\n",
       "                        1.7193e-01,  8.0435e-01,  9.2727e-02,  3.8040e-01,  1.4110e-01,\n",
       "                        3.6044e-01, -4.2307e-01, -1.7689e-01,  1.0025e+00,  2.2775e-01,\n",
       "                       -7.1264e-01,  8.8540e-01, -3.5741e-01, -1.6840e-01,  9.4733e-01,\n",
       "                       -3.3754e-01, -2.3521e-01,  1.4903e-03, -2.8620e-01, -3.7834e-01,\n",
       "                       -1.4166e-01, -6.9152e-01, -2.2125e-01, -5.2296e-01, -1.4198e-01,\n",
       "                        2.9609e-01,  1.2666e-01],\n",
       "                      [-1.8415e-02,  5.7008e-01, -9.1054e-02, -7.1408e-02, -2.3022e-01,\n",
       "                        6.4653e-02,  4.7743e-01,  4.1741e-01, -3.3259e-01,  2.0744e-01,\n",
       "                        8.6999e-02, -2.8283e-01, -4.2604e-01, -1.4375e-01, -6.7795e-01,\n",
       "                        9.4974e-02, -2.9515e-01, -7.3246e-02, -3.9770e-01, -8.0885e-01,\n",
       "                        4.1419e-01,  4.4091e-01, -2.7289e-01, -4.7484e-01,  7.2076e-02,\n",
       "                       -4.7504e-01,  4.8315e-01,  8.8190e-01,  8.9754e-01, -1.0021e-01,\n",
       "                       -8.9459e-02,  4.3468e-01],\n",
       "                      [-5.4647e-01,  5.4425e-01, -1.0531e-01, -1.4831e-01,  7.1729e-02,\n",
       "                        8.7894e-01,  8.7111e-01,  1.1448e-02, -1.6250e-01, -2.0054e-01,\n",
       "                       -1.3085e-01, -3.8405e-01,  5.0159e-01,  1.9686e-01,  7.2638e-01,\n",
       "                        2.5245e-01, -1.4549e-01,  3.6600e-01,  8.2527e-01, -5.9191e-01,\n",
       "                       -1.0290e-02, -2.5549e-01,  3.0589e-01, -5.2991e-04,  2.9559e-01,\n",
       "                       -2.1056e-01,  5.5136e-01, -3.3881e-01, -3.7958e-01,  1.4021e-01,\n",
       "                       -2.5665e-01, -7.2991e-01]])),\n",
       "             ('linear3.bias',\n",
       "              tensor([-0.0375, -0.2273,  0.0047,  0.1394,  0.1106,  0.2630, -0.3920, -0.4460,\n",
       "                       0.2646,  0.0872]))])"
      ]
     },
     "execution_count": 132,
     "metadata": {},
     "output_type": "execute_result"
    }
   ],
   "source": [
    "model2.load_state_dict(torch.load('mnist-logistic.pth'))\n",
    "model2.state_dict()"
   ]
  },
  {
   "cell_type": "code",
   "execution_count": 133,
   "metadata": {},
   "outputs": [
    {
     "data": {
      "text/plain": [
       "{'val_loss': 0.07747671753168106, 'val_acc': 0.975878894329071}"
      ]
     },
     "execution_count": 133,
     "metadata": {},
     "output_type": "execute_result"
    }
   ],
   "source": [
    "result = evaluate(model2, test_loader)\n",
    "result"
   ]
  }
 ],
 "metadata": {
  "interpreter": {
   "hash": "e7cb1b9ae4d417fedf7f40a8eec98f7cfbd359e096bd857395a915f4609834ce"
  },
  "kernelspec": {
   "display_name": "Python 3.9.5 64-bit ('base': conda)",
   "language": "python",
   "name": "python3"
  },
  "language_info": {
   "codemirror_mode": {
    "name": "ipython",
    "version": 3
   },
   "file_extension": ".py",
   "mimetype": "text/x-python",
   "name": "python",
   "nbconvert_exporter": "python",
   "pygments_lexer": "ipython3",
   "version": "3.9.5"
  },
  "orig_nbformat": 4
 },
 "nbformat": 4,
 "nbformat_minor": 2
}
