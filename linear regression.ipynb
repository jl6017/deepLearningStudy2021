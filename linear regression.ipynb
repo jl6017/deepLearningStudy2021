{
  "nbformat": 4,
  "nbformat_minor": 0,
  "metadata": {
    "interpreter": {
      "hash": "e7cb1b9ae4d417fedf7f40a8eec98f7cfbd359e096bd857395a915f4609834ce"
    },
    "kernelspec": {
      "display_name": "Python 3.9.5 64-bit ('base': conda)",
      "language": "python",
      "name": "python3"
    },
    "language_info": {
      "codemirror_mode": {
        "name": "ipython",
        "version": 3
      },
      "file_extension": ".py",
      "mimetype": "text/x-python",
      "name": "python",
      "nbconvert_exporter": "python",
      "pygments_lexer": "ipython3",
      "version": "3.9.5"
    },
    "orig_nbformat": 4,
    "colab": {
      "name": "“regression1120.ipynb”的副本",
      "provenance": [],
      "collapsed_sections": [],
      "include_colab_link": true
    }
  },
  "cells": [
    {
      "cell_type": "markdown",
      "metadata": {
        "id": "view-in-github",
        "colab_type": "text"
      },
      "source": [
        "<a href=\"https://colab.research.google.com/github/jacklu98/python-random-quote/blob/master/%E2%80%9Cregression1120_ipynb%E2%80%9D%E7%9A%84%E5%89%AF%E6%9C%AC.ipynb\" target=\"_parent\"><img src=\"https://colab.research.google.com/assets/colab-badge.svg\" alt=\"Open In Colab\"/></a>"
      ]
    },
    {
      "cell_type": "code",
      "metadata": {
        "id": "1QjFmTSwjOXU"
      },
      "source": [
        "import torch\n",
        "import torchvision\n",
        "from torchvision.datasets import EMNIST\n",
        "import torchvision.transforms as transforms\n",
        "from torch.utils.data import random_split, DataLoader\n",
        "import torch.nn as nn\n",
        "import torch.nn.functional as F\n",
        "import matplotlib.pyplot as plt\n",
        "%matplotlib inline"
      ],
      "execution_count": null,
      "outputs": []
    },
    {
      "cell_type": "code",
      "metadata": {
        "id": "HtlXvytOjOXV",
        "colab": {
          "base_uri": "https://localhost:8080/"
        },
        "outputId": "ca56a83c-3438-4ce4-b3dc-567b6007efc7"
      },
      "source": [
        "dataset = EMNIST(root='data/', split=\"balanced\", download = True)\n",
        "len(dataset)"
      ],
      "execution_count": null,
      "outputs": [
        {
          "output_type": "execute_result",
          "data": {
            "text/plain": [
              "112800"
            ]
          },
          "metadata": {},
          "execution_count": 171
        }
      ]
    },
    {
      "cell_type": "code",
      "metadata": {
        "id": "iCOpe-2_jOXW",
        "colab": {
          "base_uri": "https://localhost:8080/"
        },
        "outputId": "00ffb8b2-65b0-4663-986a-788df524842c"
      },
      "source": [
        "test_dataset = EMNIST(root='data/', split=\"balanced\", train=False)\n",
        "len(test_dataset)"
      ],
      "execution_count": null,
      "outputs": [
        {
          "output_type": "execute_result",
          "data": {
            "text/plain": [
              "18800"
            ]
          },
          "metadata": {},
          "execution_count": 172
        }
      ]
    },
    {
      "cell_type": "code",
      "metadata": {
        "id": "ZCJxTLa_mubX"
      },
      "source": [
        "idx = [\"0\", \"1\", \"2\", \"3\", \"4\", \"5\", \"6\", \"7\", \"8\", \"9\", \n",
        "       \"A\", \"B\", \"C\", \"D\", \"E\", \"F\", \"G\", \"H\", \"I\", \"J\", \"K\", \"L\", \"M\", \"N\",\n",
        "       \"O\", \"P\", \"Q\", \"R\", \"S\", \"T\", \"U\", \"V\", \"W\", \"X\", \"Y\", \"Z\",\n",
        "       \"a\", \"b\", \"d\", \"e\", \"f\", \"g\", \"h\", \"n\", \"q\", \"r\", \"t\"]"
      ],
      "execution_count": null,
      "outputs": []
    },
    {
      "cell_type": "code",
      "metadata": {
        "id": "H-XTiPMdjOXW",
        "colab": {
          "base_uri": "https://localhost:8080/",
          "height": 283
        },
        "outputId": "b19c33c9-2d15-4fe6-b1c5-ab5ffd87391c"
      },
      "source": [
        "j = 0\n",
        "for i in range(len(dataset)):\n",
        "  image, label = dataset[i]\n",
        "  if label == 11: \n",
        "    j += 1\n",
        "    if j == 3:\n",
        "      break\n",
        "plt.imshow(image, cmap='gray')\n",
        "print(\"label: \", idx[label])"
      ],
      "execution_count": null,
      "outputs": [
        {
          "output_type": "stream",
          "name": "stdout",
          "text": [
            "label:  B\n"
          ]
        },
        {
          "output_type": "display_data",
          "data": {
            "image/png": "[encoded data removed]",
            "text/plain": [
              "<Figure size 432x288 with 1 Axes>"
            ]
          },
          "metadata": {
            "needs_background": "light"
          }
        }
      ]
    },
    {
      "cell_type": "code",
      "metadata": {
        "id": "2bXN1goejOXW"
      },
      "source": [
        "# EMNIST dataset (images and labels)\n",
        "dataset = EMNIST(root='data/', \n",
        "                train=True, split=\"balanced\",\n",
        "                transform=transforms.ToTensor())"
      ],
      "execution_count": null,
      "outputs": []
    },
    {
      "cell_type": "code",
      "metadata": {
        "id": "XHbZCeNxjOXW",
        "colab": {
          "base_uri": "https://localhost:8080/"
        },
        "outputId": "28be1679-1254-4081-d533-ac3071fd3328"
      },
      "source": [
        "img_tensor, label = dataset[0]\n",
        "print(img_tensor.shape, label)"
      ],
      "execution_count": null,
      "outputs": [
        {
          "output_type": "stream",
          "name": "stdout",
          "text": [
            "torch.Size([1, 28, 28]) 45\n"
          ]
        }
      ]
    },
    {
      "cell_type": "code",
      "metadata": {
        "id": "ovFF9b1BjOXW",
        "colab": {
          "base_uri": "https://localhost:8080/"
        },
        "outputId": "3fb45655-a47a-40ec-bafa-f79ef8e9b3e3"
      },
      "source": [
        "train_ds, val_ds = random_split(dataset, [94000, 18800])\n",
        "len(train_ds), len(val_ds)"
      ],
      "execution_count": null,
      "outputs": [
        {
          "output_type": "execute_result",
          "data": {
            "text/plain": [
              "(94000, 18800)"
            ]
          },
          "metadata": {},
          "execution_count": 177
        }
      ]
    },
    {
      "cell_type": "code",
      "metadata": {
        "id": "lXdchN_xjOXX"
      },
      "source": [
        "batch_size = 128\n",
        "\n",
        "train_loader = DataLoader(train_ds, batch_size, shuffle=True)\n",
        "val_loader = DataLoader(val_ds, batch_size)"
      ],
      "execution_count": null,
      "outputs": []
    },
    {
      "cell_type": "code",
      "metadata": {
        "id": "WXUJ2i_9jOXX"
      },
      "source": [
        "input_size  = 28 * 28\n",
        "num_classes = 47\n",
        "model = nn.Linear(input_size, num_classes)"
      ],
      "execution_count": null,
      "outputs": []
    },
    {
      "cell_type": "code",
      "metadata": {
        "id": "hy2p-8vGjOXX",
        "colab": {
          "base_uri": "https://localhost:8080/"
        },
        "outputId": "cab2d7a6-8602-4a25-e30e-0904a77e5aa9"
      },
      "source": [
        "list(model.parameters())"
      ],
      "execution_count": null,
      "outputs": [
        {
          "output_type": "execute_result",
          "data": {
            "text/plain": [
              "[Parameter containing:\n",
              " tensor([[ 0.0339,  0.0023, -0.0161,  ...,  0.0107,  0.0328, -0.0228],\n",
              "         [ 0.0004, -0.0018, -0.0312,  ..., -0.0159,  0.0057,  0.0202],\n",
              "         [ 0.0115, -0.0061,  0.0197,  ..., -0.0045, -0.0338, -0.0032],\n",
              "         ...,\n",
              "         [-0.0323,  0.0059,  0.0151,  ...,  0.0282, -0.0301,  0.0132],\n",
              "         [-0.0253, -0.0209, -0.0102,  ...,  0.0168,  0.0350,  0.0181],\n",
              "         [ 0.0237,  0.0220, -0.0353,  ..., -0.0328,  0.0067, -0.0312]],\n",
              "        requires_grad=True), Parameter containing:\n",
              " tensor([-0.0261, -0.0072,  0.0078, -0.0033, -0.0118,  0.0324, -0.0263,  0.0117,\n",
              "         -0.0260, -0.0167,  0.0154,  0.0018,  0.0201, -0.0017,  0.0154, -0.0234,\n",
              "          0.0239,  0.0042, -0.0015,  0.0164,  0.0326, -0.0021,  0.0182,  0.0265,\n",
              "         -0.0242,  0.0239,  0.0268, -0.0053, -0.0048, -0.0099,  0.0055,  0.0024,\n",
              "          0.0343,  0.0199, -0.0010,  0.0207, -0.0149,  0.0323, -0.0065,  0.0030,\n",
              "          0.0111, -0.0252, -0.0073, -0.0297,  0.0250,  0.0109, -0.0236],\n",
              "        requires_grad=True)]"
            ]
          },
          "metadata": {},
          "execution_count": 180
        }
      ]
    },
    {
      "cell_type": "code",
      "metadata": {
        "id": "WloJZsisjOXX",
        "colab": {
          "base_uri": "https://localhost:8080/"
        },
        "outputId": "b56e714c-f289-4ae8-f324-ebb248833ca5"
      },
      "source": [
        "for images, labels in train_loader:\n",
        "    images = images.reshape(-1,784)\n",
        "    print(labels.shape)\n",
        "    print(images.shape)\n",
        "    outputs = model(images)\n",
        "    print(outputs[0])\n",
        "    break"
      ],
      "execution_count": null,
      "outputs": [
        {
          "output_type": "stream",
          "name": "stdout",
          "text": [
            "torch.Size([128])\n",
            "torch.Size([128, 784])\n",
            "tensor([-0.0517, -0.0272, -0.0930,  0.0523, -0.2456,  0.1628,  0.1693, -0.0493,\n",
            "        -0.3648, -0.1576, -0.1043,  0.2624,  0.0018, -0.0569,  0.1928, -0.2397,\n",
            "        -0.0073,  0.1383, -0.2729, -0.3452,  0.2340,  0.2186, -0.1077, -0.0258,\n",
            "         0.0758, -0.0217, -0.0636,  0.0153,  0.0294, -0.0017,  0.3785,  0.0463,\n",
            "        -0.2566,  0.0650,  0.1613,  0.1934,  0.1273,  0.1574, -0.1801,  0.0060,\n",
            "        -0.1820,  0.1230, -0.0251, -0.2153,  0.0710,  0.1263, -0.0613],\n",
            "       grad_fn=<SelectBackward0>)\n"
          ]
        }
      ]
    },
    {
      "cell_type": "code",
      "metadata": {
        "id": "PukvrCqfjOXX"
      },
      "source": [
        "class MnistModel(nn.Module):\n",
        "    def __init__(self):\n",
        "        super().__init__()\n",
        "        self.linear = nn.Linear(input_size, num_classes)\n",
        "        \n",
        "    def forward(self, xb):\n",
        "        xb = xb.reshape(-1, 784)\n",
        "        out = self.linear(xb)\n",
        "        return out\n",
        "    \n",
        "model = MnistModel()"
      ],
      "execution_count": null,
      "outputs": []
    },
    {
      "cell_type": "code",
      "metadata": {
        "id": "45URhb-ZjOXY",
        "colab": {
          "base_uri": "https://localhost:8080/"
        },
        "outputId": "3fbc93c8-d581-4511-be90-ab5e33baf6ce"
      },
      "source": [
        "model.linear"
      ],
      "execution_count": null,
      "outputs": [
        {
          "output_type": "execute_result",
          "data": {
            "text/plain": [
              "Linear(in_features=784, out_features=47, bias=True)"
            ]
          },
          "metadata": {},
          "execution_count": 16
        }
      ]
    },
    {
      "cell_type": "code",
      "metadata": {
        "id": "fnTJGekYjOXY",
        "colab": {
          "base_uri": "https://localhost:8080/"
        },
        "outputId": "7943bd21-b670-49a5-88e6-800f46d6216e"
      },
      "source": [
        "list(model.parameters())"
      ],
      "execution_count": null,
      "outputs": [
        {
          "output_type": "execute_result",
          "data": {
            "text/plain": [
              "[Parameter containing:\n",
              " tensor([[ 0.0127, -0.0129, -0.0162,  ..., -0.0304,  0.0153,  0.0339],\n",
              "         [-0.0237, -0.0016, -0.0063,  ..., -0.0222,  0.0041,  0.0077],\n",
              "         [ 0.0053, -0.0158, -0.0343,  ..., -0.0071, -0.0164, -0.0153],\n",
              "         ...,\n",
              "         [ 0.0289,  0.0091,  0.0311,  ...,  0.0273, -0.0327,  0.0063],\n",
              "         [ 0.0059,  0.0017, -0.0270,  ...,  0.0281,  0.0337, -0.0317],\n",
              "         [-0.0171,  0.0232, -0.0212,  ...,  0.0283, -0.0303, -0.0343]],\n",
              "        requires_grad=True), Parameter containing:\n",
              " tensor([-0.0157, -0.0314, -0.0092,  0.0241, -0.0042, -0.0115, -0.0301,  0.0142,\n",
              "          0.0101, -0.0089, -0.0241, -0.0253,  0.0143,  0.0192,  0.0312, -0.0034,\n",
              "         -0.0171, -0.0347,  0.0133, -0.0206, -0.0317,  0.0183, -0.0002,  0.0026,\n",
              "         -0.0054, -0.0207, -0.0063,  0.0180,  0.0323, -0.0175, -0.0115, -0.0346,\n",
              "          0.0088, -0.0324, -0.0245, -0.0073, -0.0336,  0.0344, -0.0271,  0.0193,\n",
              "          0.0143, -0.0264,  0.0288, -0.0250, -0.0036, -0.0199,  0.0073],\n",
              "        requires_grad=True)]"
            ]
          },
          "metadata": {},
          "execution_count": 17
        }
      ]
    },
    {
      "cell_type": "code",
      "metadata": {
        "id": "d7b8tnmejOXY",
        "colab": {
          "base_uri": "https://localhost:8080/"
        },
        "outputId": "b470bc2e-308d-4b7b-9185-40c44df743fb"
      },
      "source": [
        "for images, labels in train_loader:\n",
        "    print(images.shape)\n",
        "    outputs = model(images)\n",
        "    print(outputs[:2])\n",
        "    break"
      ],
      "execution_count": null,
      "outputs": [
        {
          "output_type": "stream",
          "name": "stdout",
          "text": [
            "torch.Size([128, 1, 28, 28])\n",
            "tensor([[-0.2798, -0.0436, -0.1798, -0.1315, -0.1275, -0.0944, -0.0214,  0.1622,\n",
            "          0.2356,  0.1672, -0.4413, -0.3946, -0.0950, -0.0404, -0.1755,  0.1099,\n",
            "         -0.1341,  0.0494, -0.0010, -0.2500, -0.3131, -0.0343, -0.0893,  0.1633,\n",
            "         -0.0381, -0.2621, -0.1009, -0.1246,  0.0992,  0.1482, -0.1679, -0.2437,\n",
            "          0.1199, -0.0543, -0.0497, -0.0463, -0.1968,  0.1591,  0.0457, -0.1464,\n",
            "          0.0859,  0.0412,  0.1479,  0.0304,  0.2362, -0.1866,  0.1280],\n",
            "        [-0.0423, -0.2950, -0.2739,  0.1056,  0.2390,  0.0752, -0.0816,  0.5641,\n",
            "         -0.0731,  0.0719, -0.0757, -0.0052, -0.2731,  0.0651, -0.0246,  0.3086,\n",
            "         -0.1831,  0.0124,  0.0197,  0.0349,  0.1361, -0.1671,  0.0285, -0.2666,\n",
            "          0.0930, -0.1099, -0.2243,  0.0973,  0.1959,  0.1029,  0.1809, -0.0362,\n",
            "         -0.0986,  0.3003, -0.2406, -0.1476,  0.1658, -0.1198,  0.3549, -0.1605,\n",
            "         -0.1010, -0.1841, -0.0723,  0.2052,  0.0363,  0.0773,  0.3199]],\n",
            "       grad_fn=<SliceBackward0>)\n"
          ]
        }
      ]
    },
    {
      "cell_type": "code",
      "metadata": {
        "id": "teNg9VBmjOXY",
        "colab": {
          "base_uri": "https://localhost:8080/"
        },
        "outputId": "dd167c2c-d2b6-434e-da9d-28f730a8a16c"
      },
      "source": [
        "probs = F.softmax(outputs, dim = 1)\n",
        "print(probs[:2])\n",
        "print(torch.sum(probs[0]).item())"
      ],
      "execution_count": null,
      "outputs": [
        {
          "output_type": "stream",
          "name": "stdout",
          "text": [
            "tensor([[0.0167, 0.0211, 0.0184, 0.0194, 0.0194, 0.0201, 0.0216, 0.0260, 0.0279,\n",
            "         0.0261, 0.0142, 0.0149, 0.0201, 0.0212, 0.0185, 0.0246, 0.0193, 0.0232,\n",
            "         0.0220, 0.0172, 0.0161, 0.0213, 0.0202, 0.0260, 0.0212, 0.0170, 0.0200,\n",
            "         0.0195, 0.0244, 0.0256, 0.0187, 0.0173, 0.0249, 0.0209, 0.0210, 0.0211,\n",
            "         0.0181, 0.0259, 0.0231, 0.0191, 0.0241, 0.0230, 0.0256, 0.0228, 0.0280,\n",
            "         0.0183, 0.0251],\n",
            "        [0.0198, 0.0154, 0.0157, 0.0230, 0.0262, 0.0223, 0.0190, 0.0363, 0.0192,\n",
            "         0.0222, 0.0192, 0.0206, 0.0157, 0.0220, 0.0202, 0.0281, 0.0172, 0.0209,\n",
            "         0.0211, 0.0214, 0.0237, 0.0175, 0.0213, 0.0158, 0.0227, 0.0185, 0.0165,\n",
            "         0.0228, 0.0251, 0.0229, 0.0248, 0.0199, 0.0187, 0.0279, 0.0162, 0.0178,\n",
            "         0.0244, 0.0183, 0.0295, 0.0176, 0.0187, 0.0172, 0.0192, 0.0254, 0.0214,\n",
            "         0.0223, 0.0284]], grad_fn=<SliceBackward0>)\n",
            "1.0\n"
          ]
        }
      ]
    },
    {
      "cell_type": "code",
      "metadata": {
        "id": "pMvMW0bRjOXY",
        "colab": {
          "base_uri": "https://localhost:8080/"
        },
        "outputId": "d7c59ca0-acf6-4b75-93a4-f1e6ee8b3839"
      },
      "source": [
        "max_probs, preds = torch.max(probs, dim=1)\n",
        "print(preds)\n",
        "print(labels)"
      ],
      "execution_count": null,
      "outputs": [
        {
          "output_type": "stream",
          "name": "stdout",
          "text": [
            "tensor([44,  7,  7,  7,  8,  8, 15,  8, 46, 15, 15, 15,  7, 38, 15, 15, 17, 15,\n",
            "        42, 38, 13, 15, 42, 32, 15,  8, 15, 15,  8, 38, 38, 22, 15, 46, 15, 15,\n",
            "        15,  7,  8,  7,  8, 45,  8, 15,  7, 15, 38, 42, 38, 15, 12, 42, 15,  5,\n",
            "         6,  8, 45, 15, 46, 15, 15, 38, 15, 15, 15, 15, 15, 15, 42, 40, 15, 28,\n",
            "         8,  1, 15, 15, 46, 15, 28,  8, 29, 45,  8, 15, 15, 15, 15, 38, 15, 37,\n",
            "         7, 15, 15, 15,  5, 15,  8, 15, 15, 35, 15, 15, 45, 29, 38, 15,  7, 38,\n",
            "         8,  7, 15,  8, 16,  8,  9,  7, 15, 15,  7, 42, 15, 38, 15, 15,  7, 15,\n",
            "        45, 15])\n",
            "tensor([46, 29, 34,  0,  0, 24, 45,  4,  7, 16, 35, 12, 46, 18, 12, 35, 16, 17,\n",
            "        18, 12, 36, 28, 18,  7, 26, 26, 15,  2, 26, 14, 17, 21,  4, 34, 26, 33,\n",
            "         5, 41, 34, 38, 43, 16, 28, 23, 12, 17, 10,  1, 19, 26,  6, 33, 43, 23,\n",
            "        31, 10, 26, 34,  9, 22, 15, 33, 15, 10, 40, 26,  8, 33,  6, 13,  9, 18,\n",
            "        26,  0, 12, 18,  5, 23, 19, 17, 46, 42, 36,  3, 11, 18,  4, 35, 22, 46,\n",
            "        29, 13, 37, 36,  3, 27, 26,  0, 44,  5, 21, 13, 16, 22, 32, 14, 14, 17,\n",
            "        31, 37, 29,  0, 36, 37, 13, 46,  0,  8, 35, 21, 24, 33, 11, 24, 19, 37,\n",
            "        38, 22])\n"
          ]
        }
      ]
    },
    {
      "cell_type": "code",
      "metadata": {
        "id": "ttxAbIOzjOXZ",
        "colab": {
          "base_uri": "https://localhost:8080/"
        },
        "outputId": "e8a3afa0-fef0-4a2c-ddd7-038fd4135bf6"
      },
      "source": [
        "def accuracy(outputs, labels):\n",
        "    _, preds = torch.max(outputs, dim=1)\n",
        "    return torch.tensor(torch.sum(preds == labels).item() / len(preds))\n",
        "accuracy(outputs, labels)"
      ],
      "execution_count": null,
      "outputs": [
        {
          "output_type": "execute_result",
          "data": {
            "text/plain": [
              "tensor(0.0234)"
            ]
          },
          "metadata": {},
          "execution_count": 21
        }
      ]
    },
    {
      "cell_type": "code",
      "metadata": {
        "id": "TP6K1M_ZjOXZ",
        "colab": {
          "base_uri": "https://localhost:8080/"
        },
        "outputId": "c842c835-45c1-475f-f275-594f08e8c40d"
      },
      "source": [
        "outputs"
      ],
      "execution_count": null,
      "outputs": [
        {
          "output_type": "execute_result",
          "data": {
            "text/plain": [
              "tensor([[-0.2798, -0.0436, -0.1798,  ...,  0.2362, -0.1866,  0.1280],\n",
              "        [-0.0423, -0.2950, -0.2739,  ...,  0.0363,  0.0773,  0.3199],\n",
              "        [-0.0955, -0.0464, -0.1965,  ...,  0.0123,  0.1565, -0.1078],\n",
              "        ...,\n",
              "        [-0.3250,  0.0326, -0.4766,  ...,  0.1010,  0.2402,  0.1797],\n",
              "        [ 0.0466, -0.1430,  0.1169,  ..., -0.2120,  0.4221, -0.0209],\n",
              "        [-0.2832, -0.0894, -0.2188,  ...,  0.1668,  0.0996,  0.1865]],\n",
              "       grad_fn=<AddmmBackward0>)"
            ]
          },
          "metadata": {},
          "execution_count": 22
        }
      ]
    },
    {
      "cell_type": "code",
      "metadata": {
        "id": "hiaTNNcWjOXZ",
        "colab": {
          "base_uri": "https://localhost:8080/"
        },
        "outputId": "43272e2c-9715-44a2-9fa0-76eecb6cc966"
      },
      "source": [
        "loss_fn = F.cross_entropy\n",
        "loss_fn(outputs, labels)"
      ],
      "execution_count": null,
      "outputs": [
        {
          "output_type": "execute_result",
          "data": {
            "text/plain": [
              "tensor(3.8690, grad_fn=<NllLossBackward0>)"
            ]
          },
          "metadata": {},
          "execution_count": 23
        }
      ]
    },
    {
      "cell_type": "code",
      "metadata": {
        "id": "u0fbOkEQjOXZ"
      },
      "source": [
        "def evaluate(model, val_loader):\n",
        "    outputs = [model.validation_step(batch) for batch in val_loader]\n",
        "    return model.validation_epoch_end(outputs)\n",
        "    \n",
        "def fit(epochs, lr, model, train_loader, val_loader, opt_func=torch.optim.SGD):\n",
        "    optimizer = opt_func(model.parameters(), lr)\n",
        "    history = [] # for recording epoch-wise results\n",
        "    \n",
        "    for epoch in range(epochs):\n",
        "        \n",
        "        # Training Phase \n",
        "        for batch in train_loader:\n",
        "            loss = model.training_step(batch)\n",
        "            loss.backward()\n",
        "            optimizer.step()\n",
        "            optimizer.zero_grad()\n",
        "        \n",
        "        # Validation phase\n",
        "        result = evaluate(model, val_loader)\n",
        "        model.epoch_end(epoch, result)\n",
        "        history.append(result)\n",
        "\n",
        "    return history"
      ],
      "execution_count": null,
      "outputs": []
    },
    {
      "cell_type": "code",
      "metadata": {
        "id": "zsZWwyhXjOXZ"
      },
      "source": [
        "class MnistModel(nn.Module):\n",
        "    def __init__(self):\n",
        "        super().__init__()\n",
        "        self.linear = nn.Linear(input_size, num_classes)\n",
        "        \n",
        "    def forward(self, xb):\n",
        "        xb = xb.reshape(-1, 784)\n",
        "        out = self.linear(xb)\n",
        "        return out\n",
        "    \n",
        "    def training_step(self, batch):\n",
        "        images, labels = batch \n",
        "        out = self(images)                  # Generate predictions\n",
        "        loss = F.cross_entropy(out, labels) # Calculate loss\n",
        "        return loss\n",
        "    \n",
        "    def validation_step(self, batch):\n",
        "        images, labels = batch \n",
        "        out = self(images)                    # Generate predictions\n",
        "        loss = F.cross_entropy(out, labels)   # Calculate loss\n",
        "        acc = accuracy(out, labels)           # Calculate accuracy\n",
        "        return {'val_loss': loss, 'val_acc': acc}\n",
        "        \n",
        "    def validation_epoch_end(self, outputs):\n",
        "        batch_losses = [x['val_loss'] for x in outputs]\n",
        "        epoch_loss = torch.stack(batch_losses).mean()   # Combine losses\n",
        "        batch_accs = [x['val_acc'] for x in outputs]\n",
        "        epoch_acc = torch.stack(batch_accs).mean()      # Combine accuracies\n",
        "        return {'val_loss': epoch_loss.item(), 'val_acc': epoch_acc.item()}\n",
        "    \n",
        "    def epoch_end(self, epoch, result):\n",
        "        print(\"Epoch [{}], val_loss: {:.4f}, val_acc: {:.4f}\".format(epoch, result['val_loss'], result['val_acc']))\n",
        "    \n",
        "model = MnistModel()"
      ],
      "execution_count": null,
      "outputs": []
    },
    {
      "cell_type": "code",
      "metadata": {
        "id": "ECEKJEk6jOXZ",
        "colab": {
          "base_uri": "https://localhost:8080/"
        },
        "outputId": "5b44719b-e409-4a15-bf3c-ec959202915a"
      },
      "source": [
        "result0 = evaluate(model, val_loader)\n",
        "result0"
      ],
      "execution_count": null,
      "outputs": [
        {
          "output_type": "execute_result",
          "data": {
            "text/plain": [
              "{'val_acc': 0.029458211734890938, 'val_loss': 3.867483615875244}"
            ]
          },
          "metadata": {},
          "execution_count": 191
        }
      ]
    },
    {
      "cell_type": "code",
      "metadata": {
        "id": "l0CW9caXjOXa",
        "colab": {
          "base_uri": "https://localhost:8080/"
        },
        "outputId": "cc99e7ab-2f61-477a-8f85-ed55015466b1"
      },
      "source": [
        "history1 = fit(20, 0.001, model, train_loader, val_loader)"
      ],
      "execution_count": null,
      "outputs": [
        {
          "output_type": "stream",
          "name": "stdout",
          "text": [
            "Epoch [0], val_loss: 3.6538, val_acc: 0.1394\n",
            "Epoch [1], val_loss: 3.4748, val_acc: 0.2658\n",
            "Epoch [2], val_loss: 3.3159, val_acc: 0.3495\n",
            "Epoch [3], val_loss: 3.1726, val_acc: 0.4053\n",
            "Epoch [4], val_loss: 3.0433, val_acc: 0.4366\n",
            "Epoch [5], val_loss: 2.9265, val_acc: 0.4577\n",
            "Epoch [6], val_loss: 2.8210, val_acc: 0.4753\n",
            "Epoch [7], val_loss: 2.7255, val_acc: 0.4870\n",
            "Epoch [8], val_loss: 2.6390, val_acc: 0.4959\n",
            "Epoch [9], val_loss: 2.5607, val_acc: 0.5044\n",
            "Epoch [10], val_loss: 2.4896, val_acc: 0.5116\n",
            "Epoch [11], val_loss: 2.4249, val_acc: 0.5189\n",
            "Epoch [12], val_loss: 2.3660, val_acc: 0.5239\n",
            "Epoch [13], val_loss: 2.3123, val_acc: 0.5276\n",
            "Epoch [14], val_loss: 2.2630, val_acc: 0.5331\n",
            "Epoch [15], val_loss: 2.2178, val_acc: 0.5371\n",
            "Epoch [16], val_loss: 2.1763, val_acc: 0.5405\n",
            "Epoch [17], val_loss: 2.1380, val_acc: 0.5438\n",
            "Epoch [18], val_loss: 2.1027, val_acc: 0.5475\n",
            "Epoch [19], val_loss: 2.0700, val_acc: 0.5495\n"
          ]
        }
      ]
    },
    {
      "cell_type": "code",
      "metadata": {
        "id": "E6co9RFQjOXa",
        "colab": {
          "base_uri": "https://localhost:8080/"
        },
        "outputId": "749795cc-7ffd-4382-f563-4aa53578f899"
      },
      "source": [
        "history2 = fit(20, 0.001, model, train_loader, val_loader)"
      ],
      "execution_count": null,
      "outputs": [
        {
          "output_type": "stream",
          "name": "stdout",
          "text": [
            "Epoch [0], val_loss: 2.0396, val_acc: 0.5521\n",
            "Epoch [1], val_loss: 2.0114, val_acc: 0.5545\n",
            "Epoch [2], val_loss: 1.9851, val_acc: 0.5572\n",
            "Epoch [3], val_loss: 1.9605, val_acc: 0.5594\n",
            "Epoch [4], val_loss: 1.9375, val_acc: 0.5612\n",
            "Epoch [5], val_loss: 1.9159, val_acc: 0.5632\n",
            "Epoch [6], val_loss: 1.8956, val_acc: 0.5652\n",
            "Epoch [7], val_loss: 1.8765, val_acc: 0.5666\n",
            "Epoch [8], val_loss: 1.8586, val_acc: 0.5679\n",
            "Epoch [9], val_loss: 1.8416, val_acc: 0.5704\n",
            "Epoch [10], val_loss: 1.8255, val_acc: 0.5723\n",
            "Epoch [11], val_loss: 1.8103, val_acc: 0.5735\n",
            "Epoch [12], val_loss: 1.7958, val_acc: 0.5751\n",
            "Epoch [13], val_loss: 1.7820, val_acc: 0.5773\n",
            "Epoch [14], val_loss: 1.7689, val_acc: 0.5785\n",
            "Epoch [15], val_loss: 1.7564, val_acc: 0.5799\n",
            "Epoch [16], val_loss: 1.7446, val_acc: 0.5811\n",
            "Epoch [17], val_loss: 1.7332, val_acc: 0.5820\n",
            "Epoch [18], val_loss: 1.7223, val_acc: 0.5825\n",
            "Epoch [19], val_loss: 1.7120, val_acc: 0.5840\n"
          ]
        }
      ]
    },
    {
      "cell_type": "code",
      "metadata": {
        "id": "aJW6rPIAjOXa",
        "colab": {
          "base_uri": "https://localhost:8080/"
        },
        "outputId": "866446d6-b7bd-4f31-9b15-b60619363b15"
      },
      "source": [
        "history3 = fit(20, 0.001, model, train_loader, val_loader)"
      ],
      "execution_count": null,
      "outputs": [
        {
          "output_type": "stream",
          "name": "stdout",
          "text": [
            "Epoch [0], val_loss: 1.7020, val_acc: 0.5854\n",
            "Epoch [1], val_loss: 1.6924, val_acc: 0.5863\n",
            "Epoch [2], val_loss: 1.6832, val_acc: 0.5873\n",
            "Epoch [3], val_loss: 1.6743, val_acc: 0.5877\n",
            "Epoch [4], val_loss: 1.6658, val_acc: 0.5898\n",
            "Epoch [5], val_loss: 1.6576, val_acc: 0.5912\n",
            "Epoch [6], val_loss: 1.6497, val_acc: 0.5929\n",
            "Epoch [7], val_loss: 1.6421, val_acc: 0.5938\n",
            "Epoch [8], val_loss: 1.6347, val_acc: 0.5951\n",
            "Epoch [9], val_loss: 1.6275, val_acc: 0.5960\n",
            "Epoch [10], val_loss: 1.6206, val_acc: 0.5966\n",
            "Epoch [11], val_loss: 1.6140, val_acc: 0.5973\n",
            "Epoch [12], val_loss: 1.6075, val_acc: 0.5979\n",
            "Epoch [13], val_loss: 1.6013, val_acc: 0.5990\n",
            "Epoch [14], val_loss: 1.5952, val_acc: 0.6000\n",
            "Epoch [15], val_loss: 1.5893, val_acc: 0.6008\n",
            "Epoch [16], val_loss: 1.5836, val_acc: 0.6020\n",
            "Epoch [17], val_loss: 1.5780, val_acc: 0.6026\n",
            "Epoch [18], val_loss: 1.5727, val_acc: 0.6033\n",
            "Epoch [19], val_loss: 1.5674, val_acc: 0.6041\n"
          ]
        }
      ]
    },
    {
      "cell_type": "code",
      "metadata": {
        "id": "TLU8i14v6VhD",
        "colab": {
          "base_uri": "https://localhost:8080/"
        },
        "outputId": "ed33ddee-92a8-4ab0-ddd5-048ea7b95e86"
      },
      "source": [
        "history4 = fit(20, 0.001, model, train_loader, val_loader)"
      ],
      "execution_count": null,
      "outputs": [
        {
          "output_type": "stream",
          "name": "stdout",
          "text": [
            "Epoch [0], val_loss: 1.5623, val_acc: 0.6050\n",
            "Epoch [1], val_loss: 1.5574, val_acc: 0.6058\n",
            "Epoch [2], val_loss: 1.5525, val_acc: 0.6067\n",
            "Epoch [3], val_loss: 1.5478, val_acc: 0.6066\n",
            "Epoch [4], val_loss: 1.5432, val_acc: 0.6076\n",
            "Epoch [5], val_loss: 1.5387, val_acc: 0.6086\n",
            "Epoch [6], val_loss: 1.5344, val_acc: 0.6093\n",
            "Epoch [7], val_loss: 1.5301, val_acc: 0.6098\n",
            "Epoch [8], val_loss: 1.5259, val_acc: 0.6103\n",
            "Epoch [9], val_loss: 1.5219, val_acc: 0.6111\n",
            "Epoch [10], val_loss: 1.5179, val_acc: 0.6115\n",
            "Epoch [11], val_loss: 1.5140, val_acc: 0.6119\n",
            "Epoch [12], val_loss: 1.5102, val_acc: 0.6126\n",
            "Epoch [13], val_loss: 1.5065, val_acc: 0.6131\n",
            "Epoch [14], val_loss: 1.5029, val_acc: 0.6140\n",
            "Epoch [15], val_loss: 1.4994, val_acc: 0.6145\n",
            "Epoch [16], val_loss: 1.4959, val_acc: 0.6145\n",
            "Epoch [17], val_loss: 1.4925, val_acc: 0.6153\n",
            "Epoch [18], val_loss: 1.4891, val_acc: 0.6164\n",
            "Epoch [19], val_loss: 1.4859, val_acc: 0.6166\n"
          ]
        }
      ]
    },
    {
      "cell_type": "code",
      "metadata": {
        "id": "124BFViD6ioz",
        "colab": {
          "base_uri": "https://localhost:8080/"
        },
        "outputId": "1763326e-8ca5-4b7f-bb5f-0871430d4588"
      },
      "source": [
        "history5 = fit(20, 0.001, model, train_loader, val_loader)"
      ],
      "execution_count": null,
      "outputs": [
        {
          "output_type": "stream",
          "name": "stdout",
          "text": [
            "Epoch [0], val_loss: 1.4827, val_acc: 0.6170\n",
            "Epoch [1], val_loss: 1.4796, val_acc: 0.6174\n",
            "Epoch [2], val_loss: 1.4765, val_acc: 0.6181\n",
            "Epoch [3], val_loss: 1.4735, val_acc: 0.6182\n",
            "Epoch [4], val_loss: 1.4705, val_acc: 0.6191\n",
            "Epoch [5], val_loss: 1.4676, val_acc: 0.6191\n",
            "Epoch [6], val_loss: 1.4648, val_acc: 0.6194\n",
            "Epoch [7], val_loss: 1.4620, val_acc: 0.6198\n",
            "Epoch [8], val_loss: 1.4593, val_acc: 0.6202\n",
            "Epoch [9], val_loss: 1.4566, val_acc: 0.6205\n",
            "Epoch [10], val_loss: 1.4539, val_acc: 0.6212\n",
            "Epoch [11], val_loss: 1.4513, val_acc: 0.6218\n",
            "Epoch [12], val_loss: 1.4488, val_acc: 0.6220\n",
            "Epoch [13], val_loss: 1.4462, val_acc: 0.6228\n",
            "Epoch [14], val_loss: 1.4438, val_acc: 0.6231\n",
            "Epoch [15], val_loss: 1.4414, val_acc: 0.6236\n",
            "Epoch [16], val_loss: 1.4390, val_acc: 0.6239\n",
            "Epoch [17], val_loss: 1.4366, val_acc: 0.6242\n",
            "Epoch [18], val_loss: 1.4343, val_acc: 0.6251\n",
            "Epoch [19], val_loss: 1.4320, val_acc: 0.6261\n"
          ]
        }
      ]
    },
    {
      "cell_type": "code",
      "metadata": {
        "id": "6t5aqRvDjOXa",
        "colab": {
          "base_uri": "https://localhost:8080/",
          "height": 313
        },
        "outputId": "ca9abe2a-ed3a-460d-8247-47fc1ca4aa80"
      },
      "source": [
        "history = [result0] + history1 + history2 + history3 + history4 + history5\n",
        "accuracies = [result['val_acc'] for result in history]\n",
        "plt.plot(accuracies, '-x')\n",
        "plt.xlabel('epoch')\n",
        "plt.ylabel('accuracy')\n",
        "plt.title('Accuracy vs. No. of epochs')"
      ],
      "execution_count": null,
      "outputs": [
        {
          "output_type": "execute_result",
          "data": {
            "text/plain": [
              "Text(0.5, 1.0, 'Accuracy vs. No. of epochs')"
            ]
          },
          "metadata": {},
          "execution_count": 203
        },
        {
          "output_type": "display_data",
          "data": {
            "image/png": "[encoded data removed]",
            "text/plain": [
              "<Figure size 432x288 with 1 Axes>"
            ]
          },
          "metadata": {
            "needs_background": "light"
          }
        }
      ]
    },
    {
      "cell_type": "code",
      "metadata": {
        "id": "bKHwQF5yjOXa",
        "colab": {
          "base_uri": "https://localhost:8080/"
        },
        "outputId": "48cc45db-46bd-4bcb-9bb5-1399b93432d0"
      },
      "source": [
        "# Define test dataset\n",
        "test_dataset = EMNIST(root='data/', \n",
        "                     train=False, split=\"balanced\",\n",
        "                     transform=transforms.ToTensor())\n",
        "\n",
        "img, label = test_dataset[0]\n",
        "# plt.imshow(img, cmap=\"gray\")\n",
        "print(label)\n",
        "img.shape"
      ],
      "execution_count": null,
      "outputs": [
        {
          "output_type": "stream",
          "name": "stdout",
          "text": [
            "41\n"
          ]
        },
        {
          "output_type": "execute_result",
          "data": {
            "text/plain": [
              "torch.Size([1, 28, 28])"
            ]
          },
          "metadata": {},
          "execution_count": 204
        }
      ]
    },
    {
      "cell_type": "code",
      "metadata": {
        "id": "AM57aMxYjOXb",
        "colab": {
          "base_uri": "https://localhost:8080/"
        },
        "outputId": "6449fd44-63e5-428f-ed66-3c303a44ce09"
      },
      "source": [
        "\n",
        "def predict_img(img, model):\n",
        "    xb = img.unsqueeze(0)\n",
        "    yb = model(xb)\n",
        "    _, pred = torch.max(yb, dim=1)\n",
        "    return pred[0].item()\n",
        "predict_img(img, model)"
      ],
      "execution_count": null,
      "outputs": [
        {
          "output_type": "execute_result",
          "data": {
            "text/plain": [
              "3"
            ]
          },
          "metadata": {},
          "execution_count": 205
        }
      ]
    },
    {
      "cell_type": "code",
      "metadata": {
        "id": "YyUZf01GjOXb",
        "colab": {
          "base_uri": "https://localhost:8080/",
          "height": 283
        },
        "outputId": "f5fe64fd-3734-46de-af7e-0c6993b52271"
      },
      "source": [
        "img, label = test_dataset[0]\n",
        "plt.imshow(img[0], cmap='gray')\n",
        "print('Label:', label, ', Predicted:', predict_img(img, model))"
      ],
      "execution_count": null,
      "outputs": [
        {
          "output_type": "stream",
          "name": "stdout",
          "text": [
            "Label: 41 , Predicted: 3\n"
          ]
        },
        {
          "output_type": "display_data",
          "data": {
            "image/png": "[encoded data removed]",
            "text/plain": [
              "<Figure size 432x288 with 1 Axes>"
            ]
          },
          "metadata": {
            "needs_background": "light"
          }
        }
      ]
    },
    {
      "cell_type": "code",
      "metadata": {
        "id": "lSmIinJpjOXb",
        "colab": {
          "base_uri": "https://localhost:8080/"
        },
        "outputId": "a49a87cb-cdcf-4b35-b8f6-7e192daca759"
      },
      "source": [
        "for i in range(20):\n",
        "    img, label = test_dataset[i]\n",
        "    if label == predict_img(img, model):\n",
        "        print('Label:', idx[label], ', Predicted:', idx[predict_img(img, model)], \"Yes\")\n",
        "    else:\n",
        "        print('Label:', idx[label], ', Predicted:', idx[predict_img(img, model)], \"No\")"
      ],
      "execution_count": null,
      "outputs": [
        {
          "output_type": "stream",
          "name": "stdout",
          "text": [
            "Label: g , Predicted: 3 No\n",
            "Label: e , Predicted: e Yes\n",
            "Label: 9 , Predicted: 9 Yes\n",
            "Label: Q , Predicted: Q Yes\n",
            "Label: q , Predicted: 9 No\n",
            "Label: X , Predicted: X Yes\n",
            "Label: E , Predicted: E Yes\n",
            "Label: B , Predicted: A No\n",
            "Label: 3 , Predicted: 3 Yes\n",
            "Label: C , Predicted: L No\n",
            "Label: G , Predicted: G Yes\n",
            "Label: 7 , Predicted: 7 Yes\n",
            "Label: 2 , Predicted: 2 Yes\n",
            "Label: G , Predicted: Q No\n",
            "Label: G , Predicted: 0 No\n",
            "Label: R , Predicted: R Yes\n",
            "Label: 6 , Predicted: 6 Yes\n",
            "Label: q , Predicted: V No\n",
            "Label: S , Predicted: S Yes\n",
            "Label: r , Predicted: T No\n"
          ]
        }
      ]
    },
    {
      "cell_type": "code",
      "metadata": {
        "id": "pjh1epA3jOXb",
        "colab": {
          "base_uri": "https://localhost:8080/"
        },
        "outputId": "07205a72-1dcd-411d-fce2-2be7fb5abb96"
      },
      "source": [
        "test_loader = DataLoader(test_dataset, batch_size=256)\n",
        "result = evaluate(model, test_loader)\n",
        "result"
      ],
      "execution_count": null,
      "outputs": [
        {
          "output_type": "execute_result",
          "data": {
            "text/plain": [
              "{'val_acc': 0.6188540458679199, 'val_loss': 1.4539575576782227}"
            ]
          },
          "metadata": {},
          "execution_count": 208
        }
      ]
    }
  ]
}