{
  "nbformat": 4,
  "nbformat_minor": 0,
  "metadata": {
    "colab": {
      "name": "CNN-EMNIST.ipynb",
      "provenance": []
    },
    "kernelspec": {
      "name": "python3",
      "display_name": "Python 3"
    },
    "language_info": {
      "name": "python"
    },
    "accelerator": "GPU",
    "widgets": {
      "application/vnd.jupyter.widget-state+json": {
        "595b6fed93fa428883961b7379b0bc18": {
          "model_module": "@jupyter-widgets/controls",
          "model_name": "HBoxModel",
          "model_module_version": "1.5.0",
          "state": {
            "_view_name": "HBoxView",
            "_dom_classes": [],
            "_model_name": "HBoxModel",
            "_view_module": "@jupyter-widgets/controls",
            "_model_module_version": "1.5.0",
            "_view_count": null,
            "_view_module_version": "1.5.0",
            "box_style": "",
            "layout": "IPY_MODEL_b4b6224f5ffe40ad8778a52e38d9e327",
            "_model_module": "@jupyter-widgets/controls",
            "children": [
              "IPY_MODEL_1211eacb5e85424592736b504f34b272",
              "IPY_MODEL_0a3754e6c72a498a936ed2ca28cafd0a",
              "IPY_MODEL_af3ecc9773e94f288bbf1dff98283856"
            ]
          }
        },
        "b4b6224f5ffe40ad8778a52e38d9e327": {
          "model_module": "@jupyter-widgets/base",
          "model_name": "LayoutModel",
          "model_module_version": "1.2.0",
          "state": {
            "_view_name": "LayoutView",
            "grid_template_rows": null,
            "right": null,
            "justify_content": null,
            "_view_module": "@jupyter-widgets/base",
            "overflow": null,
            "_model_module_version": "1.2.0",
            "_view_count": null,
            "flex_flow": null,
            "width": null,
            "min_width": null,
            "border": null,
            "align_items": null,
            "bottom": null,
            "_model_module": "@jupyter-widgets/base",
            "top": null,
            "grid_column": null,
            "overflow_y": null,
            "overflow_x": null,
            "grid_auto_flow": null,
            "grid_area": null,
            "grid_template_columns": null,
            "flex": null,
            "_model_name": "LayoutModel",
            "justify_items": null,
            "grid_row": null,
            "max_height": null,
            "align_content": null,
            "visibility": null,
            "align_self": null,
            "height": null,
            "min_height": null,
            "padding": null,
            "grid_auto_rows": null,
            "grid_gap": null,
            "max_width": null,
            "order": null,
            "_view_module_version": "1.2.0",
            "grid_template_areas": null,
            "object_position": null,
            "object_fit": null,
            "grid_auto_columns": null,
            "margin": null,
            "display": null,
            "left": null
          }
        },
        "1211eacb5e85424592736b504f34b272": {
          "model_module": "@jupyter-widgets/controls",
          "model_name": "HTMLModel",
          "model_module_version": "1.5.0",
          "state": {
            "_view_name": "HTMLView",
            "style": "IPY_MODEL_79f31eb251044661bfffe9b1cfec9d85",
            "_dom_classes": [],
            "description": "",
            "_model_name": "HTMLModel",
            "placeholder": "​",
            "_view_module": "@jupyter-widgets/controls",
            "_model_module_version": "1.5.0",
            "value": "",
            "_view_count": null,
            "_view_module_version": "1.5.0",
            "description_tooltip": null,
            "_model_module": "@jupyter-widgets/controls",
            "layout": "IPY_MODEL_784dd979401740aebe74cea258aebe0d"
          }
        },
        "0a3754e6c72a498a936ed2ca28cafd0a": {
          "model_module": "@jupyter-widgets/controls",
          "model_name": "FloatProgressModel",
          "model_module_version": "1.5.0",
          "state": {
            "_view_name": "ProgressView",
            "style": "IPY_MODEL_7973f6e01ed64d9b9ddd9ec56edc716b",
            "_dom_classes": [],
            "description": "",
            "_model_name": "FloatProgressModel",
            "bar_style": "success",
            "max": 561753746,
            "_view_module": "@jupyter-widgets/controls",
            "_model_module_version": "1.5.0",
            "value": 561753746,
            "_view_count": null,
            "_view_module_version": "1.5.0",
            "orientation": "horizontal",
            "min": 0,
            "description_tooltip": null,
            "_model_module": "@jupyter-widgets/controls",
            "layout": "IPY_MODEL_ec64cf7141ea483c9dee4d9fea89a0bd"
          }
        },
        "af3ecc9773e94f288bbf1dff98283856": {
          "model_module": "@jupyter-widgets/controls",
          "model_name": "HTMLModel",
          "model_module_version": "1.5.0",
          "state": {
            "_view_name": "HTMLView",
            "style": "IPY_MODEL_b1932ac1b049475a9aa7f7f67f33158d",
            "_dom_classes": [],
            "description": "",
            "_model_name": "HTMLModel",
            "placeholder": "​",
            "_view_module": "@jupyter-widgets/controls",
            "_model_module_version": "1.5.0",
            "value": " 561754112/? [00:11&lt;00:00, 52544249.75it/s]",
            "_view_count": null,
            "_view_module_version": "1.5.0",
            "description_tooltip": null,
            "_model_module": "@jupyter-widgets/controls",
            "layout": "IPY_MODEL_015256719e094dbca5cac99a5139791a"
          }
        },
        "79f31eb251044661bfffe9b1cfec9d85": {
          "model_module": "@jupyter-widgets/controls",
          "model_name": "DescriptionStyleModel",
          "model_module_version": "1.5.0",
          "state": {
            "_view_name": "StyleView",
            "_model_name": "DescriptionStyleModel",
            "description_width": "",
            "_view_module": "@jupyter-widgets/base",
            "_model_module_version": "1.5.0",
            "_view_count": null,
            "_view_module_version": "1.2.0",
            "_model_module": "@jupyter-widgets/controls"
          }
        },
        "784dd979401740aebe74cea258aebe0d": {
          "model_module": "@jupyter-widgets/base",
          "model_name": "LayoutModel",
          "model_module_version": "1.2.0",
          "state": {
            "_view_name": "LayoutView",
            "grid_template_rows": null,
            "right": null,
            "justify_content": null,
            "_view_module": "@jupyter-widgets/base",
            "overflow": null,
            "_model_module_version": "1.2.0",
            "_view_count": null,
            "flex_flow": null,
            "width": null,
            "min_width": null,
            "border": null,
            "align_items": null,
            "bottom": null,
            "_model_module": "@jupyter-widgets/base",
            "top": null,
            "grid_column": null,
            "overflow_y": null,
            "overflow_x": null,
            "grid_auto_flow": null,
            "grid_area": null,
            "grid_template_columns": null,
            "flex": null,
            "_model_name": "LayoutModel",
            "justify_items": null,
            "grid_row": null,
            "max_height": null,
            "align_content": null,
            "visibility": null,
            "align_self": null,
            "height": null,
            "min_height": null,
            "padding": null,
            "grid_auto_rows": null,
            "grid_gap": null,
            "max_width": null,
            "order": null,
            "_view_module_version": "1.2.0",
            "grid_template_areas": null,
            "object_position": null,
            "object_fit": null,
            "grid_auto_columns": null,
            "margin": null,
            "display": null,
            "left": null
          }
        },
        "7973f6e01ed64d9b9ddd9ec56edc716b": {
          "model_module": "@jupyter-widgets/controls",
          "model_name": "ProgressStyleModel",
          "model_module_version": "1.5.0",
          "state": {
            "_view_name": "StyleView",
            "_model_name": "ProgressStyleModel",
            "description_width": "",
            "_view_module": "@jupyter-widgets/base",
            "_model_module_version": "1.5.0",
            "_view_count": null,
            "_view_module_version": "1.2.0",
            "bar_color": null,
            "_model_module": "@jupyter-widgets/controls"
          }
        },
        "ec64cf7141ea483c9dee4d9fea89a0bd": {
          "model_module": "@jupyter-widgets/base",
          "model_name": "LayoutModel",
          "model_module_version": "1.2.0",
          "state": {
            "_view_name": "LayoutView",
            "grid_template_rows": null,
            "right": null,
            "justify_content": null,
            "_view_module": "@jupyter-widgets/base",
            "overflow": null,
            "_model_module_version": "1.2.0",
            "_view_count": null,
            "flex_flow": null,
            "width": null,
            "min_width": null,
            "border": null,
            "align_items": null,
            "bottom": null,
            "_model_module": "@jupyter-widgets/base",
            "top": null,
            "grid_column": null,
            "overflow_y": null,
            "overflow_x": null,
            "grid_auto_flow": null,
            "grid_area": null,
            "grid_template_columns": null,
            "flex": null,
            "_model_name": "LayoutModel",
            "justify_items": null,
            "grid_row": null,
            "max_height": null,
            "align_content": null,
            "visibility": null,
            "align_self": null,
            "height": null,
            "min_height": null,
            "padding": null,
            "grid_auto_rows": null,
            "grid_gap": null,
            "max_width": null,
            "order": null,
            "_view_module_version": "1.2.0",
            "grid_template_areas": null,
            "object_position": null,
            "object_fit": null,
            "grid_auto_columns": null,
            "margin": null,
            "display": null,
            "left": null
          }
        },
        "b1932ac1b049475a9aa7f7f67f33158d": {
          "model_module": "@jupyter-widgets/controls",
          "model_name": "DescriptionStyleModel",
          "model_module_version": "1.5.0",
          "state": {
            "_view_name": "StyleView",
            "_model_name": "DescriptionStyleModel",
            "description_width": "",
            "_view_module": "@jupyter-widgets/base",
            "_model_module_version": "1.5.0",
            "_view_count": null,
            "_view_module_version": "1.2.0",
            "_model_module": "@jupyter-widgets/controls"
          }
        },
        "015256719e094dbca5cac99a5139791a": {
          "model_module": "@jupyter-widgets/base",
          "model_name": "LayoutModel",
          "model_module_version": "1.2.0",
          "state": {
            "_view_name": "LayoutView",
            "grid_template_rows": null,
            "right": null,
            "justify_content": null,
            "_view_module": "@jupyter-widgets/base",
            "overflow": null,
            "_model_module_version": "1.2.0",
            "_view_count": null,
            "flex_flow": null,
            "width": null,
            "min_width": null,
            "border": null,
            "align_items": null,
            "bottom": null,
            "_model_module": "@jupyter-widgets/base",
            "top": null,
            "grid_column": null,
            "overflow_y": null,
            "overflow_x": null,
            "grid_auto_flow": null,
            "grid_area": null,
            "grid_template_columns": null,
            "flex": null,
            "_model_name": "LayoutModel",
            "justify_items": null,
            "grid_row": null,
            "max_height": null,
            "align_content": null,
            "visibility": null,
            "align_self": null,
            "height": null,
            "min_height": null,
            "padding": null,
            "grid_auto_rows": null,
            "grid_gap": null,
            "max_width": null,
            "order": null,
            "_view_module_version": "1.2.0",
            "grid_template_areas": null,
            "object_position": null,
            "object_fit": null,
            "grid_auto_columns": null,
            "margin": null,
            "display": null,
            "left": null
          }
        }
      }
    }
  },
  "cells": [
    {
      "cell_type": "code",
      "metadata": {
        "id": "IYjAjU_9kbvd"
      },
      "source": [
        "import torch\n",
        "import torchvision\n",
        "from torchvision.datasets import EMNIST\n",
        "import torchvision.transforms as transforms\n",
        "from torch.utils.data import random_split, DataLoader\n",
        "import torch.nn as nn\n",
        "import torch.nn.functional as F\n",
        "import matplotlib.pyplot as plt\n",
        "%matplotlib inline"
      ],
      "execution_count": null,
      "outputs": []
    },
    {
      "cell_type": "code",
      "metadata": {
        "colab": {
          "base_uri": "https://localhost:8080/",
          "height": 101,
          "referenced_widgets": [
            "595b6fed93fa428883961b7379b0bc18",
            "b4b6224f5ffe40ad8778a52e38d9e327",
            "1211eacb5e85424592736b504f34b272",
            "0a3754e6c72a498a936ed2ca28cafd0a",
            "af3ecc9773e94f288bbf1dff98283856",
            "79f31eb251044661bfffe9b1cfec9d85",
            "784dd979401740aebe74cea258aebe0d",
            "7973f6e01ed64d9b9ddd9ec56edc716b",
            "ec64cf7141ea483c9dee4d9fea89a0bd",
            "b1932ac1b049475a9aa7f7f67f33158d",
            "015256719e094dbca5cac99a5139791a"
          ]
        },
        "id": "ZwSW51E8koiJ",
        "outputId": "7fa7c7e8-b3d9-4bba-dbf3-2bb4f5533973"
      },
      "source": [
        "dataset = EMNIST(root='data/', split=\"balanced\", download = True, transform=transforms.ToTensor())\n",
        "len(dataset)"
      ],
      "execution_count": null,
      "outputs": [
        {
          "output_type": "stream",
          "name": "stdout",
          "text": [
            "Downloading https://www.itl.nist.gov/iaui/vip/cs_links/EMNIST/gzip.zip to data/EMNIST/raw/gzip.zip\n"
          ]
        },
        {
          "output_type": "display_data",
          "data": {
            "application/vnd.jupyter.widget-view+json": {
              "model_id": "595b6fed93fa428883961b7379b0bc18",
              "version_minor": 0,
              "version_major": 2
            },
            "text/plain": [
              "  0%|          | 0/561753746 [00:00<?, ?it/s]"
            ]
          },
          "metadata": {}
        },
        {
          "output_type": "stream",
          "name": "stdout",
          "text": [
            "Extracting data/EMNIST/raw/gzip.zip to data/EMNIST/raw\n"
          ]
        },
        {
          "output_type": "execute_result",
          "data": {
            "text/plain": [
              "112800"
            ]
          },
          "metadata": {},
          "execution_count": 2
        }
      ]
    },
    {
      "cell_type": "code",
      "metadata": {
        "colab": {
          "base_uri": "https://localhost:8080/"
        },
        "id": "Vz30oKOh1q8B",
        "outputId": "b4af8edb-a5e7-49de-81fa-102ce7632fe3"
      },
      "source": [
        "test_dataset = EMNIST(root='data/', split=\"balanced\", train=False, transform=transforms.ToTensor())\n",
        "len(test_dataset)"
      ],
      "execution_count": null,
      "outputs": [
        {
          "output_type": "execute_result",
          "data": {
            "text/plain": [
              "18800"
            ]
          },
          "metadata": {},
          "execution_count": 3
        }
      ]
    },
    {
      "cell_type": "code",
      "metadata": {
        "colab": {
          "base_uri": "https://localhost:8080/",
          "height": 35
        },
        "id": "sa-mam4O1v5l",
        "outputId": "72290d8a-5a4f-4bde-e361-f97b4822db13"
      },
      "source": [
        "idx = [\"0\",\"1\",\"2\",\"3\",\"4\",\"5\",\"6\",\"7\",\"8\",\"9\",\n",
        "\"A\",\"B\",\"C\",\"D\",\"E\",\"F\",\"G\",\"H\",\"I\",\"J\",\"K\",\"L\",\"M\",\"N\",\"O\",\"P\",\"Q\",\"R\",\"S\",\"T\",\"U\",\"V\",\"W\",\"X\",\"Y\",\"Z\",\n",
        "\"a\",\"b\",\"c\",\"d\",\"e\",\"f\",\"g\",\"h\",\"i\",\"j\",\"k\",\"l\",\"m\",\"n\",\"o\",\"p\",\"q\",\"r\",\"s\",\"t\",\"u\",\"v\",\"w\",\"x\",\"y\",\"z\"]\n",
        "idx[36]"
      ],
      "execution_count": null,
      "outputs": [
        {
          "output_type": "execute_result",
          "data": {
            "application/vnd.google.colaboratory.intrinsic+json": {
              "type": "string"
            },
            "text/plain": [
              "'a'"
            ]
          },
          "metadata": {},
          "execution_count": 4
        }
      ]
    },
    {
      "cell_type": "code",
      "metadata": {
        "colab": {
          "base_uri": "https://localhost:8080/"
        },
        "id": "JlHH0HEs10I-",
        "outputId": "6aae0fcb-d481-4a82-89ec-d88121f8291d"
      },
      "source": [
        "random_seed = 42\n",
        "torch.manual_seed(random_seed)\n",
        "val_size = 22800\n",
        "train_size = len(dataset) - val_size\n",
        "\n",
        "train_ds, val_ds = random_split(dataset, [train_size, val_size])\n",
        "len(train_ds), len(val_ds)"
      ],
      "execution_count": null,
      "outputs": [
        {
          "output_type": "execute_result",
          "data": {
            "text/plain": [
              "(90000, 22800)"
            ]
          },
          "metadata": {},
          "execution_count": 6
        }
      ]
    },
    {
      "cell_type": "code",
      "metadata": {
        "id": "69lMTEBq2OLn"
      },
      "source": [
        "batch_size=100\n",
        "train_dl = DataLoader(train_ds, batch_size, shuffle=True, num_workers=2, pin_memory=True)\n",
        "val_dl = DataLoader(val_ds, batch_size*2, num_workers=2, pin_memory=True)"
      ],
      "execution_count": null,
      "outputs": []
    },
    {
      "cell_type": "code",
      "metadata": {
        "colab": {
          "base_uri": "https://localhost:8080/"
        },
        "id": "EK8slYSrkF_y",
        "outputId": "d6ab59bd-b7b8-4e2c-b65a-c619e625ab04"
      },
      "source": [
        "simple_model = nn.Sequential(\n",
        "            nn.Conv2d(1, 32, kernel_size=3, padding=1),\n",
        "            nn.ReLU(),\n",
        "            nn.Conv2d(32, 64, kernel_size=3, stride=1, padding=1),\n",
        "            nn.ReLU(),\n",
        "            nn.MaxPool2d(2, 2), # output: 64 x 14 x 14\n",
        "\n",
        "            nn.Conv2d(64, 128, kernel_size=3, stride=1, padding=1),\n",
        "            nn.ReLU(),\n",
        "            nn.Conv2d(128, 256, kernel_size=3, stride=1, padding=1),\n",
        "            nn.ReLU(),\n",
        "            nn.Conv2d(256, 512, kernel_size=3, stride=1, padding=1),\n",
        "            nn.ReLU(),\n",
        "            nn.MaxPool2d(2, 2), # output: 256 x 7 x 7\n",
        "\n",
        "            nn.Flatten(), \n",
        "            nn.Linear(512*7*7, 512),\n",
        "            nn.ReLU(),\n",
        "            nn.Linear(512, 256),\n",
        "            nn.ReLU(),\n",
        "            nn.Linear(256, 62))\n",
        "for images, labels in train_dl:\n",
        "    print('images.shape:', images.shape)\n",
        "    out = simple_model(images)\n",
        "    print('out.shape:', out.shape)\n",
        "    break"
      ],
      "execution_count": null,
      "outputs": [
        {
          "output_type": "stream",
          "name": "stdout",
          "text": [
            "images.shape: torch.Size([100, 1, 28, 28])\n",
            "out.shape: torch.Size([100, 62])\n"
          ]
        }
      ]
    },
    {
      "cell_type": "code",
      "metadata": {
        "id": "vS1ELCP12Zqw"
      },
      "source": [
        "class ImageClassificationBase(nn.Module):\n",
        "    def training_step(self, batch):\n",
        "        images, labels = batch \n",
        "        out = self(images)                  # Generate predictions\n",
        "        loss = F.cross_entropy(out, labels) # Calculate loss\n",
        "        return loss\n",
        "    \n",
        "    def validation_step(self, batch):\n",
        "        images, labels = batch \n",
        "        out = self(images)                    # Generate predictions\n",
        "        loss = F.cross_entropy(out, labels)   # Calculate loss\n",
        "        acc = accuracy(out, labels)           # Calculate accuracy\n",
        "        return {'val_loss': loss.detach(), 'val_acc': acc}\n",
        "        \n",
        "    def validation_epoch_end(self, outputs):\n",
        "        batch_losses = [x['val_loss'] for x in outputs]\n",
        "        epoch_loss = torch.stack(batch_losses).mean()   # Combine losses\n",
        "        batch_accs = [x['val_acc'] for x in outputs]\n",
        "        epoch_acc = torch.stack(batch_accs).mean()      # Combine accuracies\n",
        "        return {'val_loss': epoch_loss.item(), 'val_acc': epoch_acc.item()}\n",
        "    \n",
        "    def epoch_end(self, epoch, result):\n",
        "        print(\"Epoch [{}], train_loss: {:.4f}, val_loss: {:.4f}, val_acc: {:.4f}\".format(\n",
        "            epoch, result['train_loss'], result['val_loss'], result['val_acc']))\n",
        "        \n",
        "def accuracy(outputs, labels):\n",
        "    _, preds = torch.max(outputs, dim=1)\n",
        "    return torch.tensor(torch.sum(preds == labels).item() / len(preds))"
      ],
      "execution_count": null,
      "outputs": []
    },
    {
      "cell_type": "code",
      "metadata": {
        "colab": {
          "base_uri": "https://localhost:8080/"
        },
        "id": "vDeZv4sb2agR",
        "outputId": "05577ffa-9d73-4704-974a-e227db57b42c"
      },
      "source": [
        "class Cifar10CnnModel(ImageClassificationBase):\n",
        "    def __init__(self):\n",
        "        super().__init__()\n",
        "        self.network = nn.Sequential(\n",
        "            nn.Conv2d(1, 32, kernel_size=3, padding=1),\n",
        "            nn.ReLU(),\n",
        "            nn.Conv2d(32, 64, kernel_size=3, stride=1, padding=1),\n",
        "            nn.ReLU(),\n",
        "            nn.MaxPool2d(2, 2), # output: 64 x 14 x 14\n",
        "\n",
        "            nn.Conv2d(64, 128, kernel_size=3, stride=1, padding=1),\n",
        "            nn.ReLU(),\n",
        "            nn.Conv2d(128, 128, kernel_size=3, stride=1, padding=1),\n",
        "            nn.ReLU(),\n",
        "            nn.MaxPool2d(2, 2), # output: 128 x 7 x 7\n",
        "\n",
        "            nn.Flatten(), \n",
        "            nn.Linear(128*7*7, 1024),\n",
        "            nn.ReLU(),\n",
        "            nn.Linear(1024, 512),\n",
        "            nn.ReLU(),\n",
        "            nn.Linear(512, 62))\n",
        "        \n",
        "    def forward(self, xb):\n",
        "        return self.network(xb)\n",
        "model = Cifar10CnnModel()\n",
        "model"
      ],
      "execution_count": null,
      "outputs": [
        {
          "output_type": "execute_result",
          "data": {
            "text/plain": [
              "Cifar10CnnModel(\n",
              "  (network): Sequential(\n",
              "    (0): Conv2d(1, 32, kernel_size=(3, 3), stride=(1, 1), padding=(1, 1))\n",
              "    (1): ReLU()\n",
              "    (2): Conv2d(32, 64, kernel_size=(3, 3), stride=(1, 1), padding=(1, 1))\n",
              "    (3): ReLU()\n",
              "    (4): MaxPool2d(kernel_size=2, stride=2, padding=0, dilation=1, ceil_mode=False)\n",
              "    (5): Conv2d(64, 128, kernel_size=(3, 3), stride=(1, 1), padding=(1, 1))\n",
              "    (6): ReLU()\n",
              "    (7): Conv2d(128, 128, kernel_size=(3, 3), stride=(1, 1), padding=(1, 1))\n",
              "    (8): ReLU()\n",
              "    (9): MaxPool2d(kernel_size=2, stride=2, padding=0, dilation=1, ceil_mode=False)\n",
              "    (10): Flatten(start_dim=1, end_dim=-1)\n",
              "    (11): Linear(in_features=6272, out_features=1024, bias=True)\n",
              "    (12): ReLU()\n",
              "    (13): Linear(in_features=1024, out_features=512, bias=True)\n",
              "    (14): ReLU()\n",
              "    (15): Linear(in_features=512, out_features=62, bias=True)\n",
              "  )\n",
              ")"
            ]
          },
          "metadata": {},
          "execution_count": 13
        }
      ]
    },
    {
      "cell_type": "code",
      "metadata": {
        "colab": {
          "base_uri": "https://localhost:8080/"
        },
        "id": "TBuR83mj2xEx",
        "outputId": "299c1073-ad72-470a-eb12-870e1e6b955e"
      },
      "source": [
        "def get_default_device():\n",
        "    \"\"\"Pick GPU if available, else CPU\"\"\"\n",
        "    if torch.cuda.is_available():\n",
        "        return torch.device('cuda')\n",
        "    else:\n",
        "        return torch.device('cpu')\n",
        "    \n",
        "def to_device(data, device):\n",
        "    \"\"\"Move tensor(s) to chosen device\"\"\"\n",
        "    if isinstance(data, (list,tuple)):\n",
        "        return [to_device(x, device) for x in data]\n",
        "    return data.to(device, non_blocking=True)\n",
        "\n",
        "class DeviceDataLoader():\n",
        "    \"\"\"Wrap a dataloader to move data to a device\"\"\"\n",
        "    def __init__(self, dl, device):\n",
        "        self.dl = dl\n",
        "        self.device = device\n",
        "        \n",
        "    def __iter__(self):\n",
        "        \"\"\"Yield a batch of data after moving it to device\"\"\"\n",
        "        for b in self.dl: \n",
        "            yield to_device(b, self.device)\n",
        "\n",
        "    def __len__(self):\n",
        "        \"\"\"Number of batches\"\"\"\n",
        "        return len(self.dl)\n",
        "\n",
        "device = get_default_device()\n",
        "device"
      ],
      "execution_count": null,
      "outputs": [
        {
          "output_type": "execute_result",
          "data": {
            "text/plain": [
              "device(type='cuda')"
            ]
          },
          "metadata": {},
          "execution_count": 14
        }
      ]
    },
    {
      "cell_type": "code",
      "metadata": {
        "id": "aMh7xZOc21m6"
      },
      "source": [
        "train_dl = DeviceDataLoader(train_dl, device)\n",
        "val_dl = DeviceDataLoader(val_dl, device)\n",
        "to_device(model, device);"
      ],
      "execution_count": null,
      "outputs": []
    },
    {
      "cell_type": "code",
      "metadata": {
        "id": "eMHCvF2W2300"
      },
      "source": [
        "@torch.no_grad()\n",
        "def evaluate(model, val_loader):\n",
        "    model.eval()\n",
        "    outputs = [model.validation_step(batch) for batch in val_loader]\n",
        "    return model.validation_epoch_end(outputs)\n",
        "\n",
        "def fit(epochs, lr, model, train_loader, val_loader, opt_func = torch.optim.SGD):\n",
        "    history = []\n",
        "    optimizer = opt_func(model.parameters(), lr)\n",
        "    for epoch in range(epochs):\n",
        "        # Training Phase \n",
        "        model.train()\n",
        "        train_losses = []\n",
        "        for batch in train_loader:\n",
        "            loss = model.training_step(batch)\n",
        "            train_losses.append(loss)\n",
        "            loss.backward()\n",
        "            optimizer.step()\n",
        "            optimizer.zero_grad()\n",
        "        # Validation phase\n",
        "        result = evaluate(model, val_loader)\n",
        "        result['train_loss'] = torch.stack(train_losses).mean().item()\n",
        "        model.epoch_end(epoch, result)\n",
        "        history.append(result)\n",
        "    return history"
      ],
      "execution_count": null,
      "outputs": []
    },
    {
      "cell_type": "code",
      "metadata": {
        "id": "to3YoTMu2-dC"
      },
      "source": [
        "model = to_device(Cifar10CnnModel(), device)\n",
        "history=[evaluate(model, val_dl)]"
      ],
      "execution_count": null,
      "outputs": []
    },
    {
      "cell_type": "code",
      "metadata": {
        "colab": {
          "base_uri": "https://localhost:8080/"
        },
        "id": "UQMYZDGKnbZt",
        "outputId": "0c63bd49-4345-4695-80ca-9dfd4a7b194a"
      },
      "source": [
        "num_epochs = 100\n",
        "opt_func = torch.optim.Adam\n",
        "lr = 0.001\n",
        "history += fit(num_epochs, lr, model, train_dl, val_dl, opt_func)"
      ],
      "execution_count": null,
      "outputs": [
        {
          "output_type": "stream",
          "name": "stdout",
          "text": [
            "Epoch [0], train_loss: 0.7120, val_loss: 0.3996, val_acc: 0.8586\n",
            "Epoch [1], train_loss: 0.3478, val_loss: 0.3453, val_acc: 0.8730\n",
            "Epoch [2], train_loss: 0.2877, val_loss: 0.3322, val_acc: 0.8818\n",
            "Epoch [3], train_loss: 0.2494, val_loss: 0.3324, val_acc: 0.8830\n",
            "Epoch [4], train_loss: 0.2177, val_loss: 0.3395, val_acc: 0.8794\n",
            "Epoch [5], train_loss: 0.1920, val_loss: 0.3564, val_acc: 0.8832\n",
            "Epoch [6], train_loss: 0.1721, val_loss: 0.3723, val_acc: 0.8807\n",
            "Epoch [7], train_loss: 0.1540, val_loss: 0.4356, val_acc: 0.8748\n",
            "Epoch [8], train_loss: 0.1398, val_loss: 0.4273, val_acc: 0.8753\n",
            "Epoch [9], train_loss: 0.1235, val_loss: 0.4864, val_acc: 0.8778\n",
            "Epoch [10], train_loss: 0.1121, val_loss: 0.5230, val_acc: 0.8780\n",
            "Epoch [11], train_loss: 0.0992, val_loss: 0.5598, val_acc: 0.8756\n",
            "Epoch [12], train_loss: 0.0904, val_loss: 0.5667, val_acc: 0.8731\n",
            "Epoch [13], train_loss: 0.0811, val_loss: 0.6440, val_acc: 0.8743\n",
            "Epoch [14], train_loss: 0.0753, val_loss: 0.6273, val_acc: 0.8743\n",
            "Epoch [15], train_loss: 0.0658, val_loss: 0.6531, val_acc: 0.8737\n",
            "Epoch [16], train_loss: 0.0613, val_loss: 0.7485, val_acc: 0.8761\n",
            "Epoch [17], train_loss: 0.0578, val_loss: 0.7437, val_acc: 0.8693\n",
            "Epoch [18], train_loss: 0.0491, val_loss: 0.7368, val_acc: 0.8713\n",
            "Epoch [19], train_loss: 0.0445, val_loss: 0.8277, val_acc: 0.8733\n",
            "Epoch [20], train_loss: 0.0424, val_loss: 0.9017, val_acc: 0.8689\n",
            "Epoch [21], train_loss: 0.0413, val_loss: 0.8912, val_acc: 0.8682\n",
            "Epoch [22], train_loss: 0.0361, val_loss: 0.9107, val_acc: 0.8729\n",
            "Epoch [23], train_loss: 0.0295, val_loss: 1.0273, val_acc: 0.8689\n",
            "Epoch [24], train_loss: 0.0350, val_loss: 0.9089, val_acc: 0.8644\n",
            "Epoch [25], train_loss: 0.0301, val_loss: 0.8934, val_acc: 0.8668\n",
            "Epoch [26], train_loss: 0.0281, val_loss: 1.0801, val_acc: 0.8686\n",
            "Epoch [27], train_loss: 0.0311, val_loss: 0.9655, val_acc: 0.8690\n",
            "Epoch [28], train_loss: 0.0248, val_loss: 1.0300, val_acc: 0.8722\n",
            "Epoch [29], train_loss: 0.0258, val_loss: 1.0329, val_acc: 0.8706\n",
            "Epoch [30], train_loss: 0.0262, val_loss: 1.1160, val_acc: 0.8636\n",
            "Epoch [31], train_loss: 0.0226, val_loss: 1.1343, val_acc: 0.8691\n",
            "Epoch [32], train_loss: 0.0225, val_loss: 1.0565, val_acc: 0.8696\n",
            "Epoch [33], train_loss: 0.0233, val_loss: 1.1574, val_acc: 0.8707\n",
            "Epoch [34], train_loss: 0.0222, val_loss: 1.0817, val_acc: 0.8733\n",
            "Epoch [35], train_loss: 0.0214, val_loss: 1.1309, val_acc: 0.8695\n",
            "Epoch [36], train_loss: 0.0204, val_loss: 1.2049, val_acc: 0.8663\n",
            "Epoch [37], train_loss: 0.0187, val_loss: 1.2232, val_acc: 0.8659\n",
            "Epoch [38], train_loss: 0.0231, val_loss: 1.2298, val_acc: 0.8673\n",
            "Epoch [39], train_loss: 0.0196, val_loss: 1.2530, val_acc: 0.8685\n",
            "Epoch [40], train_loss: 0.0183, val_loss: 1.1564, val_acc: 0.8684\n",
            "Epoch [41], train_loss: 0.0192, val_loss: 1.2219, val_acc: 0.8691\n",
            "Epoch [42], train_loss: 0.0177, val_loss: 1.3163, val_acc: 0.8666\n",
            "Epoch [43], train_loss: 0.0191, val_loss: 1.2588, val_acc: 0.8703\n",
            "Epoch [44], train_loss: 0.0168, val_loss: 1.3628, val_acc: 0.8703\n",
            "Epoch [45], train_loss: 0.0197, val_loss: 1.2609, val_acc: 0.8710\n",
            "Epoch [46], train_loss: 0.0177, val_loss: 1.2520, val_acc: 0.8707\n",
            "Epoch [47], train_loss: 0.0146, val_loss: 1.4150, val_acc: 0.8697\n",
            "Epoch [48], train_loss: 0.0185, val_loss: 1.4687, val_acc: 0.8707\n",
            "Epoch [49], train_loss: 0.0167, val_loss: 1.2435, val_acc: 0.8699\n",
            "Epoch [50], train_loss: 0.0196, val_loss: 1.2736, val_acc: 0.8702\n",
            "Epoch [51], train_loss: 0.0153, val_loss: 1.3695, val_acc: 0.8696\n",
            "Epoch [52], train_loss: 0.0167, val_loss: 1.4020, val_acc: 0.8700\n",
            "Epoch [53], train_loss: 0.0180, val_loss: 1.3972, val_acc: 0.8707\n",
            "Epoch [54], train_loss: 0.0148, val_loss: 1.4152, val_acc: 0.8699\n",
            "Epoch [55], train_loss: 0.0190, val_loss: 1.4736, val_acc: 0.8697\n",
            "Epoch [56], train_loss: 0.0179, val_loss: 1.3386, val_acc: 0.8699\n",
            "Epoch [57], train_loss: 0.0133, val_loss: 1.4090, val_acc: 0.8705\n",
            "Epoch [58], train_loss: 0.0146, val_loss: 1.6515, val_acc: 0.8688\n",
            "Epoch [59], train_loss: 0.0189, val_loss: 1.4011, val_acc: 0.8691\n",
            "Epoch [60], train_loss: 0.0169, val_loss: 1.4459, val_acc: 0.8702\n",
            "Epoch [61], train_loss: 0.0120, val_loss: 1.7168, val_acc: 0.8689\n",
            "Epoch [62], train_loss: 0.0191, val_loss: 1.5334, val_acc: 0.8709\n",
            "Epoch [63], train_loss: 0.0148, val_loss: 1.4635, val_acc: 0.8700\n",
            "Epoch [64], train_loss: 0.0130, val_loss: 1.4821, val_acc: 0.8724\n",
            "Epoch [65], train_loss: 0.0151, val_loss: 1.4374, val_acc: 0.8718\n",
            "Epoch [66], train_loss: 0.0151, val_loss: 1.4474, val_acc: 0.8668\n",
            "Epoch [67], train_loss: 0.0151, val_loss: 1.4711, val_acc: 0.8677\n",
            "Epoch [68], train_loss: 0.0119, val_loss: 1.6002, val_acc: 0.8724\n",
            "Epoch [69], train_loss: 0.0174, val_loss: 1.5693, val_acc: 0.8653\n",
            "Epoch [70], train_loss: 0.0114, val_loss: 1.6121, val_acc: 0.8688\n",
            "Epoch [71], train_loss: 0.0143, val_loss: 1.4385, val_acc: 0.8699\n",
            "Epoch [72], train_loss: 0.0123, val_loss: 1.4683, val_acc: 0.8690\n",
            "Epoch [73], train_loss: 0.0131, val_loss: 1.5048, val_acc: 0.8734\n",
            "Epoch [74], train_loss: 0.0145, val_loss: 1.8157, val_acc: 0.8719\n",
            "Epoch [75], train_loss: 0.0161, val_loss: 1.6561, val_acc: 0.8686\n",
            "Epoch [76], train_loss: 0.0148, val_loss: 1.6936, val_acc: 0.8700\n",
            "Epoch [77], train_loss: 0.0127, val_loss: 1.6260, val_acc: 0.8670\n",
            "Epoch [78], train_loss: 0.0166, val_loss: 1.6362, val_acc: 0.8696\n",
            "Epoch [79], train_loss: 0.0121, val_loss: 1.5872, val_acc: 0.8707\n",
            "Epoch [80], train_loss: 0.0115, val_loss: 1.8896, val_acc: 0.8697\n",
            "Epoch [81], train_loss: 0.0151, val_loss: 1.7281, val_acc: 0.8714\n",
            "Epoch [82], train_loss: 0.0133, val_loss: 1.9256, val_acc: 0.8664\n",
            "Epoch [83], train_loss: 0.0136, val_loss: 1.6313, val_acc: 0.8714\n",
            "Epoch [84], train_loss: 0.0123, val_loss: 1.7067, val_acc: 0.8705\n",
            "Epoch [85], train_loss: 0.0149, val_loss: 1.8272, val_acc: 0.8698\n",
            "Epoch [86], train_loss: 0.0104, val_loss: 1.8648, val_acc: 0.8697\n",
            "Epoch [87], train_loss: 0.0123, val_loss: 1.8344, val_acc: 0.8703\n",
            "Epoch [88], train_loss: 0.0182, val_loss: 1.7273, val_acc: 0.8687\n",
            "Epoch [89], train_loss: 0.0143, val_loss: 1.7175, val_acc: 0.8702\n",
            "Epoch [90], train_loss: 0.0144, val_loss: 1.8873, val_acc: 0.8697\n",
            "Epoch [91], train_loss: 0.0160, val_loss: 1.8630, val_acc: 0.8692\n",
            "Epoch [92], train_loss: 0.0110, val_loss: 1.9162, val_acc: 0.8695\n",
            "Epoch [93], train_loss: 0.0112, val_loss: 1.8783, val_acc: 0.8693\n",
            "Epoch [94], train_loss: 0.0139, val_loss: 1.8362, val_acc: 0.8714\n",
            "Epoch [95], train_loss: 0.0132, val_loss: 1.8604, val_acc: 0.8683\n",
            "Epoch [96], train_loss: 0.0136, val_loss: 1.8312, val_acc: 0.8711\n",
            "Epoch [97], train_loss: 0.0114, val_loss: 1.8829, val_acc: 0.8730\n",
            "Epoch [98], train_loss: 0.0153, val_loss: 1.8534, val_acc: 0.8701\n",
            "Epoch [99], train_loss: 0.0135, val_loss: 2.1536, val_acc: 0.8721\n"
          ]
        }
      ]
    },
    {
      "cell_type": "code",
      "metadata": {
        "colab": {
          "base_uri": "https://localhost:8080/",
          "height": 295
        },
        "id": "ta3iCeFK4eeH",
        "outputId": "c6c9f170-55f2-4945-e263-4734b8adfa04"
      },
      "source": [
        "def plot_accuracies(history):\n",
        "    accuracies = [x['val_acc'] for x in history]\n",
        "    plt.plot(accuracies, '-x')\n",
        "    plt.xlabel('epoch')\n",
        "    plt.ylabel('accuracy')\n",
        "    plt.title('Accuracy vs. No. of epochs');\n",
        "plot_accuracies(history[:])"
      ],
      "execution_count": null,
      "outputs": [
        {
          "output_type": "display_data",
          "data": {
            "image/png": "[encoded data removed]",
            "text/plain": [
              "<Figure size 432x288 with 1 Axes>"
            ]
          },
          "metadata": {
            "needs_background": "light"
          }
        }
      ]
    },
    {
      "cell_type": "code",
      "metadata": {
        "colab": {
          "base_uri": "https://localhost:8080/",
          "height": 295
        },
        "id": "nCO01xxYGx61",
        "outputId": "65e4ba5c-622b-4f88-f187-a33982b44bff"
      },
      "source": [
        "def plot_losses(history):\n",
        "    train_losses = [x.get('train_loss') for x in history]\n",
        "    val_losses = [x['val_loss'] for x in history]\n",
        "    plt.plot(train_losses[1:], '-bx')\n",
        "    plt.plot(val_losses[1:], '-rx')\n",
        "    plt.xlabel('epoch')\n",
        "    plt.ylabel('loss')\n",
        "    plt.legend(['Training', 'Validation'])\n",
        "    plt.title('Loss vs. No. of epochs');\n",
        "plot_losses(history)"
      ],
      "execution_count": null,
      "outputs": [
        {
          "output_type": "display_data",
          "data": {
            "image/png": "[encoded data removed]",
            "text/plain": [
              "<Figure size 432x288 with 1 Axes>"
            ]
          },
          "metadata": {
            "needs_background": "light"
          }
        }
      ]
    },
    {
      "cell_type": "code",
      "metadata": {
        "colab": {
          "base_uri": "https://localhost:8080/"
        },
        "id": "c8JEMOkAVoMu",
        "outputId": "c525182e-c5a9-4fc5-cfb5-2ad70d2b8ae0"
      },
      "source": [
        "test_loader = DeviceDataLoader(DataLoader(test_dataset, batch_size*2), device)\n",
        "result = evaluate(model, test_loader)\n",
        "result\n",
        "torch.save(model.state_dict(), 'emnist-cnn01.pth')\n",
        "model2 = to_device(Cifar10CnnModel(), device)\n",
        "model2.load_state_dict(torch.load('emnist-cnn01.pth'))\n",
        "evaluate(model2, test_loader)"
      ],
      "execution_count": null,
      "outputs": [
        {
          "output_type": "execute_result",
          "data": {
            "text/plain": [
              "{'val_acc': 0.8663297891616821, 'val_loss': 2.2532761096954346}"
            ]
          },
          "metadata": {},
          "execution_count": 21
        }
      ]
    },
    {
      "cell_type": "code",
      "metadata": {
        "id": "9NK0JnFpJI46"
      },
      "source": [
        ""
      ],
      "execution_count": null,
      "outputs": []
    }
  ]
}