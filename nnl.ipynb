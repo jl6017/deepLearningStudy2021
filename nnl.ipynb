{
  "nbformat": 4,
  "nbformat_minor": 0,
  "metadata": {
    "interpreter": {
      "hash": "e7cb1b9ae4d417fedf7f40a8eec98f7cfbd359e096bd857395a915f4609834ce"
    },
    "kernelspec": {
      "display_name": "Python 3.9.5 64-bit ('base': conda)",
      "language": "python",
      "name": "python3"
    },
    "language_info": {
      "codemirror_mode": {
        "name": "ipython",
        "version": 3
      },
      "file_extension": ".py",
      "mimetype": "text/x-python",
      "name": "python",
      "nbconvert_exporter": "python",
      "pygments_lexer": "ipython3",
      "version": "3.9.5"
    },
    "orig_nbformat": 4,
    "colab": {
      "name": "“feedforward.ipynb”的副本",
      "provenance": [],
      "collapsed_sections": [],
      "include_colab_link": true
    },
    "widgets": {
      "application/vnd.jupyter.widget-state+json": {
        "34554d4f698a4b01961b137b401c75f3": {
          "model_module": "@jupyter-widgets/controls",
          "model_name": "HBoxModel",
          "model_module_version": "1.5.0",
          "state": {
            "_view_name": "HBoxView",
            "_dom_classes": [],
            "_model_name": "HBoxModel",
            "_view_module": "@jupyter-widgets/controls",
            "_model_module_version": "1.5.0",
            "_view_count": null,
            "_view_module_version": "1.5.0",
            "box_style": "",
            "layout": "IPY_MODEL_d224c7de465e4f1695edf380472ac59e",
            "_model_module": "@jupyter-widgets/controls",
            "children": [
              "IPY_MODEL_78382935d9a048f08a9cb0ebef52ee6f",
              "IPY_MODEL_47254f3f9ad5472ab62e7b8958a5e3e1",
              "IPY_MODEL_5237db7162694085b260d328430619be"
            ]
          }
        },
        "d224c7de465e4f1695edf380472ac59e": {
          "model_module": "@jupyter-widgets/base",
          "model_name": "LayoutModel",
          "model_module_version": "1.2.0",
          "state": {
            "_view_name": "LayoutView",
            "grid_template_rows": null,
            "right": null,
            "justify_content": null,
            "_view_module": "@jupyter-widgets/base",
            "overflow": null,
            "_model_module_version": "1.2.0",
            "_view_count": null,
            "flex_flow": null,
            "width": null,
            "min_width": null,
            "border": null,
            "align_items": null,
            "bottom": null,
            "_model_module": "@jupyter-widgets/base",
            "top": null,
            "grid_column": null,
            "overflow_y": null,
            "overflow_x": null,
            "grid_auto_flow": null,
            "grid_area": null,
            "grid_template_columns": null,
            "flex": null,
            "_model_name": "LayoutModel",
            "justify_items": null,
            "grid_row": null,
            "max_height": null,
            "align_content": null,
            "visibility": null,
            "align_self": null,
            "height": null,
            "min_height": null,
            "padding": null,
            "grid_auto_rows": null,
            "grid_gap": null,
            "max_width": null,
            "order": null,
            "_view_module_version": "1.2.0",
            "grid_template_areas": null,
            "object_position": null,
            "object_fit": null,
            "grid_auto_columns": null,
            "margin": null,
            "display": null,
            "left": null
          }
        },
        "78382935d9a048f08a9cb0ebef52ee6f": {
          "model_module": "@jupyter-widgets/controls",
          "model_name": "HTMLModel",
          "model_module_version": "1.5.0",
          "state": {
            "_view_name": "HTMLView",
            "style": "IPY_MODEL_d6eaecf317b64eb59d514cbb4926696a",
            "_dom_classes": [],
            "description": "",
            "_model_name": "HTMLModel",
            "placeholder": "​",
            "_view_module": "@jupyter-widgets/controls",
            "_model_module_version": "1.5.0",
            "value": "",
            "_view_count": null,
            "_view_module_version": "1.5.0",
            "description_tooltip": null,
            "_model_module": "@jupyter-widgets/controls",
            "layout": "IPY_MODEL_505c3a8c95524bd38eb92f7d45762fd3"
          }
        },
        "47254f3f9ad5472ab62e7b8958a5e3e1": {
          "model_module": "@jupyter-widgets/controls",
          "model_name": "FloatProgressModel",
          "model_module_version": "1.5.0",
          "state": {
            "_view_name": "ProgressView",
            "style": "IPY_MODEL_ec3ae45dea3143e2913bd27fdce78135",
            "_dom_classes": [],
            "description": "",
            "_model_name": "FloatProgressModel",
            "bar_style": "success",
            "max": 561753746,
            "_view_module": "@jupyter-widgets/controls",
            "_model_module_version": "1.5.0",
            "value": 561753746,
            "_view_count": null,
            "_view_module_version": "1.5.0",
            "orientation": "horizontal",
            "min": 0,
            "description_tooltip": null,
            "_model_module": "@jupyter-widgets/controls",
            "layout": "IPY_MODEL_c58aa6e4e58e4be5bfa2c7c3a5f822c3"
          }
        },
        "5237db7162694085b260d328430619be": {
          "model_module": "@jupyter-widgets/controls",
          "model_name": "HTMLModel",
          "model_module_version": "1.5.0",
          "state": {
            "_view_name": "HTMLView",
            "style": "IPY_MODEL_4cf5bc19345043919e4f71e411dfb2d3",
            "_dom_classes": [],
            "description": "",
            "_model_name": "HTMLModel",
            "placeholder": "​",
            "_view_module": "@jupyter-widgets/controls",
            "_model_module_version": "1.5.0",
            "value": " 561754112/? [00:30&lt;00:00, 19577187.84it/s]",
            "_view_count": null,
            "_view_module_version": "1.5.0",
            "description_tooltip": null,
            "_model_module": "@jupyter-widgets/controls",
            "layout": "IPY_MODEL_da06ad9ac7dc4541a965c05f55e3c2d5"
          }
        },
        "d6eaecf317b64eb59d514cbb4926696a": {
          "model_module": "@jupyter-widgets/controls",
          "model_name": "DescriptionStyleModel",
          "model_module_version": "1.5.0",
          "state": {
            "_view_name": "StyleView",
            "_model_name": "DescriptionStyleModel",
            "description_width": "",
            "_view_module": "@jupyter-widgets/base",
            "_model_module_version": "1.5.0",
            "_view_count": null,
            "_view_module_version": "1.2.0",
            "_model_module": "@jupyter-widgets/controls"
          }
        },
        "505c3a8c95524bd38eb92f7d45762fd3": {
          "model_module": "@jupyter-widgets/base",
          "model_name": "LayoutModel",
          "model_module_version": "1.2.0",
          "state": {
            "_view_name": "LayoutView",
            "grid_template_rows": null,
            "right": null,
            "justify_content": null,
            "_view_module": "@jupyter-widgets/base",
            "overflow": null,
            "_model_module_version": "1.2.0",
            "_view_count": null,
            "flex_flow": null,
            "width": null,
            "min_width": null,
            "border": null,
            "align_items": null,
            "bottom": null,
            "_model_module": "@jupyter-widgets/base",
            "top": null,
            "grid_column": null,
            "overflow_y": null,
            "overflow_x": null,
            "grid_auto_flow": null,
            "grid_area": null,
            "grid_template_columns": null,
            "flex": null,
            "_model_name": "LayoutModel",
            "justify_items": null,
            "grid_row": null,
            "max_height": null,
            "align_content": null,
            "visibility": null,
            "align_self": null,
            "height": null,
            "min_height": null,
            "padding": null,
            "grid_auto_rows": null,
            "grid_gap": null,
            "max_width": null,
            "order": null,
            "_view_module_version": "1.2.0",
            "grid_template_areas": null,
            "object_position": null,
            "object_fit": null,
            "grid_auto_columns": null,
            "margin": null,
            "display": null,
            "left": null
          }
        },
        "ec3ae45dea3143e2913bd27fdce78135": {
          "model_module": "@jupyter-widgets/controls",
          "model_name": "ProgressStyleModel",
          "model_module_version": "1.5.0",
          "state": {
            "_view_name": "StyleView",
            "_model_name": "ProgressStyleModel",
            "description_width": "",
            "_view_module": "@jupyter-widgets/base",
            "_model_module_version": "1.5.0",
            "_view_count": null,
            "_view_module_version": "1.2.0",
            "bar_color": null,
            "_model_module": "@jupyter-widgets/controls"
          }
        },
        "c58aa6e4e58e4be5bfa2c7c3a5f822c3": {
          "model_module": "@jupyter-widgets/base",
          "model_name": "LayoutModel",
          "model_module_version": "1.2.0",
          "state": {
            "_view_name": "LayoutView",
            "grid_template_rows": null,
            "right": null,
            "justify_content": null,
            "_view_module": "@jupyter-widgets/base",
            "overflow": null,
            "_model_module_version": "1.2.0",
            "_view_count": null,
            "flex_flow": null,
            "width": null,
            "min_width": null,
            "border": null,
            "align_items": null,
            "bottom": null,
            "_model_module": "@jupyter-widgets/base",
            "top": null,
            "grid_column": null,
            "overflow_y": null,
            "overflow_x": null,
            "grid_auto_flow": null,
            "grid_area": null,
            "grid_template_columns": null,
            "flex": null,
            "_model_name": "LayoutModel",
            "justify_items": null,
            "grid_row": null,
            "max_height": null,
            "align_content": null,
            "visibility": null,
            "align_self": null,
            "height": null,
            "min_height": null,
            "padding": null,
            "grid_auto_rows": null,
            "grid_gap": null,
            "max_width": null,
            "order": null,
            "_view_module_version": "1.2.0",
            "grid_template_areas": null,
            "object_position": null,
            "object_fit": null,
            "grid_auto_columns": null,
            "margin": null,
            "display": null,
            "left": null
          }
        },
        "4cf5bc19345043919e4f71e411dfb2d3": {
          "model_module": "@jupyter-widgets/controls",
          "model_name": "DescriptionStyleModel",
          "model_module_version": "1.5.0",
          "state": {
            "_view_name": "StyleView",
            "_model_name": "DescriptionStyleModel",
            "description_width": "",
            "_view_module": "@jupyter-widgets/base",
            "_model_module_version": "1.5.0",
            "_view_count": null,
            "_view_module_version": "1.2.0",
            "_model_module": "@jupyter-widgets/controls"
          }
        },
        "da06ad9ac7dc4541a965c05f55e3c2d5": {
          "model_module": "@jupyter-widgets/base",
          "model_name": "LayoutModel",
          "model_module_version": "1.2.0",
          "state": {
            "_view_name": "LayoutView",
            "grid_template_rows": null,
            "right": null,
            "justify_content": null,
            "_view_module": "@jupyter-widgets/base",
            "overflow": null,
            "_model_module_version": "1.2.0",
            "_view_count": null,
            "flex_flow": null,
            "width": null,
            "min_width": null,
            "border": null,
            "align_items": null,
            "bottom": null,
            "_model_module": "@jupyter-widgets/base",
            "top": null,
            "grid_column": null,
            "overflow_y": null,
            "overflow_x": null,
            "grid_auto_flow": null,
            "grid_area": null,
            "grid_template_columns": null,
            "flex": null,
            "_model_name": "LayoutModel",
            "justify_items": null,
            "grid_row": null,
            "max_height": null,
            "align_content": null,
            "visibility": null,
            "align_self": null,
            "height": null,
            "min_height": null,
            "padding": null,
            "grid_auto_rows": null,
            "grid_gap": null,
            "max_width": null,
            "order": null,
            "_view_module_version": "1.2.0",
            "grid_template_areas": null,
            "object_position": null,
            "object_fit": null,
            "grid_auto_columns": null,
            "margin": null,
            "display": null,
            "left": null
          }
        }
      }
    }
  },
  "cells": [
    {
      "cell_type": "markdown",
      "metadata": {
        "id": "view-in-github",
        "colab_type": "text"
      },
      "source": [
        "<a href=\"https://colab.research.google.com/github/jacklu98/python-random-quote/blob/master/%E2%80%9Cfeedforward_ipynb%E2%80%9D%E7%9A%84%E5%89%AF%E6%9C%AC.ipynb\" target=\"_parent\"><img src=\"https://colab.research.google.com/assets/colab-badge.svg\" alt=\"Open In Colab\"/></a>"
      ]
    },
    {
      "cell_type": "code",
      "metadata": {
        "id": "nBum-cJ9ov9F"
      },
      "source": [
        "import torch\n",
        "import torchvision\n",
        "import numpy as np\n",
        "import matplotlib.pyplot as plt\n",
        "import torch.nn as nn\n",
        "import torch.nn.functional as F\n",
        "from torchvision.datasets import EMNIST\n",
        "from torchvision.transforms import ToTensor\n",
        "from torchvision.utils import make_grid\n",
        "from torch.utils.data.dataloader import DataLoader\n",
        "from torch.utils.data import random_split\n",
        "%matplotlib inline"
      ],
      "execution_count": 2,
      "outputs": []
    },
    {
      "cell_type": "code",
      "metadata": {
        "id": "1XfehOBqov9H",
        "colab": {
          "base_uri": "https://localhost:8080/",
          "height": 369,
          "referenced_widgets": [
            "34554d4f698a4b01961b137b401c75f3",
            "d224c7de465e4f1695edf380472ac59e",
            "78382935d9a048f08a9cb0ebef52ee6f",
            "47254f3f9ad5472ab62e7b8958a5e3e1",
            "5237db7162694085b260d328430619be",
            "d6eaecf317b64eb59d514cbb4926696a",
            "505c3a8c95524bd38eb92f7d45762fd3",
            "ec3ae45dea3143e2913bd27fdce78135",
            "c58aa6e4e58e4be5bfa2c7c3a5f822c3",
            "4cf5bc19345043919e4f71e411dfb2d3",
            "da06ad9ac7dc4541a965c05f55e3c2d5"
          ]
        },
        "outputId": "c530103f-411b-442c-d8cc-3d082c84ded9"
      },
      "source": [
        "idx = [\"0\", \"1\", \"2\", \"3\", \"4\", \"5\", \"6\", \"7\", \"8\", \"9\",\n",
        "       \"A\", \"B\", \"C\", \"D\", \"E\", \"F\", \"G\", \"H\", \"I\", \"J\", \"K\", \"L\", \"M\", \"N\",\n",
        "       \"O\", \"P\", \"Q\",\"R\",\"S\",\"T\", \"U\", \"V\", \"W\",\"X\",\"Y\",\"Z\",\n",
        "       \"a\", \"b\", \"d\",\"e\", \"f\",\"g\",\"h\",\"n\",\"q\",\"r\",\"t\"]\n",
        "dataset = EMNIST(root='data/', split=\"balanced\", download=True, transform=ToTensor())\n",
        "image, label = dataset[0]\n",
        "print('image.shape:', image.shape)\n",
        "plt.imshow(image.reshape(28,28), cmap='gray')\n",
        "print('Label:', label) "
      ],
      "execution_count": 3,
      "outputs": [
        {
          "output_type": "stream",
          "name": "stdout",
          "text": [
            "Downloading https://www.itl.nist.gov/iaui/vip/cs_links/EMNIST/gzip.zip to data/EMNIST/raw/gzip.zip\n"
          ]
        },
        {
          "output_type": "display_data",
          "data": {
            "application/vnd.jupyter.widget-view+json": {
              "model_id": "34554d4f698a4b01961b137b401c75f3",
              "version_minor": 0,
              "version_major": 2
            },
            "text/plain": [
              "  0%|          | 0/561753746 [00:00<?, ?it/s]"
            ]
          },
          "metadata": {}
        },
        {
          "output_type": "stream",
          "name": "stdout",
          "text": [
            "Extracting data/EMNIST/raw/gzip.zip to data/EMNIST/raw\n",
            "image.shape: torch.Size([1, 28, 28])\n",
            "Label: 45\n"
          ]
        },
        {
          "output_type": "display_data",
          "data": {
            "image/png": "[encoded data removed]",
            "text/plain": [
              "<Figure size 432x288 with 1 Axes>"
            ]
          },
          "metadata": {
            "needs_background": "light"
          }
        }
      ]
    },
    {
      "cell_type": "code",
      "metadata": {
        "id": "392x4uYqov9I",
        "colab": {
          "base_uri": "https://localhost:8080/"
        },
        "outputId": "d6066b27-ae51-4584-d4c9-cc0435b8ad47"
      },
      "source": [
        "train_ds, val_ds = random_split(dataset, [94000, 18800])\n",
        "len(train_ds), len(val_ds)"
      ],
      "execution_count": 4,
      "outputs": [
        {
          "output_type": "execute_result",
          "data": {
            "text/plain": [
              "(94000, 18800)"
            ]
          },
          "metadata": {},
          "execution_count": 4
        }
      ]
    },
    {
      "cell_type": "code",
      "metadata": {
        "id": "_pQ4xrxKov9I",
        "colab": {
          "base_uri": "https://localhost:8080/"
        },
        "outputId": "98ce2256-9176-4a93-d351-904b9aef299d"
      },
      "source": [
        "batch_size = 128\n",
        "train_loader = DataLoader(train_ds, batch_size, shuffle=True, num_workers=4, pin_memory=True)\n",
        "val_loader = DataLoader(val_ds, batch_size*2, num_workers=4, pin_memory=True)"
      ],
      "execution_count": 5,
      "outputs": [
        {
          "output_type": "stream",
          "name": "stderr",
          "text": [
            "/usr/local/lib/python3.7/dist-packages/torch/utils/data/dataloader.py:481: UserWarning: This DataLoader will create 4 worker processes in total. Our suggested max number of worker in current system is 2, which is smaller than what this DataLoader is going to create. Please be aware that excessive worker creation might get DataLoader running slow or even freeze, lower the worker number to avoid potential slowness/freeze if necessary.\n",
            "  cpuset_checked))\n"
          ]
        }
      ]
    },
    {
      "cell_type": "code",
      "metadata": {
        "id": "PQTaTKkAov9I"
      },
      "source": [
        "class MnistModel(nn.Module):\n",
        "    \"\"\"Feedfoward neural network with 1 hidden layer\"\"\"\n",
        "    def __init__(self, in_size, hidden_size1, hidden_size2, out_size):\n",
        "        super().__init__()\n",
        "        # hidden layer1\n",
        "        self.linear1 = nn.Linear(in_size, hidden_size1)\n",
        "        # hidden layer2\n",
        "        self.linear2 = nn.Linear(hidden_size1, hidden_size2)\n",
        "        # output layer\n",
        "        self.linear3 = nn.Linear(hidden_size2, out_size)\n",
        "        \n",
        "    def forward(self, xb):\n",
        "        # Flatten the image tensors\n",
        "        xb = xb.view(xb.size(0), -1)\n",
        "        # Get intermediate outputs using hidden layer\n",
        "        out = self.linear1(xb)\n",
        "        # Apply activation function\n",
        "        out = F.relu(out)\n",
        "        # Get intermediate outputs using hidden layer\n",
        "        out = self.linear2(out)\n",
        "        # Apply activation function\n",
        "        out = F.relu(out)\n",
        "        # Get predictions using output layer\n",
        "        out = self.linear3(out)\n",
        "        return out\n",
        "    \n",
        "    def training_step(self, batch):\n",
        "        images, labels = batch \n",
        "        out = self(images)                  # Generate predictions\n",
        "        loss = F.cross_entropy(out, labels) # Calculate loss\n",
        "        return loss\n",
        "    \n",
        "    def validation_step(self, batch):\n",
        "        images, labels = batch \n",
        "        out = self(images)                    # Generate predictions\n",
        "        loss = F.cross_entropy(out, labels)   # Calculate loss\n",
        "        acc = accuracy(out, labels)           # Calculate accuracy\n",
        "        return {'val_loss': loss, 'val_acc': acc}\n",
        "        \n",
        "    def validation_epoch_end(self, outputs):\n",
        "        batch_losses = [x['val_loss'] for x in outputs]\n",
        "        epoch_loss = torch.stack(batch_losses).mean()   # Combine losses\n",
        "        batch_accs = [x['val_acc'] for x in outputs]\n",
        "        epoch_acc = torch.stack(batch_accs).mean()      # Combine accuracies\n",
        "        return {'val_loss': epoch_loss.item(), 'val_acc': epoch_acc.item()}\n",
        "    \n",
        "    def epoch_end(self, epoch, result):\n",
        "        print(\"Epoch [{}], val_loss: {:.4f}, val_acc: {:.4f}\".format(epoch, result['val_loss'], result['val_acc']))"
      ],
      "execution_count": 6,
      "outputs": []
    },
    {
      "cell_type": "code",
      "metadata": {
        "id": "f-D57peOov9J"
      },
      "source": [
        "def accuracy(outputs, labels):\n",
        "    _, preds = torch.max(outputs, dim=1)\n",
        "    return torch.tensor(torch.sum(preds == labels).item() / len(preds))"
      ],
      "execution_count": 7,
      "outputs": []
    },
    {
      "cell_type": "code",
      "metadata": {
        "id": "6KHJPDsRov9J",
        "colab": {
          "base_uri": "https://localhost:8080/"
        },
        "outputId": "b942d5ba-65f3-462e-ef81-f393a28e26f4"
      },
      "source": [
        "input_size = 784\n",
        "hidden_size1 = 64 # you can change this\n",
        "hidden_size2 = 32\n",
        "num_classes = 47\n",
        "model = MnistModel(input_size, hidden_size1, hidden_size2, out_size=num_classes)\n",
        "for t in model.parameters():\n",
        "    print(t.shape)"
      ],
      "execution_count": 8,
      "outputs": [
        {
          "output_type": "stream",
          "name": "stdout",
          "text": [
            "torch.Size([64, 784])\n",
            "torch.Size([64])\n",
            "torch.Size([32, 64])\n",
            "torch.Size([32])\n",
            "torch.Size([47, 32])\n",
            "torch.Size([47])\n"
          ]
        }
      ]
    },
    {
      "cell_type": "code",
      "metadata": {
        "id": "SDxLQR4fov9J",
        "colab": {
          "base_uri": "https://localhost:8080/"
        },
        "outputId": "94ee22b3-5184-4bd9-93af-e8a73480cc12"
      },
      "source": [
        "for images, labels in train_loader:\n",
        "    outputs = model(images)\n",
        "    loss = F.cross_entropy(outputs, labels)\n",
        "    print('Loss:', loss.item())\n",
        "    break\n",
        "\n",
        "print('outputs.shape : ', outputs.shape)\n",
        "print('Sample outputs :\\n', outputs[:2].data)"
      ],
      "execution_count": 9,
      "outputs": [
        {
          "output_type": "stream",
          "name": "stderr",
          "text": [
            "/usr/local/lib/python3.7/dist-packages/torch/utils/data/dataloader.py:481: UserWarning: This DataLoader will create 4 worker processes in total. Our suggested max number of worker in current system is 2, which is smaller than what this DataLoader is going to create. Please be aware that excessive worker creation might get DataLoader running slow or even freeze, lower the worker number to avoid potential slowness/freeze if necessary.\n",
            "  cpuset_checked))\n"
          ]
        },
        {
          "output_type": "stream",
          "name": "stdout",
          "text": [
            "Loss: 3.851839303970337\n",
            "outputs.shape :  torch.Size([128, 47])\n",
            "Sample outputs :\n",
            " tensor([[-0.0224, -0.0147,  0.0002, -0.0207,  0.0274, -0.1362, -0.0553,  0.1134,\n",
            "          0.0343,  0.0247,  0.1514, -0.0088,  0.1302,  0.0597,  0.1683, -0.0790,\n",
            "          0.0927, -0.0065,  0.1002,  0.0190,  0.1371,  0.0529, -0.0963,  0.1012,\n",
            "          0.0147, -0.0089, -0.0737,  0.0338, -0.0362,  0.1769, -0.1211,  0.1006,\n",
            "          0.1335,  0.0371,  0.0130,  0.1593, -0.0130, -0.0146,  0.1398,  0.1488,\n",
            "         -0.0273, -0.0909,  0.0505,  0.0563, -0.0430, -0.0923,  0.0542],\n",
            "        [-0.0108, -0.0021, -0.0223, -0.0555,  0.0318, -0.1335, -0.0557,  0.0740,\n",
            "          0.0423,  0.0291,  0.1565, -0.0095,  0.1179,  0.0806,  0.1873, -0.1138,\n",
            "          0.0976,  0.0042,  0.1052,  0.0187,  0.1674,  0.0542, -0.0967,  0.0625,\n",
            "          0.0573,  0.0137, -0.0636,  0.0545, -0.0747,  0.1742, -0.1190,  0.0870,\n",
            "          0.1338,  0.0007,  0.0306,  0.1655,  0.0091, -0.0430,  0.1479,  0.1172,\n",
            "         -0.0180, -0.1190,  0.0653,  0.0486, -0.0253, -0.0909,  0.0783]])\n"
          ]
        }
      ]
    },
    {
      "cell_type": "code",
      "metadata": {
        "id": "8pD0L0PMov9K"
      },
      "source": [
        "def evaluate(model, val_loader):\n",
        "    \"\"\"Evaluate the model's performance on the validation set\"\"\"\n",
        "    outputs = [model.validation_step(batch) for batch in val_loader]\n",
        "    return model.validation_epoch_end(outputs)\n",
        "\n",
        "def fit(epochs, lr, model, train_loader, val_loader, opt_func=torch.optim.SGD):\n",
        "    \"\"\"Train the model using gradient descent\"\"\"\n",
        "    history = []\n",
        "    optimizer = opt_func(model.parameters(), lr)\n",
        "    for epoch in range(epochs):\n",
        "        # Training Phase \n",
        "        for batch in train_loader:\n",
        "            loss = model.training_step(batch)\n",
        "            loss.backward()\n",
        "            optimizer.step()\n",
        "            optimizer.zero_grad()\n",
        "        # Validation phase\n",
        "        result = evaluate(model, val_loader)\n",
        "        model.epoch_end(epoch, result)\n",
        "        history.append(result)\n",
        "    return history"
      ],
      "execution_count": 10,
      "outputs": []
    },
    {
      "cell_type": "code",
      "metadata": {
        "id": "cMasvEKxov9K",
        "colab": {
          "base_uri": "https://localhost:8080/"
        },
        "outputId": "cbe075e8-d457-442f-bb07-56dfebf8eae5"
      },
      "source": [
        "history = [evaluate(model, val_loader)]\n",
        "history"
      ],
      "execution_count": 11,
      "outputs": [
        {
          "output_type": "stream",
          "name": "stderr",
          "text": [
            "/usr/local/lib/python3.7/dist-packages/torch/utils/data/dataloader.py:481: UserWarning: This DataLoader will create 4 worker processes in total. Our suggested max number of worker in current system is 2, which is smaller than what this DataLoader is going to create. Please be aware that excessive worker creation might get DataLoader running slow or even freeze, lower the worker number to avoid potential slowness/freeze if necessary.\n",
            "  cpuset_checked))\n"
          ]
        },
        {
          "output_type": "execute_result",
          "data": {
            "text/plain": [
              "[{'val_acc': 0.023980453610420227, 'val_loss': 3.8547210693359375}]"
            ]
          },
          "metadata": {},
          "execution_count": 11
        }
      ]
    },
    {
      "cell_type": "code",
      "metadata": {
        "id": "8JCyXjkVov9K",
        "colab": {
          "base_uri": "https://localhost:8080/"
        },
        "outputId": "67f45754-5c72-483c-fd13-1a3046a1726d"
      },
      "source": [
        "history += fit(5, 0.5, model, train_loader, val_loader)"
      ],
      "execution_count": 12,
      "outputs": [
        {
          "output_type": "stream",
          "name": "stderr",
          "text": [
            "/usr/local/lib/python3.7/dist-packages/torch/utils/data/dataloader.py:481: UserWarning: This DataLoader will create 4 worker processes in total. Our suggested max number of worker in current system is 2, which is smaller than what this DataLoader is going to create. Please be aware that excessive worker creation might get DataLoader running slow or even freeze, lower the worker number to avoid potential slowness/freeze if necessary.\n",
            "  cpuset_checked))\n"
          ]
        },
        {
          "output_type": "stream",
          "name": "stdout",
          "text": [
            "Epoch [0], val_loss: 1.1531, val_acc: 0.6438\n",
            "Epoch [1], val_loss: 0.9025, val_acc: 0.7159\n",
            "Epoch [2], val_loss: 0.9508, val_acc: 0.7035\n",
            "Epoch [3], val_loss: 0.8058, val_acc: 0.7368\n",
            "Epoch [4], val_loss: 0.7142, val_acc: 0.7731\n"
          ]
        }
      ]
    },
    {
      "cell_type": "code",
      "metadata": {
        "id": "j8GYhkpQov9K",
        "colab": {
          "base_uri": "https://localhost:8080/"
        },
        "outputId": "aab71381-386f-4f29-9f1e-71fb56d4184b"
      },
      "source": [
        "history += fit(5, 0.1, model, train_loader, val_loader) # small learning rate"
      ],
      "execution_count": 13,
      "outputs": [
        {
          "output_type": "stream",
          "name": "stderr",
          "text": [
            "/usr/local/lib/python3.7/dist-packages/torch/utils/data/dataloader.py:481: UserWarning: This DataLoader will create 4 worker processes in total. Our suggested max number of worker in current system is 2, which is smaller than what this DataLoader is going to create. Please be aware that excessive worker creation might get DataLoader running slow or even freeze, lower the worker number to avoid potential slowness/freeze if necessary.\n",
            "  cpuset_checked))\n"
          ]
        },
        {
          "output_type": "stream",
          "name": "stdout",
          "text": [
            "Epoch [0], val_loss: 0.5618, val_acc: 0.8186\n",
            "Epoch [1], val_loss: 0.5651, val_acc: 0.8164\n",
            "Epoch [2], val_loss: 0.5534, val_acc: 0.8199\n",
            "Epoch [3], val_loss: 0.5548, val_acc: 0.8189\n",
            "Epoch [4], val_loss: 0.5579, val_acc: 0.8197\n"
          ]
        }
      ]
    },
    {
      "cell_type": "code",
      "metadata": {
        "id": "Oo7lHKpMov9K",
        "colab": {
          "base_uri": "https://localhost:8080/"
        },
        "outputId": "7c73e040-1e28-463b-bebe-e23930d33671"
      },
      "source": [
        "history += fit(5, 0.01, model, train_loader, val_loader) # small learning rate"
      ],
      "execution_count": 14,
      "outputs": [
        {
          "output_type": "stream",
          "name": "stderr",
          "text": [
            "/usr/local/lib/python3.7/dist-packages/torch/utils/data/dataloader.py:481: UserWarning: This DataLoader will create 4 worker processes in total. Our suggested max number of worker in current system is 2, which is smaller than what this DataLoader is going to create. Please be aware that excessive worker creation might get DataLoader running slow or even freeze, lower the worker number to avoid potential slowness/freeze if necessary.\n",
            "  cpuset_checked))\n"
          ]
        },
        {
          "output_type": "stream",
          "name": "stdout",
          "text": [
            "Epoch [0], val_loss: 0.5373, val_acc: 0.8253\n",
            "Epoch [1], val_loss: 0.5372, val_acc: 0.8255\n",
            "Epoch [2], val_loss: 0.5358, val_acc: 0.8258\n",
            "Epoch [3], val_loss: 0.5368, val_acc: 0.8274\n",
            "Epoch [4], val_loss: 0.5359, val_acc: 0.8265\n"
          ]
        }
      ]
    },
    {
      "cell_type": "code",
      "metadata": {
        "id": "Rua9EcRIB61d",
        "colab": {
          "base_uri": "https://localhost:8080/"
        },
        "outputId": "df652aba-82fd-4c62-e888-7e9880853333"
      },
      "source": [
        "history += fit(25, 0.001, model, train_loader, val_loader)"
      ],
      "execution_count": 15,
      "outputs": [
        {
          "output_type": "stream",
          "name": "stderr",
          "text": [
            "/usr/local/lib/python3.7/dist-packages/torch/utils/data/dataloader.py:481: UserWarning: This DataLoader will create 4 worker processes in total. Our suggested max number of worker in current system is 2, which is smaller than what this DataLoader is going to create. Please be aware that excessive worker creation might get DataLoader running slow or even freeze, lower the worker number to avoid potential slowness/freeze if necessary.\n",
            "  cpuset_checked))\n"
          ]
        },
        {
          "output_type": "stream",
          "name": "stdout",
          "text": [
            "Epoch [0], val_loss: 0.5354, val_acc: 0.8261\n",
            "Epoch [1], val_loss: 0.5353, val_acc: 0.8264\n",
            "Epoch [2], val_loss: 0.5352, val_acc: 0.8260\n",
            "Epoch [3], val_loss: 0.5352, val_acc: 0.8263\n",
            "Epoch [4], val_loss: 0.5352, val_acc: 0.8262\n",
            "Epoch [5], val_loss: 0.5351, val_acc: 0.8263\n",
            "Epoch [6], val_loss: 0.5351, val_acc: 0.8262\n",
            "Epoch [7], val_loss: 0.5353, val_acc: 0.8260\n",
            "Epoch [8], val_loss: 0.5352, val_acc: 0.8260\n",
            "Epoch [9], val_loss: 0.5353, val_acc: 0.8260\n",
            "Epoch [10], val_loss: 0.5352, val_acc: 0.8259\n",
            "Epoch [11], val_loss: 0.5352, val_acc: 0.8261\n",
            "Epoch [12], val_loss: 0.5352, val_acc: 0.8267\n",
            "Epoch [13], val_loss: 0.5352, val_acc: 0.8262\n",
            "Epoch [14], val_loss: 0.5352, val_acc: 0.8260\n",
            "Epoch [15], val_loss: 0.5352, val_acc: 0.8263\n",
            "Epoch [16], val_loss: 0.5353, val_acc: 0.8261\n",
            "Epoch [17], val_loss: 0.5352, val_acc: 0.8264\n",
            "Epoch [18], val_loss: 0.5352, val_acc: 0.8262\n",
            "Epoch [19], val_loss: 0.5352, val_acc: 0.8264\n",
            "Epoch [20], val_loss: 0.5352, val_acc: 0.8265\n",
            "Epoch [21], val_loss: 0.5352, val_acc: 0.8263\n",
            "Epoch [22], val_loss: 0.5352, val_acc: 0.8264\n",
            "Epoch [23], val_loss: 0.5352, val_acc: 0.8263\n",
            "Epoch [24], val_loss: 0.5352, val_acc: 0.8265\n"
          ]
        }
      ]
    },
    {
      "cell_type": "code",
      "metadata": {
        "id": "WkWtivObov9L",
        "colab": {
          "base_uri": "https://localhost:8080/",
          "height": 295
        },
        "outputId": "e08a0ea6-3884-4f89-92a0-f0d7b381f117"
      },
      "source": [
        "accuracies = [x['val_acc'] for x in history]\n",
        "plt.plot(accuracies, '-x')\n",
        "plt.xlabel('epoch')\n",
        "plt.ylabel('accuracy')\n",
        "plt.title('Accuracy vs. No. of epochs');"
      ],
      "execution_count": 16,
      "outputs": [
        {
          "output_type": "display_data",
          "data": {
            "image/png": "[encoded data removed]",
            "text/plain": [
              "<Figure size 432x288 with 1 Axes>"
            ]
          },
          "metadata": {
            "needs_background": "light"
          }
        }
      ]
    },
    {
      "cell_type": "code",
      "metadata": {
        "id": "rmOcAqSaov9L"
      },
      "source": [
        "test_dataset = EMNIST(root='data/', split=\"balanced\", train=False, transform=ToTensor())"
      ],
      "execution_count": 17,
      "outputs": []
    },
    {
      "cell_type": "code",
      "metadata": {
        "id": "EBZNot73ov9L",
        "colab": {
          "base_uri": "https://localhost:8080/"
        },
        "outputId": "59b50bce-469f-4ddc-fd4c-0f5e33045e2b"
      },
      "source": [
        "img, label = test_dataset[0]\n",
        "def predict_image(img, model):\n",
        "    xb = img.unsqueeze(0)\n",
        "    yb = model(xb)\n",
        "    _, preds  = torch.max(yb, dim=1)\n",
        "    return preds[0].item()\n",
        "predict_image(img, model)"
      ],
      "execution_count": 18,
      "outputs": [
        {
          "output_type": "execute_result",
          "data": {
            "text/plain": [
              "41"
            ]
          },
          "metadata": {},
          "execution_count": 18
        }
      ]
    },
    {
      "cell_type": "code",
      "metadata": {
        "id": "_VcJvurjov9L",
        "colab": {
          "base_uri": "https://localhost:8080/"
        },
        "outputId": "9b6675c1-3699-4899-823a-32d496c3f934"
      },
      "source": [
        "for i in range(20):\n",
        "    img, label = test_dataset[i]\n",
        "    pred = predict_image(img, model)\n",
        "    if pred == label:\n",
        "        print(\"Label: \", idx[label], \"Predict: \", idx[pred], \"Yes\")\n",
        "    else:\n",
        "        print(\"Label: \", idx[label], \"Predict: \", idx[pred], \"No\")\n"
      ],
      "execution_count": 19,
      "outputs": [
        {
          "output_type": "stream",
          "name": "stdout",
          "text": [
            "Label:  g Predict:  g Yes\n",
            "Label:  e Predict:  e Yes\n",
            "Label:  9 Predict:  9 Yes\n",
            "Label:  Q Predict:  Q Yes\n",
            "Label:  q Predict:  q Yes\n",
            "Label:  X Predict:  X Yes\n",
            "Label:  E Predict:  E Yes\n",
            "Label:  B Predict:  B Yes\n",
            "Label:  3 Predict:  3 Yes\n",
            "Label:  C Predict:  L No\n",
            "Label:  G Predict:  G Yes\n",
            "Label:  7 Predict:  7 Yes\n",
            "Label:  2 Predict:  Z No\n",
            "Label:  G Predict:  G Yes\n",
            "Label:  G Predict:  G Yes\n",
            "Label:  R Predict:  R Yes\n",
            "Label:  6 Predict:  6 Yes\n",
            "Label:  q Predict:  q Yes\n",
            "Label:  S Predict:  S Yes\n",
            "Label:  r Predict:  r Yes\n"
          ]
        }
      ]
    },
    {
      "cell_type": "code",
      "metadata": {
        "id": "lRt2ZsUVov9L",
        "colab": {
          "base_uri": "https://localhost:8080/"
        },
        "outputId": "29e64e37-a151-4a70-b614-71467ac3737e"
      },
      "source": [
        "test_loader = DataLoader(test_dataset, batch_size=256)\n",
        "result = evaluate(model, test_loader)\n",
        "result"
      ],
      "execution_count": 20,
      "outputs": [
        {
          "output_type": "execute_result",
          "data": {
            "text/plain": [
              "{'val_acc': 0.8235702514648438, 'val_loss': 0.5606080889701843}"
            ]
          },
          "metadata": {},
          "execution_count": 20
        }
      ]
    },
    {
      "cell_type": "code",
      "metadata": {
        "id": "6gbdEHVMov9M"
      },
      "source": [
        "# save and reload trained model\n",
        "torch.save(model.state_dict(), 'mnist-logistic.pth')"
      ],
      "execution_count": null,
      "outputs": []
    },
    {
      "cell_type": "code",
      "metadata": {
        "id": "WsF64CV8ov9M",
        "colab": {
          "base_uri": "https://localhost:8080/"
        },
        "outputId": "f611353d-d73c-4538-9649-cf73ac24add7"
      },
      "source": [
        "model.state_dict()"
      ],
      "execution_count": null,
      "outputs": [
        {
          "output_type": "execute_result",
          "data": {
            "text/plain": [
              "OrderedDict([('linear1.weight',\n",
              "              tensor([[ 0.0060,  0.0174,  0.0343,  ...,  0.0352, -0.0081, -0.0068],\n",
              "                      [-0.0152,  0.0158, -0.0242,  ..., -0.0137,  0.0272, -0.0141],\n",
              "                      [-0.0204,  0.0193,  0.0273,  ...,  0.0268,  0.0182,  0.0017],\n",
              "                      ...,\n",
              "                      [ 0.0109,  0.0109, -0.0330,  ..., -0.0246, -0.0297,  0.0300],\n",
              "                      [ 0.0300,  0.0270, -0.0102,  ...,  0.0303,  0.0294, -0.0327],\n",
              "                      [-0.0084, -0.0300,  0.0125,  ..., -0.0131, -0.0039,  0.0313]])),\n",
              "             ('linear1.bias',\n",
              "              tensor([-0.2534,  0.3337, -0.6185,  0.2065, -0.1075,  0.6803, -0.2381,  0.0504,\n",
              "                      -0.0123, -0.6776, -0.0940, -0.2568,  0.2950,  0.2300,  0.2237,  0.2398,\n",
              "                       0.1684,  0.7418,  0.1489,  0.0534,  0.3310,  0.6254,  0.1910, -0.0961,\n",
              "                      -0.3299, -0.1848, -0.1591, -0.2585, -0.1940,  0.8580,  0.9351, -0.0060,\n",
              "                      -0.1795, -0.4579, -0.0634,  0.1656, -0.0950,  0.7147, -0.0829,  0.4867,\n",
              "                      -0.7448,  0.4688,  0.3801, -0.4131, -0.0085, -0.2546,  0.5163,  0.4338,\n",
              "                       0.0379, -0.2933,  0.2979,  0.5045,  0.9792,  0.0837,  0.5273, -0.4191,\n",
              "                      -0.0692, -0.2613, -0.1069,  0.2766, -0.4357,  0.0980, -0.1548, -0.1730])),\n",
              "             ('linear2.weight',\n",
              "              tensor([[-0.3838,  0.0919,  0.0841,  ..., -0.0087,  0.1185, -0.3848],\n",
              "                      [ 0.4604,  0.5155,  0.2931,  ..., -0.0326,  0.2988,  0.1338],\n",
              "                      [ 0.2301,  0.1070,  0.1236,  ..., -0.2365, -0.2322, -0.2533],\n",
              "                      ...,\n",
              "                      [-0.6491, -0.3262, -0.4747,  ...,  0.2004,  0.0293,  0.2035],\n",
              "                      [-0.0908, -0.2191, -0.0377,  ...,  0.6100, -0.2667,  0.5703],\n",
              "                      [-0.3219, -0.5278, -0.3817,  ...,  0.2144,  0.0103, -0.0444]])),\n",
              "             ('linear2.bias',\n",
              "              tensor([ 0.1754,  0.6909,  0.1782,  0.1793,  0.0765, -0.0075,  0.1121,  0.5278,\n",
              "                       0.8282, -0.2300,  0.6700,  0.6442,  0.1494,  0.8959, -0.1585, -0.1369,\n",
              "                      -0.4068, -0.2490, -0.0079, -0.0086,  0.9603,  0.6300, -0.3575, -0.3461,\n",
              "                       0.4316,  0.1329, -0.1976,  0.2588,  0.7373, -0.4876, -0.4736, -0.0440])),\n",
              "             ('linear3.weight',\n",
              "              tensor([[-0.2940,  0.4777,  0.6247,  ..., -0.3547,  0.2402, -0.3782],\n",
              "                      [ 0.1996, -0.3320,  0.6469,  ...,  1.0396, -0.3506, -0.5288],\n",
              "                      [ 0.1036, -0.3114, -0.4464,  ...,  0.3816, -0.5794, -0.0071],\n",
              "                      ...,\n",
              "                      [ 0.1856,  0.1921,  0.2123,  ..., -0.1232, -0.1297,  0.2389],\n",
              "                      [-0.0594, -0.2352,  0.3540,  ..., -0.3492, -0.0545,  0.5269],\n",
              "                      [-0.1270, -0.5614, -0.2101,  ...,  0.6612, -0.0038,  0.7120]])),\n",
              "             ('linear3.bias',\n",
              "              tensor([-0.0312, -0.0309, -0.2879, -0.2137, -0.3848, -0.1066, -0.1306, -0.2235,\n",
              "                       0.6441, -0.1147,  0.1637,  0.2227,  0.0297,  0.2051, -0.3154,  0.3437,\n",
              "                       0.2040,  0.0571, -0.4872,  0.1473,  0.2661,  0.6477, -0.1244, -0.1864,\n",
              "                      -0.2803,  0.1604,  0.4615,  0.2562, -0.0411,  0.0762, -0.4270, -0.0710,\n",
              "                       0.1669, -0.1130,  0.4339, -0.3097, -0.3426, -0.1548,  0.0360, -0.2083,\n",
              "                      -0.2774,  0.3409,  0.2025, -0.5123,  0.3529, -0.8311, -0.0784]))])"
            ]
          },
          "metadata": {},
          "execution_count": 25
        }
      ]
    },
    {
      "cell_type": "code",
      "metadata": {
        "id": "sSjirz-qov9M",
        "outputId": "0760496e-a8f6-453a-b403-036798fd59f5"
      },
      "source": [
        "input_size = 784\n",
        "hidden_size1 = 64\n",
        "hidden_size2 = 32\n",
        "num_classes = 10\n",
        "model2 = model = MnistModel(input_size, hidden_size1, hidden_size2, out_size=num_classes)\n",
        "model2.state_dict()"
      ],
      "execution_count": null,
      "outputs": [
        {
          "data": {
            "text/plain": [
              "OrderedDict([('linear1.weight',\n",
              "              tensor([[ 0.0044,  0.0217,  0.0317,  ...,  0.0072,  0.0097, -0.0073],\n",
              "                      [-0.0052, -0.0343,  0.0246,  ..., -0.0137,  0.0184, -0.0073],\n",
              "                      [-0.0188, -0.0109,  0.0276,  ...,  0.0200,  0.0030, -0.0246],\n",
              "                      ...,\n",
              "                      [-0.0067, -0.0109, -0.0335,  ..., -0.0145, -0.0279, -0.0021],\n",
              "                      [ 0.0277,  0.0109,  0.0265,  ..., -0.0095, -0.0229,  0.0178],\n",
              "                      [-0.0115,  0.0310, -0.0208,  ..., -0.0125,  0.0154, -0.0272]])),\n",
              "             ('linear1.bias',\n",
              "              tensor([-0.0173, -0.0074, -0.0069, -0.0184, -0.0227, -0.0263,  0.0020, -0.0291,\n",
              "                       0.0151, -0.0125, -0.0288,  0.0165,  0.0323,  0.0263,  0.0126,  0.0230,\n",
              "                       0.0099,  0.0007, -0.0045,  0.0347, -0.0136,  0.0208, -0.0099, -0.0227,\n",
              "                      -0.0186, -0.0130,  0.0064,  0.0105, -0.0159, -0.0104,  0.0232, -0.0146,\n",
              "                       0.0167, -0.0334, -0.0228, -0.0178, -0.0342,  0.0020, -0.0111, -0.0136,\n",
              "                      -0.0147, -0.0257,  0.0103,  0.0187,  0.0148,  0.0337, -0.0329,  0.0010,\n",
              "                      -0.0061, -0.0110, -0.0191, -0.0254,  0.0130, -0.0003, -0.0007,  0.0126,\n",
              "                       0.0325, -0.0267, -0.0322,  0.0331, -0.0150,  0.0326,  0.0217,  0.0008])),\n",
              "             ('linear2.weight',\n",
              "              tensor([[ 0.0357, -0.0606,  0.0767,  ...,  0.0007, -0.0933,  0.1194],\n",
              "                      [-0.0249, -0.1227,  0.0712,  ..., -0.1034, -0.0774,  0.0203],\n",
              "                      [-0.0281, -0.1031,  0.0069,  ...,  0.1001, -0.0173, -0.1027],\n",
              "                      ...,\n",
              "                      [ 0.1220, -0.0749, -0.0513,  ...,  0.1089,  0.0807,  0.0786],\n",
              "                      [ 0.1131,  0.1214,  0.0535,  ...,  0.0645, -0.0966, -0.0050],\n",
              "                      [ 0.0114,  0.1230,  0.0339,  ..., -0.1044,  0.0120,  0.1207]])),\n",
              "             ('linear2.bias',\n",
              "              tensor([ 0.0900, -0.0225,  0.0031,  0.0842,  0.0315, -0.0503,  0.0210, -0.0509,\n",
              "                      -0.0567, -0.0808, -0.1060,  0.0151, -0.0762, -0.1150, -0.1233, -0.1227,\n",
              "                       0.0919,  0.0988, -0.0194,  0.0593, -0.0107, -0.0029,  0.0592, -0.0539,\n",
              "                       0.0724, -0.0983,  0.0646, -0.0712, -0.0226,  0.0238,  0.0767, -0.0508])),\n",
              "             ('linear3.weight',\n",
              "              tensor([[ 0.0402, -0.0268,  0.0062, -0.0485,  0.0813, -0.1434,  0.1526, -0.0850,\n",
              "                        0.0496, -0.0033, -0.1042, -0.0999,  0.0907, -0.1376,  0.0650,  0.1266,\n",
              "                        0.1173, -0.1617,  0.0528,  0.0285,  0.0047,  0.0302, -0.0782, -0.0881,\n",
              "                        0.1305,  0.1604,  0.0385,  0.0525, -0.1290,  0.1490, -0.0436, -0.1511],\n",
              "                      [ 0.0479, -0.1516,  0.0886,  0.0496, -0.0496, -0.0455,  0.1678, -0.0642,\n",
              "                        0.0684,  0.0442, -0.0215,  0.0316,  0.1097, -0.0183,  0.1008,  0.1612,\n",
              "                       -0.1489, -0.0130, -0.1039,  0.1519,  0.1608,  0.0249, -0.1646, -0.0958,\n",
              "                       -0.1472,  0.0765, -0.0784,  0.1022,  0.0261, -0.1371,  0.1185,  0.0155],\n",
              "                      [-0.0993, -0.1372,  0.1355,  0.0009,  0.0307, -0.1648, -0.1050,  0.0622,\n",
              "                        0.1005,  0.0289,  0.1402, -0.1507, -0.0331,  0.0461, -0.0901,  0.1686,\n",
              "                        0.0998, -0.0594, -0.0642, -0.1212,  0.0266, -0.1521,  0.0659, -0.1587,\n",
              "                       -0.1367,  0.0539,  0.0871,  0.0995,  0.0295,  0.1697, -0.1466, -0.1393],\n",
              "                      [ 0.1159, -0.0460,  0.1407, -0.0267,  0.0430, -0.1019,  0.0149,  0.0264,\n",
              "                       -0.0536,  0.0607,  0.1487,  0.0761, -0.0714,  0.1651, -0.0679, -0.1447,\n",
              "                       -0.0321, -0.1331,  0.0215, -0.1103, -0.0890,  0.1559, -0.1062, -0.0864,\n",
              "                        0.1332,  0.0798, -0.1021, -0.1569,  0.0786, -0.1228,  0.0845, -0.1156],\n",
              "                      [ 0.0036,  0.1544, -0.0552,  0.0929,  0.0843,  0.0098,  0.0780,  0.0190,\n",
              "                       -0.1557, -0.0187,  0.1566,  0.1345, -0.0104, -0.0903,  0.0912, -0.0961,\n",
              "                        0.0195,  0.0356, -0.1271, -0.1089,  0.0662, -0.1189, -0.0034,  0.1645,\n",
              "                        0.0155,  0.1624,  0.1641, -0.0210,  0.0045,  0.0023,  0.0421,  0.1027],\n",
              "                      [-0.0067, -0.0353,  0.0855, -0.0615, -0.1383,  0.0316,  0.0398, -0.0066,\n",
              "                        0.1374,  0.0855,  0.0262,  0.0803, -0.0219,  0.0143, -0.0918, -0.0593,\n",
              "                       -0.1447,  0.0546,  0.1618, -0.0611, -0.0043,  0.0713, -0.1435, -0.0199,\n",
              "                       -0.1024,  0.1016, -0.1648,  0.1015, -0.1245, -0.0167,  0.0415, -0.0944],\n",
              "                      [-0.1381,  0.1674, -0.0566,  0.1072, -0.1723, -0.0894, -0.0631,  0.0839,\n",
              "                       -0.0620, -0.1233, -0.1092, -0.1384,  0.0122, -0.0071,  0.0397, -0.0917,\n",
              "                        0.0237, -0.0444,  0.1623,  0.0667,  0.0669,  0.0117, -0.1020, -0.0388,\n",
              "                        0.1626,  0.1296, -0.0612,  0.0888,  0.1417,  0.0776,  0.1698,  0.0486],\n",
              "                      [ 0.1672, -0.0944,  0.1112,  0.1746, -0.1495,  0.0923, -0.0282,  0.0855,\n",
              "                        0.1408,  0.0952,  0.0467, -0.0300,  0.0094, -0.0185,  0.0635,  0.1757,\n",
              "                        0.1296,  0.1338,  0.0878,  0.0681,  0.0975,  0.1164, -0.1241, -0.0681,\n",
              "                        0.0660,  0.1680, -0.0948,  0.1434,  0.1514,  0.1767,  0.1411,  0.0833],\n",
              "                      [-0.0553, -0.0478, -0.0201, -0.1355, -0.1015,  0.0626, -0.0431, -0.0702,\n",
              "                       -0.0282, -0.0681,  0.1392,  0.0018,  0.1419,  0.1440,  0.0103, -0.1382,\n",
              "                       -0.0426,  0.1210, -0.1516,  0.0429, -0.0269, -0.0348, -0.1286, -0.1083,\n",
              "                       -0.0142,  0.0496,  0.0198, -0.1430, -0.0563,  0.0841, -0.0469, -0.0170],\n",
              "                      [-0.0292,  0.1303, -0.0157,  0.0332, -0.0538, -0.1527, -0.0637,  0.1068,\n",
              "                        0.0621, -0.1322, -0.1242, -0.1718,  0.0101, -0.0365, -0.0673, -0.0910,\n",
              "                       -0.0306, -0.1443,  0.1275, -0.0890,  0.1287, -0.0282, -0.1585, -0.0409,\n",
              "                       -0.1487,  0.0546,  0.0952,  0.0005,  0.0869,  0.1145,  0.0502,  0.0585]])),\n",
              "             ('linear3.bias',\n",
              "              tensor([ 0.0827,  0.1148, -0.0783,  0.0854, -0.1241,  0.1191, -0.1405, -0.1509,\n",
              "                       0.0820, -0.0081]))])"
            ]
          },
          "execution_count": 130,
          "metadata": {},
          "output_type": "execute_result"
        }
      ]
    },
    {
      "cell_type": "code",
      "metadata": {
        "id": "FDxX5lo8ov9M",
        "outputId": "4d55f12e-6940-43c4-ecfe-39ebf747d8e4"
      },
      "source": [
        "result = evaluate(model2, test_loader)\n",
        "result"
      ],
      "execution_count": null,
      "outputs": [
        {
          "data": {
            "text/plain": [
              "{'val_loss': 2.310168743133545, 'val_acc': 0.06074218824505806}"
            ]
          },
          "execution_count": 131,
          "metadata": {},
          "output_type": "execute_result"
        }
      ]
    },
    {
      "cell_type": "code",
      "metadata": {
        "id": "QjZ6UqDAov9M",
        "outputId": "b692c972-193a-4ff0-ca89-fd9598fa5d0f"
      },
      "source": [
        "model2.load_state_dict(torch.load('mnist-logistic.pth'))\n",
        "model2.state_dict()"
      ],
      "execution_count": null,
      "outputs": [
        {
          "data": {
            "text/plain": [
              "OrderedDict([('linear1.weight',\n",
              "              tensor([[ 0.0215, -0.0322, -0.0041,  ..., -0.0314, -0.0230,  0.0191],\n",
              "                      [-0.0227, -0.0134,  0.0100,  ..., -0.0038,  0.0185, -0.0087],\n",
              "                      [-0.0335,  0.0075,  0.0121,  ...,  0.0191,  0.0255, -0.0066],\n",
              "                      ...,\n",
              "                      [-0.0256,  0.0026,  0.0127,  ...,  0.0038, -0.0354, -0.0253],\n",
              "                      [-0.0311, -0.0211,  0.0154,  ..., -0.0134, -0.0356,  0.0279],\n",
              "                      [-0.0184,  0.0171,  0.0148,  ...,  0.0027, -0.0344, -0.0023]])),\n",
              "             ('linear1.bias',\n",
              "              tensor([ 0.0552, -0.0624,  0.1588,  0.0630, -0.0135, -0.1381,  0.0226, -0.1442,\n",
              "                      -0.2062,  0.0027, -0.2543, -0.0334, -0.2168, -0.0311,  0.1815,  0.0329,\n",
              "                       0.2390, -0.0144,  0.0449,  0.0307,  0.0366, -0.0079,  0.0092,  0.2058,\n",
              "                       0.4038,  0.2215, -0.0295,  0.0552,  0.0331, -0.1183,  0.0534,  0.3658,\n",
              "                       0.2011, -0.0910,  0.0712,  0.0455, -0.0250,  0.1031, -0.1740,  0.1493,\n",
              "                       0.0935,  0.0966, -0.1088,  0.2247, -0.0338, -0.1289, -0.0644,  0.0138,\n",
              "                       0.0754,  0.0977, -0.0278, -0.1314,  0.0352, -0.0176,  0.0992,  0.2113,\n",
              "                      -0.0341,  0.0188,  0.0379,  0.0081,  0.1239,  0.0302, -0.2616,  0.1376])),\n",
              "             ('linear2.weight',\n",
              "              tensor([[-0.0528, -0.0634,  0.3638,  ...,  0.0034, -0.0076, -0.2194],\n",
              "                      [ 0.1486,  0.2547,  0.0609,  ..., -0.0441,  0.1329, -0.2704],\n",
              "                      [-0.0441,  0.1611,  0.1248,  ..., -0.1080, -0.1740,  0.3149],\n",
              "                      ...,\n",
              "                      [-0.1474,  0.0779, -0.1642,  ..., -0.2646,  0.3062, -0.1187],\n",
              "                      [-0.0990,  0.1339, -0.2543,  ...,  0.0975, -0.1446,  0.4917],\n",
              "                      [ 0.1149,  0.4178, -0.0270,  ..., -0.0127,  0.1828,  0.1469]])),\n",
              "             ('linear2.bias',\n",
              "              tensor([ 0.1106,  0.3412,  0.1067,  0.0170, -0.2073,  0.3138,  0.4662,  0.1039,\n",
              "                      -0.0033,  0.1618, -0.0272,  0.0924,  0.1431, -0.0420,  0.3566,  0.2955,\n",
              "                       0.0208,  0.0047,  0.3023, -0.0065, -0.1876,  0.1219,  0.0042, -0.0888,\n",
              "                       0.0013,  0.0207,  0.3718,  0.4335,  0.5018, -0.0171,  0.0999,  0.0946])),\n",
              "             ('linear3.weight',\n",
              "              tensor([[-2.4730e-02, -1.4069e-03, -2.8610e-01, -2.3334e-01,  6.0726e-01,\n",
              "                       -2.6640e-01, -4.6691e-01, -1.0710e-01,  1.7409e-01,  3.7945e-01,\n",
              "                       -2.7959e-02,  5.8758e-01, -7.0214e-02,  4.3493e-01, -2.3506e-01,\n",
              "                       -1.3879e-01, -1.6155e-01, -1.2029e-01, -5.5231e-03, -3.2916e-01,\n",
              "                       -2.1153e-01, -5.9449e-01, -2.2493e-01, -1.8262e-01, -1.0015e-01,\n",
              "                        7.7557e-01,  3.1729e-01,  6.5524e-01, -3.6266e-01,  8.0345e-01,\n",
              "                       -5.7111e-01,  2.1464e-01],\n",
              "                      [ 4.4757e-01, -4.6230e-01,  9.4065e-01,  6.5076e-01, -1.5782e-01,\n",
              "                       -7.9371e-01,  5.5194e-01,  5.8497e-02,  3.4419e-01, -2.7840e-01,\n",
              "                       -2.2879e-01, -2.4463e-01, -1.6960e-01, -4.2892e-02, -4.0216e-01,\n",
              "                       -1.7328e-01, -5.5561e-01, -2.0288e-01, -3.0726e-01, -9.7105e-02,\n",
              "                        2.0619e-01, -8.1600e-02,  2.4441e-01,  7.4683e-02, -7.6434e-02,\n",
              "                       -2.0397e-01, -1.9820e-01, -4.4047e-01, -3.3971e-01, -1.9491e-01,\n",
              "                        1.0308e+00,  2.3718e-02],\n",
              "                      [-5.6395e-01,  4.7819e-01,  1.3317e-01,  1.0962e-01, -1.9403e-01,\n",
              "                        2.1730e-01, -6.0485e-01, -5.4750e-01, -1.1997e-02, -3.1684e-01,\n",
              "                       -3.3824e-01,  2.6023e-01, -1.7996e-01, -2.1761e-01, -2.5905e-01,\n",
              "                       -7.7296e-01, -1.0232e-01,  3.3836e-02, -1.8773e-02,  1.0977e+00,\n",
              "                       -2.0503e-01,  4.8648e-01,  1.1245e-01,  2.2590e-01, -6.8513e-03,\n",
              "                        4.0887e-02, -6.5187e-01,  3.3743e-01, -9.5530e-04,  2.4990e-01,\n",
              "                        3.1492e-01,  7.4598e-01],\n",
              "                      [-3.5693e-01,  6.4344e-02, -6.8689e-01, -4.8250e-01, -1.2987e-01,\n",
              "                        7.7758e-01, -2.0132e-01, -1.9921e-01, -4.1685e-01,  6.3820e-01,\n",
              "                        9.3686e-01, -2.1231e-01,  2.8535e-02, -3.5633e-01, -3.8392e-01,\n",
              "                        5.5661e-01, -1.6907e-01, -8.4729e-02, -1.3681e-01, -2.1759e-01,\n",
              "                        2.0154e-01,  1.2122e-01, -8.7059e-02, -8.7888e-02, -5.1321e-02,\n",
              "                       -3.5846e-02, -3.9443e-01,  4.3168e-02, -1.5517e-01, -2.3038e-01,\n",
              "                        9.1265e-01,  8.8671e-02],\n",
              "                      [ 1.3762e-01, -5.3375e-01, -2.0487e-01,  9.3565e-03,  1.7808e-01,\n",
              "                       -6.3132e-01, -3.6942e-02, -3.4271e-01,  7.3377e-01, -6.5492e-01,\n",
              "                        5.7939e-02, -4.1476e-01, -5.1586e-02, -1.9976e-01,  1.1572e+00,\n",
              "                       -6.3650e-01, -3.6602e-01,  7.1837e-02,  1.1945e+00,  3.8027e-01,\n",
              "                       -1.3005e-01, -6.6571e-01, -8.1258e-02, -1.0866e-01,  8.3995e-03,\n",
              "                       -7.5392e-02,  6.7759e-01, -3.1253e-01,  5.6090e-01, -1.8166e-01,\n",
              "                        5.4416e-02, -1.4425e-01],\n",
              "                      [ 2.1889e-01, -1.7127e-01,  3.7783e-01, -3.1096e-01, -3.3793e-01,\n",
              "                        4.7536e-01, -6.0932e-01,  3.6200e-01,  5.4867e-02,  6.5617e-01,\n",
              "                       -6.1099e-01,  1.7719e-01,  6.5458e-01, -5.6821e-02,  2.1407e-01,\n",
              "                        1.2524e+00,  3.5395e-01, -1.9772e-01, -2.5560e-01, -1.8137e-01,\n",
              "                        1.0764e-01,  4.2500e-01, -1.7164e-01,  5.1229e-01,  1.7021e-01,\n",
              "                        1.8411e-01, -5.7319e-01, -4.1629e-02,  2.8868e-01, -3.0426e-01,\n",
              "                       -7.3636e-01, -5.6940e-01],\n",
              "                      [ 1.0200e+00, -1.9267e-01, -2.1514e-01,  1.6088e-01, -1.2767e-01,\n",
              "                       -8.1336e-01, -6.7958e-01,  3.5544e-01, -5.3291e-01,  6.4612e-02,\n",
              "                       -6.4441e-02,  7.5586e-01, -3.7885e-01, -6.4454e-01,  5.4192e-02,\n",
              "                       -6.3571e-02,  1.0180e-01,  2.0656e-01, -4.6293e-01, -1.7072e-01,\n",
              "                        2.6718e-01,  3.7433e-01,  5.9971e-01, -3.3525e-01,  1.7951e-01,\n",
              "                        7.9924e-01,  6.7910e-01, -1.6961e-01, -1.9821e-01, -2.8677e-01,\n",
              "                       -7.2861e-01, -2.2894e-01],\n",
              "                      [-5.0879e-01, -2.5103e-01,  1.0548e-01, -1.1724e-01, -7.4879e-02,\n",
              "                        1.7193e-01,  8.0435e-01,  9.2727e-02,  3.8040e-01,  1.4110e-01,\n",
              "                        3.6044e-01, -4.2307e-01, -1.7689e-01,  1.0025e+00,  2.2775e-01,\n",
              "                       -7.1264e-01,  8.8540e-01, -3.5741e-01, -1.6840e-01,  9.4733e-01,\n",
              "                       -3.3754e-01, -2.3521e-01,  1.4903e-03, -2.8620e-01, -3.7834e-01,\n",
              "                       -1.4166e-01, -6.9152e-01, -2.2125e-01, -5.2296e-01, -1.4198e-01,\n",
              "                        2.9609e-01,  1.2666e-01],\n",
              "                      [-1.8415e-02,  5.7008e-01, -9.1054e-02, -7.1408e-02, -2.3022e-01,\n",
              "                        6.4653e-02,  4.7743e-01,  4.1741e-01, -3.3259e-01,  2.0744e-01,\n",
              "                        8.6999e-02, -2.8283e-01, -4.2604e-01, -1.4375e-01, -6.7795e-01,\n",
              "                        9.4974e-02, -2.9515e-01, -7.3246e-02, -3.9770e-01, -8.0885e-01,\n",
              "                        4.1419e-01,  4.4091e-01, -2.7289e-01, -4.7484e-01,  7.2076e-02,\n",
              "                       -4.7504e-01,  4.8315e-01,  8.8190e-01,  8.9754e-01, -1.0021e-01,\n",
              "                       -8.9459e-02,  4.3468e-01],\n",
              "                      [-5.4647e-01,  5.4425e-01, -1.0531e-01, -1.4831e-01,  7.1729e-02,\n",
              "                        8.7894e-01,  8.7111e-01,  1.1448e-02, -1.6250e-01, -2.0054e-01,\n",
              "                       -1.3085e-01, -3.8405e-01,  5.0159e-01,  1.9686e-01,  7.2638e-01,\n",
              "                        2.5245e-01, -1.4549e-01,  3.6600e-01,  8.2527e-01, -5.9191e-01,\n",
              "                       -1.0290e-02, -2.5549e-01,  3.0589e-01, -5.2991e-04,  2.9559e-01,\n",
              "                       -2.1056e-01,  5.5136e-01, -3.3881e-01, -3.7958e-01,  1.4021e-01,\n",
              "                       -2.5665e-01, -7.2991e-01]])),\n",
              "             ('linear3.bias',\n",
              "              tensor([-0.0375, -0.2273,  0.0047,  0.1394,  0.1106,  0.2630, -0.3920, -0.4460,\n",
              "                       0.2646,  0.0872]))])"
            ]
          },
          "execution_count": 132,
          "metadata": {},
          "output_type": "execute_result"
        }
      ]
    },
    {
      "cell_type": "code",
      "metadata": {
        "id": "QPl2tM91ov9M",
        "outputId": "730475a7-4d94-4f68-9667-8904e71d2e4c"
      },
      "source": [
        "result = evaluate(model2, test_loader)\n",
        "result"
      ],
      "execution_count": null,
      "outputs": [
        {
          "data": {
            "text/plain": [
              "{'val_loss': 0.07747671753168106, 'val_acc': 0.975878894329071}"
            ]
          },
          "execution_count": 133,
          "metadata": {},
          "output_type": "execute_result"
        }
      ]
    }
  ]
}